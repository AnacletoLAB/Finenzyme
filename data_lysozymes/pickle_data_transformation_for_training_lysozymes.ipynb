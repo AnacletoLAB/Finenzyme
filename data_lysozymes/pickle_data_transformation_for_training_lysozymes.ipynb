{
 "cells": [
  {
   "cell_type": "code",
   "execution_count": 1,
   "id": "928cd0c1-4f79-4df6-af4f-925abfdef3e3",
   "metadata": {},
   "outputs": [],
   "source": [
    "# this notebook should stay in root\n",
    "import json\n",
    "import pickle\n",
    "\n",
    "# Load the JSON data\n",
    "with open('filtered_data_PF00959.p', 'rb') as file:\n",
    "    data = pickle.load(file)\n",
    "\n",
    "with open('random_selection_2000_PF00959.p', 'rb') as file:\n",
    "    data_ood = pickle.load(file)"
   ]
  },
  {
   "cell_type": "code",
   "execution_count": 2,
   "id": "3ef13d0c-6862-4957-a65e-14f95df9656a",
   "metadata": {},
   "outputs": [
    {
     "data": {
      "text/plain": [
       "{'metadata': {'accession': 'A0A009F987',\n",
       "  'name': 'Lysozyme',\n",
       "  'source_database': 'unreviewed',\n",
       "  'length': 164,\n",
       "  'source_organism': {'taxId': '1310618',\n",
       "   'scientificName': 'Acinetobacter baumannii 118362',\n",
       "   'fullName': 'Acinetobacter baumannii 118362'}},\n",
       " 'entries': [{'accession': 'PF00959',\n",
       "   'entry_protein_locations': [{'fragments': [{'start': 65,\n",
       "       'end': 163,\n",
       "       'dc-status': 'CONTINUOUS'}],\n",
       "     'model': 'PF00959',\n",
       "     'score': 5e-21}],\n",
       "   'protein_length': 164,\n",
       "   'source_database': 'pfam',\n",
       "   'entry_type': 'domain',\n",
       "   'entry_integrated': 'ipr002196'}],\n",
       " 'sequence': {'metadata': {'accession': 'A0A009F987',\n",
       "   'id': 'A0A009F987_ACIBA',\n",
       "   'source_organism': {'taxId': '1310618',\n",
       "    'scientificName': 'Acinetobacter baumannii 118362',\n",
       "    'fullName': 'Acinetobacter baumannii 118362'},\n",
       "   'name': 'Lysozyme',\n",
       "   'description': None,\n",
       "   'length': 164,\n",
       "   'sequence': 'MTTKPFFDAARVIAGGKLTQAQVDELNKVVNKLAPGGKTTSDFGVNLITGFEGTRFTAYDDGVGVWTIGTGTTVYPNGVKVKKGDTCTAEQAKTYFKHDLAKFEKTVNESVTVPINQNQFDALVSLTYNIGSGAFKGSTLLKLLNKGDYQGAADQFLVWNKAGG',\n",
       "   'proteome': None,\n",
       "   'gene': 'J517_4475',\n",
       "   'go_terms': [{'identifier': 'GO:0003796',\n",
       "     'name': 'lysozyme activity',\n",
       "     'category': {'code': 'F', 'name': 'molecular_function'}},\n",
       "    {'identifier': 'GO:0009253',\n",
       "     'name': 'peptidoglycan catabolic process',\n",
       "     'category': {'code': 'P', 'name': 'biological_process'}},\n",
       "    {'identifier': 'GO:0016998',\n",
       "     'name': 'cell wall macromolecule catabolic process',\n",
       "     'category': {'code': 'P', 'name': 'biological_process'}}],\n",
       "   'protein_evidence': 3,\n",
       "   'source_database': 'unreviewed',\n",
       "   'is_fragment': True,\n",
       "   'ida_accession': 'b8801d01d6e63f79260281461d758ae8019f3053',\n",
       "   'counters': {'domain_architectures': 18190,\n",
       "    'entries': 11,\n",
       "    'isoforms': 0,\n",
       "    'proteomes': 0,\n",
       "    'sets': 2,\n",
       "    'structures': 0,\n",
       "    'taxa': 1,\n",
       "    'dbEntries': {'cdd': 1,\n",
       "     'ssf': 1,\n",
       "     'hamap': 1,\n",
       "     'cathgene3d': 1,\n",
       "     'pfam': 1,\n",
       "     'panther': 1,\n",
       "     'interpro': 5},\n",
       "    'proteome': 0,\n",
       "    'taxonomy': 1,\n",
       "    'similar_proteins': 18190}}}}"
      ]
     },
     "execution_count": 2,
     "metadata": {},
     "output_type": "execute_result"
    }
   ],
   "source": [
    "data[0]"
   ]
  },
  {
   "cell_type": "code",
   "execution_count": 3,
   "id": "9de9bb6a",
   "metadata": {},
   "outputs": [],
   "source": [
    "# Extract accessions from random_selection_data\n",
    "ood_accessions = {entry['metadata']['accession'] for entry in data_ood}\n",
    "\n",
    "# Filter out entries in filtered_data that are in random_selection_data\n",
    "filtered_data = [entry for entry in data if entry['metadata']['accession'] not in ood_accessions]"
   ]
  },
  {
   "cell_type": "code",
   "execution_count": 4,
   "id": "3a030273",
   "metadata": {},
   "outputs": [
    {
     "data": {
      "text/plain": [
       "17473"
      ]
     },
     "execution_count": 4,
     "metadata": {},
     "output_type": "execute_result"
    }
   ],
   "source": [
    "len(filtered_data)"
   ]
  },
  {
   "cell_type": "code",
   "execution_count": 9,
   "id": "003090d6-6d57-424b-a0b1-7b373575af47",
   "metadata": {},
   "outputs": [],
   "source": [
    "def lysozyme_to_fasta(sequences, file_name=\"output.fasta\"):\n",
    "    with open(file_name, 'w') as file:\n",
    "        for seq in sequences:\n",
    "            # Extracting accession identifier and sequence\n",
    "            accession = seq['sequence']['metadata']['accession']\n",
    "            sequence = seq['sequence']['metadata']['sequence']\n",
    "            # Writing the header with accession identifier\n",
    "            file.write(f\">{accession}\\n\")\n",
    "            # Writing the amino acid sequence\n",
    "            file.write(f\"{sequence}\\n\")\n",
    "\n",
    "lysozyme_to_fasta(filtered_data, file_name=\"lysozymes_trainingdb.fasta\")"
   ]
  },
  {
   "cell_type": "code",
   "execution_count": 5,
   "id": "091d8de3-e734-464e-a0fb-7ffedc4cf864",
   "metadata": {},
   "outputs": [],
   "source": [
    "# for DRY RUN \n",
    "#filtered_data = filtered_data[:100]\n",
    "#len(filtered_data)"
   ]
  },
  {
   "cell_type": "code",
   "execution_count": 6,
   "id": "f2d1780f-0d2f-4cac-9ffc-1961008cc94f",
   "metadata": {},
   "outputs": [],
   "source": [
    "import matplotlib.pyplot as plt\n",
    "import seaborn as sns\n",
    "import pandas as pd\n",
    "import numpy as np\n",
    "\n",
    "def compute_len(data):\n",
    "    len_all = []\n",
    "    oo = 0\n",
    "    for entry in data:\n",
    "        try:\n",
    "            tmp_len = entry['sequence']['metadata']['length']\n",
    "        except KeyError: \n",
    "            tmp_len = entry['sequence']['length']\n",
    "        if tmp_len <= 1300:\n",
    "            len_all.append(tmp_len)\n",
    "        else:\n",
    "            oo+=1\n",
    "    print('00: ', oo)\n",
    "    return len_all\n",
    "\n",
    "def plot_histogram(data, bin_step, name):\n",
    "    # Create the histogram\n",
    "    max_val = max(data)\n",
    "    bin_edges = list(range(0, max_val + bin_step, bin_step))\n",
    "    #print(bin_edges)\n",
    "    plt.figure(figsize=(11, 6))\n",
    "    n, bins, _ = plt.hist(data, bins=bin_edges, color=(180/255, 211/255, 178/255), edgecolor='black', alpha=0.99, rwidth=0.87)    \n",
    "    print(n)\n",
    "    print(bins)\n",
    "    # Title, labels, and legend\n",
    "    plt.title('Histogram of Sequence Length Ranges')\n",
    "    plt.xlabel('Sequence Length')\n",
    "    plt.ylabel('Number of Instances')\n",
    "    plt.legend()\n",
    "    plt.savefig(name + '_Histogram.svg')\n",
    "    # Display the plot\n",
    "    plt.show()"
   ]
  },
  {
   "cell_type": "code",
   "execution_count": 8,
   "id": "5e792ac7-9a87-46a7-a988-dd420c7ec11c",
   "metadata": {},
   "outputs": [
    {
     "name": "stderr",
     "output_type": "stream",
     "text": [
      "No artists with labels found to put in legend.  Note that artists whose label start with an underscore are ignored when legend() is called with no argument.\n"
     ]
    },
    {
     "name": "stdout",
     "output_type": "stream",
     "text": [
      "00:  2\n",
      "[1.574e+03 3.020e+02 9.700e+01 1.200e+01 1.200e+01 1.000e+00]\n",
      "[   0.  200.  400.  600.  800. 1000. 1200.]\n"
     ]
    },
    {
     "data": {
      "image/png": "[encoded data removed]",
      "text/plain": [
       "<Figure size 1100x600 with 1 Axes>"
      ]
     },
     "metadata": {},
     "output_type": "display_data"
    }
   ],
   "source": [
    "#with open('data/sampled_data_validation_2000_PF00959.p', 'rb') as file:\n",
    "#    data_val = pickle.load(file)\n",
    "#with open('data_random_selection_uniParc/random_selection_2000.p', 'rb') as file:\n",
    "#    data_val = pickle.load(file)\n",
    "#print(data_val[0])\n",
    "with open('sampled_data_validation_2000_PF00959.p', 'rb') as file:\n",
    "    data_val = pickle.load(file)\n",
    "\n",
    "len_data = compute_len(data_val) #data_ood\n",
    "plot_histogram(len_data, 200, 'PF_validation_2000')"
   ]
  },
  {
   "cell_type": "code",
   "execution_count": 170,
   "id": "1841b4ba",
   "metadata": {},
   "outputs": [],
   "source": [
    "import random\n",
    "# Ensure the filtered_data has at least 2000 entries\n",
    "sampled_data = None\n",
    "if len(filtered_data) < 2000:\n",
    "    print(\"There are less than 2000 entries in the filtered_data!\")\n",
    "else:\n",
    "    sampled_data = random.sample(filtered_data, 2000)\n"
   ]
  },
  {
   "cell_type": "code",
   "execution_count": 23,
   "id": "420c7041",
   "metadata": {},
   "outputs": [
    {
     "name": "stdout",
     "output_type": "stream",
     "text": [
      "There are no duplicates in the filtered_data.\n"
     ]
    }
   ],
   "source": [
    "# Extract accessions from filtered_data\n",
    "accessions = [entry['metadata']['accession'] for entry in filtered_data]\n",
    "\n",
    "# Check for duplicates\n",
    "unique_accessions = set(accessions)\n",
    "if len(unique_accessions) != len(accessions):\n",
    "    print(f\"There are {len(accessions) - len(unique_accessions)} duplicates in the filtered_data.\")\n",
    "else:\n",
    "    print(\"There are no duplicates in the filtered_data.\")\n"
   ]
  },
  {
   "cell_type": "code",
   "execution_count": 24,
   "id": "b15feeea",
   "metadata": {},
   "outputs": [
    {
     "name": "stdout",
     "output_type": "stream",
     "text": [
      "Sampled data saved successfully!\n"
     ]
    }
   ],
   "source": [
    "# Save the sampled_data to a pickle file\n",
    "with open('data/sampled_data_validation_2000_PF00959.p', 'wb') as file:\n",
    "    pickle.dump(sampled_data, file)\n",
    "\n",
    "print(\"Sampled data saved successfully!\")"
   ]
  },
  {
   "cell_type": "code",
   "execution_count": 25,
   "id": "1a11d8da",
   "metadata": {},
   "outputs": [
    {
     "name": "stdout",
     "output_type": "stream",
     "text": [
      "Filtered data saved successfully!\n"
     ]
    }
   ],
   "source": [
    "# Save the filtered_data to a pickle file\n",
    "with open('data/filtered_data_training_PF00959.p', 'wb') as file:\n",
    "    pickle.dump(filtered_data, file)\n",
    "\n",
    "print(\"Filtered data saved successfully!\")"
   ]
  },
  {
   "cell_type": "markdown",
   "id": "c6bc01e3",
   "metadata": {},
   "source": [
    "<h3>Saving training data in the correct format</h3>"
   ]
  },
  {
   "cell_type": "code",
   "execution_count": 35,
   "id": "591cfffd",
   "metadata": {},
   "outputs": [],
   "source": [
    "# we assign the ctrl keywrd 0 to the lisozyme family for fine-tuning\n",
    "def convert_to_desired_format(data):\n",
    "    uid = data['metadata']['accession']\n",
    "    sequence = data['sequence']['metadata']['sequence']\n",
    "    # predefined keyword\n",
    "    keyword = 0\n",
    "    return {\n",
    "        uid: {\n",
    "            'seq': sequence,\n",
    "            'kw': [keyword]\n",
    "        }\n",
    "    }\n",
    "\n",
    "def convert_all_data(all_data):\n",
    "    converted_dataset = {}\n",
    "    for data_instance in all_data:\n",
    "        converted_dataset.update(convert_to_desired_format(data_instance))\n",
    "    return converted_dataset"
   ]
  },
  {
   "cell_type": "code",
   "execution_count": 36,
   "id": "109768fc",
   "metadata": {},
   "outputs": [],
   "source": [
    "data_formatted = convert_all_data(filtered_data)"
   ]
  },
  {
   "cell_type": "code",
   "execution_count": 37,
   "id": "6dc53ad2",
   "metadata": {},
   "outputs": [
    {
     "data": {
      "text/plain": [
       "100"
      ]
     },
     "execution_count": 37,
     "metadata": {},
     "output_type": "execute_result"
    }
   ],
   "source": [
    "len(data_formatted)"
   ]
  },
  {
   "cell_type": "code",
   "execution_count": 38,
   "id": "739592d3",
   "metadata": {},
   "outputs": [
    {
     "data": {
      "text/plain": [
       "{'seq': 'MTTKPFFDAARVIAGGKLTQAQVDELNKVVNKLAPGGKTTSDFGVNLITGFEGTRFTAYDDGVGVWTIGTGTTVYPNGVKVKKGDTCTAEQAKTYFKHDLAKFEKTVNESVTVPINQNQFDALVSLTYNIGSGAFKGSTLLKLLNKGDYQGAADQFLVWNKAGG',\n",
       " 'kw': [0]}"
      ]
     },
     "execution_count": 38,
     "metadata": {},
     "output_type": "execute_result"
    }
   ],
   "source": [
    "data_formatted['A0A009F987']"
   ]
  },
  {
   "cell_type": "code",
   "execution_count": 39,
   "id": "aba4970e",
   "metadata": {},
   "outputs": [],
   "source": [
    "import os\n",
    "def convert_and_save_in_chunks(data_formatted, base_path, num_chunks=10):\n",
    "    # Calculate the size of each chunk\n",
    "    chunk_size = len(data_formatted) // num_chunks\n",
    "    items = list(data_formatted.items())\n",
    "    \n",
    "    if not os.path.exists(base_path):\n",
    "        os.makedirs(base_path)\n",
    "\n",
    "    for i in range(num_chunks):\n",
    "        start_idx = i * chunk_size\n",
    "        end_idx = (i + 1) * chunk_size if i != num_chunks - 1 else None  # To handle the last chunk which might be larger\n",
    "        chunk = dict(items[start_idx:end_idx])\n",
    "\n",
    "        # Save the chunk to a pickle file\n",
    "        with open(base_path + 'train' + str(i) + '.p', 'wb') as f:\n",
    "            pickle.dump(chunk, f)\n",
    "            "
   ]
  },
  {
   "cell_type": "code",
   "execution_count": 40,
   "id": "dade3ab2",
   "metadata": {},
   "outputs": [],
   "source": [
    "# Assuming your data is loaded in a variable named 'dataset'\n",
    "convert_and_save_in_chunks(data_formatted, 'data/train_test_pkl_dry_run/')"
   ]
  },
  {
   "cell_type": "code",
   "execution_count": 32,
   "id": "e0f76509-0e0e-45d9-9feb-f871e61a2aa3",
   "metadata": {},
   "outputs": [],
   "source": [
    "# Save as a pickle file\n",
    "with open('data/training_data_PF00959_formatted.p', 'wb') as file:\n",
    "    pickle.dump(data_formatted, file)"
   ]
  },
  {
   "cell_type": "code",
   "execution_count": null,
   "id": "59103efe-6d3e-476f-b3b7-dd698fb6951b",
   "metadata": {},
   "outputs": [],
   "source": []
  }
 ],
 "metadata": {
  "kernelspec": {
   "display_name": "Python 3 (ipykernel)",
   "language": "python",
   "name": "python3"
  },
  "language_info": {
   "codemirror_mode": {
    "name": "ipython",
    "version": 3
   },
   "file_extension": ".py",
   "mimetype": "text/x-python",
   "name": "python",
   "nbconvert_exporter": "python",
   "pygments_lexer": "ipython3",
   "version": "3.11.4"
  }
 },
 "nbformat": 4,
 "nbformat_minor": 5
}
