{
 "cells": [
  {
   "cell_type": "code",
   "execution_count": 1,
   "metadata": {},
   "outputs": [],
   "source": [
    "#The directory of the data is \"/home/saitto/ProGen/all_families_data/tsvs\"\n",
    "#The data are in tsv format\n",
    "#this notebook should stay in root\n",
    "\n",
    "import os\n",
    "import pandas as pd\n",
    "import numpy as np\n",
    "import pickle\n",
    "import matplotlib.pyplot as plt\n",
    "import random\n",
    "\n",
    "#I will set seed for reproducibility\n",
    "seed = 42\n",
    "np.random.seed(seed)\n",
    "random.seed(seed)"
   ]
  },
  {
   "cell_type": "code",
   "execution_count": 2,
   "metadata": {},
   "outputs": [],
   "source": [
    "def load_data(directory, name):\n",
    "    \"\"\"\n",
    "    Load the data from the directory\n",
    "    \"\"\"\n",
    "    number = name[-1]\n",
    "    dataframe = pd.read_csv(directory, sep = \"\\t\")\n",
    "    dataframe = dataframe.dropna(subset = [\"EC number\"]) #drop rows with missing EC number\n",
    "    print(\"The following data regard the family with EC number: \", name[-1])\n",
    "    print(\"The number of sequences before removing duplicates is: \", len(dataframe))\n",
    "    dataframe = dataframe.drop_duplicates(subset = \"Sequence\") #drop duplicates\n",
    "    print(\"The number of sequences after removing duplicates is: \", len(dataframe))\n",
    "\n",
    "    dictionary_existence = {\"Evidence at protein level\": 5, \"Evidence at transcript level\": 4, \"Inferred from homology\": 3, \"Predicted\": 2, \"Uncertain\": 1}\n",
    "    dataframe[\"Protein existence\"] = dataframe[\"Protein existence\"].str.strip().map(dictionary_existence)\n",
    "    dataframe[\"Sequence\"] = dataframe[\"Sequence\"].apply(str)\n",
    "    #keep only such columns\n",
    "    dataframe = dataframe[[\"Entry\",\"EC number\", \"Protein existence\", \"Sequence\", \"Length\"]]\n",
    "    dataframe[\"EC number\"] = dataframe[\"EC number\"].replace(\" \", \"\") #remove spaces from EC number\n",
    "    dataframe[\"EC number\"] = dataframe[\"EC number\"].apply(lambda x: x.split(\";\")) #split the EC numbers\n",
    "    dataframe[\"EC number\"] = dataframe[\"EC number\"].apply(lambda x: [y.strip() for y in x]) #strip the EC numbers\n",
    "    dataframe[\"EC number\"] = dataframe[\"EC number\"].apply(lambda x: [y for y in x if y[0] == number]) #get only the EC number of the family\n",
    "    #I will add all the subkeyowrds when present\n",
    "    dataframe[\"EC number\"] = dataframe[\"EC number\"].apply(lambda x: [int(y.split(\".\")[1].split(\".\")[0]) if y[2] != '-' else 0 for y in x]) #get only the subkeyowrds\n",
    "    dataframe[\"EC number\"] = dataframe[\"EC number\"].apply(lambda x: [0] + x) #put 0 at the beginning of the list\n",
    "    dataframe[\"EC number\"] = dataframe[\"EC number\"].apply(lambda x: list(set(x))) #for each y take only the unique values\n",
    "    #count EC numbers\n",
    "    ec_numbers = []\n",
    "    for i in dataframe[\"EC number\"]:\n",
    "        ec_numbers += i\n",
    "    values, counts = np.unique(np.array(ec_numbers), return_counts = True)\n",
    "    counts_dict = dict(zip(values, counts))\n",
    "    dataframe[\"EC number\"] = dataframe[\"EC number\"].apply(lambda x: [y for y in x if counts_dict[y] > 100]) #take only EC numbers with more than 100 proteins\n",
    "    sorted_list = sorted([int(x) for x in counts_dict.keys() if counts_dict[x] > 100])\n",
    "    mapping_dict = dict(zip(sorted_list, range(len(sorted_list))))\n",
    "    dataframe[\"EC number\"] = dataframe[\"EC number\"].apply(lambda x: [mapping_dict[y] for y in x]) #map the EC numbers to a range of their length\n",
    "    print(\"The number of sequences per subfamily is: \", counts_dict)\n",
    "    print(\"The dictionary to map subfamily to keyword:\", mapping_dict)\n",
    "    mean_length = dataframe[\"Length\"].mean()\n",
    "    std_length = dataframe[\"Length\"].std()\n",
    "    print(\"The mean length of the sequences is: \", round(mean_length, 3))\n",
    "    print(\"The standard deviation of the length of the sequences is: \", round(std_length, 3))\n",
    "    return dataframe, mapping_dict\n",
    "\n"
   ]
  },
  {
   "cell_type": "code",
   "execution_count": 3,
   "metadata": {},
   "outputs": [],
   "source": [
    "def plot_histogram(path, data, bin_step, name):\n",
    "    \"\"\"\n",
    "    Plot and save the histogram of the lengths of the sequences\n",
    "    \"\"\"\n",
    "    # Create the histogram\n",
    "    max_val = max(data)\n",
    "    bin_edges = list(range(0, 500, bin_step))\n",
    "    #print(bin_edges)\n",
    "    plt.figure(figsize=(11, 6))\n",
    "    n, bins, _ = plt.hist(data, bins=bin_edges, color=(180/255, 211/255, 178/255), edgecolor='black', alpha=0.99, rwidth=0.87)    \n",
    "    print(\"n:\", n)\n",
    "    print(\"bins:\", bins)\n",
    "    # Title, labels, and legend\n",
    "    plt.title('Histogram of Sequence Length Ranges for EC ' + name[-1])\n",
    "    plt.xlabel('Sequence Length')\n",
    "    plt.ylabel('Number of Instances')\n",
    "    #plt.legend()\n",
    "    _ = plt.show()\n",
    "    plt.savefig(path+\"histogram_\"+name+'.svg')"
   ]
  },
  {
   "cell_type": "code",
   "execution_count": 4,
   "metadata": {},
   "outputs": [],
   "source": [
    "def split_train_test(dataframe, train_fraction, mapping_dict):\n",
    "    #split the dataframe into a training and a test set\n",
    "    dataframe[\"subfamily\"] = dataframe[\"EC number\"].apply(lambda x: x[-1])\n",
    "    train_dataframes = []\n",
    "    test_dataframes = []\n",
    "    for i in mapping_dict.values():\n",
    "        sub_dataframe = dataframe[dataframe[\"subfamily\"] == i]\n",
    "        train_dataframe = sub_dataframe.sample(frac = train_fraction, random_state = seed)\n",
    "        train_dataframes.append(train_dataframe)\n",
    "        test_dataframe = sub_dataframe.drop(train_dataframe.index)\n",
    "        test_dataframes.append(test_dataframe)\n",
    "    train = pd.concat(train_dataframes).drop(columns = [\"subfamily\"])\n",
    "    test = pd.concat(test_dataframes).drop(columns = [\"subfamily\"])\n",
    "    return train, test\n",
    "\n",
    "def convert_to_dict(dataframe):\n",
    "    #convert the dataframes to dictionaries\n",
    "    dictionary = {}\n",
    "    for _, row in dataframe.iterrows():\n",
    "        sub_dict = {}\n",
    "        sub_dict[\"kw\"] = row[\"EC number\"]\n",
    "        sub_dict[\"ex\"] = row[\"Protein existence\"]\n",
    "        sub_dict[\"seq\"] = row[\"Sequence\"]\n",
    "        sub_dict[\"len\"] = row[\"Length\"]\n",
    "        dictionary[row[\"Entry\"]] = sub_dict\n",
    "    # convert the dictionary items to a list, shuffle the list, and convert it back to a dictionary\n",
    "    items = list(dictionary.items())\n",
    "    random.shuffle(items)\n",
    "    return dict(items)\n",
    "\n",
    "def save_to_pickle(dictionary, path):\n",
    "    #save the dictionary to a pickle file\n",
    "    with open(path, \"wb\") as file:\n",
    "        pickle.dump(dictionary, file)"
   ]
  },
  {
   "cell_type": "code",
   "execution_count": 5,
   "metadata": {},
   "outputs": [
    {
     "ename": "FileNotFoundError",
     "evalue": "[Errno 2] No such file or directory: '/home/saitto/ProGen/all_families/all_families_data/tsvs/ec_7.tsv'",
     "output_type": "error",
     "traceback": [
      "\u001b[0;31m---------------------------------------------------------------------------\u001b[0m",
      "\u001b[0;31mFileNotFoundError\u001b[0m                         Traceback (most recent call last)",
      "Cell \u001b[0;32mIn[5], line 3\u001b[0m\n\u001b[1;32m      1\u001b[0m directory \u001b[38;5;241m=\u001b[39m \u001b[38;5;124m\"\u001b[39m\u001b[38;5;124m/home/saitto/ProGen/all_families/all_families_data/tsvs/ec_7.tsv\u001b[39m\u001b[38;5;124m\"\u001b[39m\n\u001b[1;32m      2\u001b[0m name \u001b[38;5;241m=\u001b[39m \u001b[38;5;124m\"\u001b[39m\u001b[38;5;124mec_7\u001b[39m\u001b[38;5;124m\"\u001b[39m\n\u001b[0;32m----> 3\u001b[0m dataframe, mapping_dict \u001b[38;5;241m=\u001b[39m \u001b[43mload_data\u001b[49m\u001b[43m(\u001b[49m\u001b[43mdirectory\u001b[49m\u001b[43m,\u001b[49m\u001b[43m \u001b[49m\u001b[43mname\u001b[49m\u001b[38;5;241;43m=\u001b[39;49m\u001b[43mname\u001b[49m\u001b[43m)\u001b[49m\n\u001b[1;32m      5\u001b[0m path_hist \u001b[38;5;241m=\u001b[39m \u001b[38;5;124m\"\u001b[39m\u001b[38;5;124m/home/saitto/ProGen/all_families/all_families_data/figures/histograms_lengths/\u001b[39m\u001b[38;5;124m\"\u001b[39m\n\u001b[1;32m      6\u001b[0m _ \u001b[38;5;241m=\u001b[39m plot_histogram(path_hist, dataframe[\u001b[38;5;124m\"\u001b[39m\u001b[38;5;124mLength\u001b[39m\u001b[38;5;124m\"\u001b[39m]\u001b[38;5;241m.\u001b[39mto_numpy(), \u001b[38;5;241m50\u001b[39m, name)\n",
      "Cell \u001b[0;32mIn[2], line 6\u001b[0m, in \u001b[0;36mload_data\u001b[0;34m(directory, name)\u001b[0m\n\u001b[1;32m      2\u001b[0m \u001b[38;5;250m\u001b[39m\u001b[38;5;124;03m\"\"\"\u001b[39;00m\n\u001b[1;32m      3\u001b[0m \u001b[38;5;124;03mLoad the data from the directory\u001b[39;00m\n\u001b[1;32m      4\u001b[0m \u001b[38;5;124;03m\"\"\"\u001b[39;00m\n\u001b[1;32m      5\u001b[0m number \u001b[38;5;241m=\u001b[39m name[\u001b[38;5;241m-\u001b[39m\u001b[38;5;241m1\u001b[39m]\n\u001b[0;32m----> 6\u001b[0m dataframe \u001b[38;5;241m=\u001b[39m \u001b[43mpd\u001b[49m\u001b[38;5;241;43m.\u001b[39;49m\u001b[43mread_csv\u001b[49m\u001b[43m(\u001b[49m\u001b[43mdirectory\u001b[49m\u001b[43m,\u001b[49m\u001b[43m \u001b[49m\u001b[43msep\u001b[49m\u001b[43m \u001b[49m\u001b[38;5;241;43m=\u001b[39;49m\u001b[43m \u001b[49m\u001b[38;5;124;43m\"\u001b[39;49m\u001b[38;5;130;43;01m\\t\u001b[39;49;00m\u001b[38;5;124;43m\"\u001b[39;49m\u001b[43m)\u001b[49m\n\u001b[1;32m      7\u001b[0m dataframe \u001b[38;5;241m=\u001b[39m dataframe\u001b[38;5;241m.\u001b[39mdropna(subset \u001b[38;5;241m=\u001b[39m [\u001b[38;5;124m\"\u001b[39m\u001b[38;5;124mEC number\u001b[39m\u001b[38;5;124m\"\u001b[39m]) \u001b[38;5;66;03m#drop rows with missing EC number\u001b[39;00m\n\u001b[1;32m      8\u001b[0m \u001b[38;5;28mprint\u001b[39m(\u001b[38;5;124m\"\u001b[39m\u001b[38;5;124mThe following data regard the family with EC number: \u001b[39m\u001b[38;5;124m\"\u001b[39m, name[\u001b[38;5;241m-\u001b[39m\u001b[38;5;241m1\u001b[39m])\n",
      "File \u001b[0;32m~/miniconda3/envs/vPro/lib/python3.11/site-packages/pandas/io/parsers/readers.py:912\u001b[0m, in \u001b[0;36mread_csv\u001b[0;34m(filepath_or_buffer, sep, delimiter, header, names, index_col, usecols, dtype, engine, converters, true_values, false_values, skipinitialspace, skiprows, skipfooter, nrows, na_values, keep_default_na, na_filter, verbose, skip_blank_lines, parse_dates, infer_datetime_format, keep_date_col, date_parser, date_format, dayfirst, cache_dates, iterator, chunksize, compression, thousands, decimal, lineterminator, quotechar, quoting, doublequote, escapechar, comment, encoding, encoding_errors, dialect, on_bad_lines, delim_whitespace, low_memory, memory_map, float_precision, storage_options, dtype_backend)\u001b[0m\n\u001b[1;32m    899\u001b[0m kwds_defaults \u001b[38;5;241m=\u001b[39m _refine_defaults_read(\n\u001b[1;32m    900\u001b[0m     dialect,\n\u001b[1;32m    901\u001b[0m     delimiter,\n\u001b[0;32m   (...)\u001b[0m\n\u001b[1;32m    908\u001b[0m     dtype_backend\u001b[38;5;241m=\u001b[39mdtype_backend,\n\u001b[1;32m    909\u001b[0m )\n\u001b[1;32m    910\u001b[0m kwds\u001b[38;5;241m.\u001b[39mupdate(kwds_defaults)\n\u001b[0;32m--> 912\u001b[0m \u001b[38;5;28;01mreturn\u001b[39;00m \u001b[43m_read\u001b[49m\u001b[43m(\u001b[49m\u001b[43mfilepath_or_buffer\u001b[49m\u001b[43m,\u001b[49m\u001b[43m \u001b[49m\u001b[43mkwds\u001b[49m\u001b[43m)\u001b[49m\n",
      "File \u001b[0;32m~/miniconda3/envs/vPro/lib/python3.11/site-packages/pandas/io/parsers/readers.py:577\u001b[0m, in \u001b[0;36m_read\u001b[0;34m(filepath_or_buffer, kwds)\u001b[0m\n\u001b[1;32m    574\u001b[0m _validate_names(kwds\u001b[38;5;241m.\u001b[39mget(\u001b[38;5;124m\"\u001b[39m\u001b[38;5;124mnames\u001b[39m\u001b[38;5;124m\"\u001b[39m, \u001b[38;5;28;01mNone\u001b[39;00m))\n\u001b[1;32m    576\u001b[0m \u001b[38;5;66;03m# Create the parser.\u001b[39;00m\n\u001b[0;32m--> 577\u001b[0m parser \u001b[38;5;241m=\u001b[39m \u001b[43mTextFileReader\u001b[49m\u001b[43m(\u001b[49m\u001b[43mfilepath_or_buffer\u001b[49m\u001b[43m,\u001b[49m\u001b[43m \u001b[49m\u001b[38;5;241;43m*\u001b[39;49m\u001b[38;5;241;43m*\u001b[39;49m\u001b[43mkwds\u001b[49m\u001b[43m)\u001b[49m\n\u001b[1;32m    579\u001b[0m \u001b[38;5;28;01mif\u001b[39;00m chunksize \u001b[38;5;129;01mor\u001b[39;00m iterator:\n\u001b[1;32m    580\u001b[0m     \u001b[38;5;28;01mreturn\u001b[39;00m parser\n",
      "File \u001b[0;32m~/miniconda3/envs/vPro/lib/python3.11/site-packages/pandas/io/parsers/readers.py:1407\u001b[0m, in \u001b[0;36mTextFileReader.__init__\u001b[0;34m(self, f, engine, **kwds)\u001b[0m\n\u001b[1;32m   1404\u001b[0m     \u001b[38;5;28mself\u001b[39m\u001b[38;5;241m.\u001b[39moptions[\u001b[38;5;124m\"\u001b[39m\u001b[38;5;124mhas_index_names\u001b[39m\u001b[38;5;124m\"\u001b[39m] \u001b[38;5;241m=\u001b[39m kwds[\u001b[38;5;124m\"\u001b[39m\u001b[38;5;124mhas_index_names\u001b[39m\u001b[38;5;124m\"\u001b[39m]\n\u001b[1;32m   1406\u001b[0m \u001b[38;5;28mself\u001b[39m\u001b[38;5;241m.\u001b[39mhandles: IOHandles \u001b[38;5;241m|\u001b[39m \u001b[38;5;28;01mNone\u001b[39;00m \u001b[38;5;241m=\u001b[39m \u001b[38;5;28;01mNone\u001b[39;00m\n\u001b[0;32m-> 1407\u001b[0m \u001b[38;5;28mself\u001b[39m\u001b[38;5;241m.\u001b[39m_engine \u001b[38;5;241m=\u001b[39m \u001b[38;5;28;43mself\u001b[39;49m\u001b[38;5;241;43m.\u001b[39;49m\u001b[43m_make_engine\u001b[49m\u001b[43m(\u001b[49m\u001b[43mf\u001b[49m\u001b[43m,\u001b[49m\u001b[43m \u001b[49m\u001b[38;5;28;43mself\u001b[39;49m\u001b[38;5;241;43m.\u001b[39;49m\u001b[43mengine\u001b[49m\u001b[43m)\u001b[49m\n",
      "File \u001b[0;32m~/miniconda3/envs/vPro/lib/python3.11/site-packages/pandas/io/parsers/readers.py:1661\u001b[0m, in \u001b[0;36mTextFileReader._make_engine\u001b[0;34m(self, f, engine)\u001b[0m\n\u001b[1;32m   1659\u001b[0m     \u001b[38;5;28;01mif\u001b[39;00m \u001b[38;5;124m\"\u001b[39m\u001b[38;5;124mb\u001b[39m\u001b[38;5;124m\"\u001b[39m \u001b[38;5;129;01mnot\u001b[39;00m \u001b[38;5;129;01min\u001b[39;00m mode:\n\u001b[1;32m   1660\u001b[0m         mode \u001b[38;5;241m+\u001b[39m\u001b[38;5;241m=\u001b[39m \u001b[38;5;124m\"\u001b[39m\u001b[38;5;124mb\u001b[39m\u001b[38;5;124m\"\u001b[39m\n\u001b[0;32m-> 1661\u001b[0m \u001b[38;5;28mself\u001b[39m\u001b[38;5;241m.\u001b[39mhandles \u001b[38;5;241m=\u001b[39m \u001b[43mget_handle\u001b[49m\u001b[43m(\u001b[49m\n\u001b[1;32m   1662\u001b[0m \u001b[43m    \u001b[49m\u001b[43mf\u001b[49m\u001b[43m,\u001b[49m\n\u001b[1;32m   1663\u001b[0m \u001b[43m    \u001b[49m\u001b[43mmode\u001b[49m\u001b[43m,\u001b[49m\n\u001b[1;32m   1664\u001b[0m \u001b[43m    \u001b[49m\u001b[43mencoding\u001b[49m\u001b[38;5;241;43m=\u001b[39;49m\u001b[38;5;28;43mself\u001b[39;49m\u001b[38;5;241;43m.\u001b[39;49m\u001b[43moptions\u001b[49m\u001b[38;5;241;43m.\u001b[39;49m\u001b[43mget\u001b[49m\u001b[43m(\u001b[49m\u001b[38;5;124;43m\"\u001b[39;49m\u001b[38;5;124;43mencoding\u001b[39;49m\u001b[38;5;124;43m\"\u001b[39;49m\u001b[43m,\u001b[49m\u001b[43m \u001b[49m\u001b[38;5;28;43;01mNone\u001b[39;49;00m\u001b[43m)\u001b[49m\u001b[43m,\u001b[49m\n\u001b[1;32m   1665\u001b[0m \u001b[43m    \u001b[49m\u001b[43mcompression\u001b[49m\u001b[38;5;241;43m=\u001b[39;49m\u001b[38;5;28;43mself\u001b[39;49m\u001b[38;5;241;43m.\u001b[39;49m\u001b[43moptions\u001b[49m\u001b[38;5;241;43m.\u001b[39;49m\u001b[43mget\u001b[49m\u001b[43m(\u001b[49m\u001b[38;5;124;43m\"\u001b[39;49m\u001b[38;5;124;43mcompression\u001b[39;49m\u001b[38;5;124;43m\"\u001b[39;49m\u001b[43m,\u001b[49m\u001b[43m \u001b[49m\u001b[38;5;28;43;01mNone\u001b[39;49;00m\u001b[43m)\u001b[49m\u001b[43m,\u001b[49m\n\u001b[1;32m   1666\u001b[0m \u001b[43m    \u001b[49m\u001b[43mmemory_map\u001b[49m\u001b[38;5;241;43m=\u001b[39;49m\u001b[38;5;28;43mself\u001b[39;49m\u001b[38;5;241;43m.\u001b[39;49m\u001b[43moptions\u001b[49m\u001b[38;5;241;43m.\u001b[39;49m\u001b[43mget\u001b[49m\u001b[43m(\u001b[49m\u001b[38;5;124;43m\"\u001b[39;49m\u001b[38;5;124;43mmemory_map\u001b[39;49m\u001b[38;5;124;43m\"\u001b[39;49m\u001b[43m,\u001b[49m\u001b[43m \u001b[49m\u001b[38;5;28;43;01mFalse\u001b[39;49;00m\u001b[43m)\u001b[49m\u001b[43m,\u001b[49m\n\u001b[1;32m   1667\u001b[0m \u001b[43m    \u001b[49m\u001b[43mis_text\u001b[49m\u001b[38;5;241;43m=\u001b[39;49m\u001b[43mis_text\u001b[49m\u001b[43m,\u001b[49m\n\u001b[1;32m   1668\u001b[0m \u001b[43m    \u001b[49m\u001b[43merrors\u001b[49m\u001b[38;5;241;43m=\u001b[39;49m\u001b[38;5;28;43mself\u001b[39;49m\u001b[38;5;241;43m.\u001b[39;49m\u001b[43moptions\u001b[49m\u001b[38;5;241;43m.\u001b[39;49m\u001b[43mget\u001b[49m\u001b[43m(\u001b[49m\u001b[38;5;124;43m\"\u001b[39;49m\u001b[38;5;124;43mencoding_errors\u001b[39;49m\u001b[38;5;124;43m\"\u001b[39;49m\u001b[43m,\u001b[49m\u001b[43m \u001b[49m\u001b[38;5;124;43m\"\u001b[39;49m\u001b[38;5;124;43mstrict\u001b[39;49m\u001b[38;5;124;43m\"\u001b[39;49m\u001b[43m)\u001b[49m\u001b[43m,\u001b[49m\n\u001b[1;32m   1669\u001b[0m \u001b[43m    \u001b[49m\u001b[43mstorage_options\u001b[49m\u001b[38;5;241;43m=\u001b[39;49m\u001b[38;5;28;43mself\u001b[39;49m\u001b[38;5;241;43m.\u001b[39;49m\u001b[43moptions\u001b[49m\u001b[38;5;241;43m.\u001b[39;49m\u001b[43mget\u001b[49m\u001b[43m(\u001b[49m\u001b[38;5;124;43m\"\u001b[39;49m\u001b[38;5;124;43mstorage_options\u001b[39;49m\u001b[38;5;124;43m\"\u001b[39;49m\u001b[43m,\u001b[49m\u001b[43m \u001b[49m\u001b[38;5;28;43;01mNone\u001b[39;49;00m\u001b[43m)\u001b[49m\u001b[43m,\u001b[49m\n\u001b[1;32m   1670\u001b[0m \u001b[43m\u001b[49m\u001b[43m)\u001b[49m\n\u001b[1;32m   1671\u001b[0m \u001b[38;5;28;01massert\u001b[39;00m \u001b[38;5;28mself\u001b[39m\u001b[38;5;241m.\u001b[39mhandles \u001b[38;5;129;01mis\u001b[39;00m \u001b[38;5;129;01mnot\u001b[39;00m \u001b[38;5;28;01mNone\u001b[39;00m\n\u001b[1;32m   1672\u001b[0m f \u001b[38;5;241m=\u001b[39m \u001b[38;5;28mself\u001b[39m\u001b[38;5;241m.\u001b[39mhandles\u001b[38;5;241m.\u001b[39mhandle\n",
      "File \u001b[0;32m~/miniconda3/envs/vPro/lib/python3.11/site-packages/pandas/io/common.py:859\u001b[0m, in \u001b[0;36mget_handle\u001b[0;34m(path_or_buf, mode, encoding, compression, memory_map, is_text, errors, storage_options)\u001b[0m\n\u001b[1;32m    854\u001b[0m \u001b[38;5;28;01melif\u001b[39;00m \u001b[38;5;28misinstance\u001b[39m(handle, \u001b[38;5;28mstr\u001b[39m):\n\u001b[1;32m    855\u001b[0m     \u001b[38;5;66;03m# Check whether the filename is to be opened in binary mode.\u001b[39;00m\n\u001b[1;32m    856\u001b[0m     \u001b[38;5;66;03m# Binary mode does not support 'encoding' and 'newline'.\u001b[39;00m\n\u001b[1;32m    857\u001b[0m     \u001b[38;5;28;01mif\u001b[39;00m ioargs\u001b[38;5;241m.\u001b[39mencoding \u001b[38;5;129;01mand\u001b[39;00m \u001b[38;5;124m\"\u001b[39m\u001b[38;5;124mb\u001b[39m\u001b[38;5;124m\"\u001b[39m \u001b[38;5;129;01mnot\u001b[39;00m \u001b[38;5;129;01min\u001b[39;00m ioargs\u001b[38;5;241m.\u001b[39mmode:\n\u001b[1;32m    858\u001b[0m         \u001b[38;5;66;03m# Encoding\u001b[39;00m\n\u001b[0;32m--> 859\u001b[0m         handle \u001b[38;5;241m=\u001b[39m \u001b[38;5;28;43mopen\u001b[39;49m\u001b[43m(\u001b[49m\n\u001b[1;32m    860\u001b[0m \u001b[43m            \u001b[49m\u001b[43mhandle\u001b[49m\u001b[43m,\u001b[49m\n\u001b[1;32m    861\u001b[0m \u001b[43m            \u001b[49m\u001b[43mioargs\u001b[49m\u001b[38;5;241;43m.\u001b[39;49m\u001b[43mmode\u001b[49m\u001b[43m,\u001b[49m\n\u001b[1;32m    862\u001b[0m \u001b[43m            \u001b[49m\u001b[43mencoding\u001b[49m\u001b[38;5;241;43m=\u001b[39;49m\u001b[43mioargs\u001b[49m\u001b[38;5;241;43m.\u001b[39;49m\u001b[43mencoding\u001b[49m\u001b[43m,\u001b[49m\n\u001b[1;32m    863\u001b[0m \u001b[43m            \u001b[49m\u001b[43merrors\u001b[49m\u001b[38;5;241;43m=\u001b[39;49m\u001b[43merrors\u001b[49m\u001b[43m,\u001b[49m\n\u001b[1;32m    864\u001b[0m \u001b[43m            \u001b[49m\u001b[43mnewline\u001b[49m\u001b[38;5;241;43m=\u001b[39;49m\u001b[38;5;124;43m\"\u001b[39;49m\u001b[38;5;124;43m\"\u001b[39;49m\u001b[43m,\u001b[49m\n\u001b[1;32m    865\u001b[0m \u001b[43m        \u001b[49m\u001b[43m)\u001b[49m\n\u001b[1;32m    866\u001b[0m     \u001b[38;5;28;01melse\u001b[39;00m:\n\u001b[1;32m    867\u001b[0m         \u001b[38;5;66;03m# Binary mode\u001b[39;00m\n\u001b[1;32m    868\u001b[0m         handle \u001b[38;5;241m=\u001b[39m \u001b[38;5;28mopen\u001b[39m(handle, ioargs\u001b[38;5;241m.\u001b[39mmode)\n",
      "\u001b[0;31mFileNotFoundError\u001b[0m: [Errno 2] No such file or directory: '/home/saitto/ProGen/all_families/all_families_data/tsvs/ec_7.tsv'"
     ]
    }
   ],
   "source": [
    "directory = \"/home/saitto/ProGen/all_families/all_families_data/tsvs/ec_7.tsv\"\n",
    "name = \"ec_7\"\n",
    "dataframe, mapping_dict = load_data(directory, name=name)\n",
    "\n",
    "path_hist = \"/home/saitto/ProGen/all_families/all_families_data/figures/histograms_lengths/\"\n",
    "_ = plot_histogram(path_hist, dataframe[\"Length\"].to_numpy(), 50, name)\n",
    "\n",
    "#split the dataframes into training, validation, and test sets for each EC number 90% training, 10% test\n",
    "train_fraction = 0.9\n",
    "training, test = split_train_test(dataframe, train_fraction, mapping_dict)\n",
    "\n",
    "#convert the dataframes to dictionaries\n",
    "training = convert_to_dict(training)\n",
    "test = convert_to_dict(test)\n",
    "\n",
    "#save the dictionaries to pickle files\n",
    "save_to_pickle(training, \"/home/saitto/ProGen/all_families/all_families_data/pickles/training_\"+name+ \".p\")\n",
    "save_to_pickle(test, \"/home/saitto/ProGen/all_families/all_families_data/pickles/test_\"+name+ \".p\")\n"
   ]
  },
  {
   "cell_type": "markdown",
   "metadata": {},
   "source": [
    "# Blast"
   ]
  },
  {
   "cell_type": "code",
   "execution_count": 28,
   "metadata": {},
   "outputs": [
    {
     "name": "stdout",
     "output_type": "stream",
     "text": [
      "P55250 {'kw': [0, 2], 'ex': 3, 'seq': 'MLRASATRFLSQAKNMNNSPRLFSSASAALQKFRAERDTFGDLQVPADRYWGAQTQRSLQNFDIGGPTERMPEPLIRAFGVLKKAAATVNMTYGLDPKVGEAIQKAADEVIDGSLIDHFPLVVWQTGSGTQTKMNVNEVISNRAIELLGGELGSKAPVHPNDHVNMSQSSNDTFPTAMHVAAVVEIHGRLIPALTTLRDALQAKSAEFEHIIKIGRTHLQDATPLTLGQEFSGYTQQLTYGIARVQGTLERLYNLAQGGTAVGTGLNTRKGFDAKVAEAIASITGLPFKTAPNKFEALAAHDALVEAHGALNTVACSLMKIANDIRYLGSGPRCGLGELSLPENEPGSSIMPGKVNPTQCEAMTMVCAQVMGNNTAISVAGSNGQFELNVFKPVMIKNLIQSIRLISDASISFTKNCVVGIEANEKKISSIMNESLMLVTALNPHIGYDKAAKCAKKAHKEGTTLKEAALSLGYLTSEEFDQWVRPEDMISAKD', 'len': 494}\n",
      "A1TZ51 {'kw': [0, 5], 'ex': 3, 'seq': 'MRIGQGFDVHAFCEGDSVILGGVTIPHSHGLMAHSDGDVLLHALADALLGAVALGDIGHFFPDSSEEWAGADSRDLLRRVMQRVLDEGYAVTNIDTTIIAQAPKMAPHIEAMRMNIAEDLGVPANRVSVKATTTEKLGFTGRGEGIACQAVCLLEAVSQ', 'len': 159}\n",
      "P00660 {'kw': [0, 5], 'ex': 5, 'seq': 'KESAAAKFERQHMDSSTSSASSSNYCNQMMKSRNLTQDRCKPVNTFVHEPLADVQAVCSQKNVACKNGQTNCYQSYSTMSITDCRETGSSKYPNCAYKATQAKKHIIVACEGNPYVPVHFDASV', 'len': 124}\n",
      "P48282 {'kw': [0, 2], 'ex': 4, 'seq': 'MASPDWGYDGENGPEHWCKLHPIANGNNQSPIDIKTSETKRDPSLKPLSISYNPATAKEIVNVGHSFHVNFEDSDNRSVLKGGPLPESYRLRQFHFHWGSTDDCGSEHLVDGATFSAELHLVHWNSAKYPSFADAASQADGLVVVGVLMKVGQANPNLQKVLDALKTVKTKNKKAPFTNFDPSVLLPSCPDYWAYFGSLTHPPLHESVTWIIFKETISVSAEQLAQFRSLLANAEGDKEVCIKQNYRPPQPLKGRTVKASF', 'len': 261}\n",
      "C4L470 {'kw': [0, 2], 'ex': 3, 'seq': 'MPELPEVETVCRRLRPAVSGKTIQSVDVLDPKIIRGLDPEEWVHHLIGETITDVERRGKFILFKLTNGYLVSHLRMEGKFFPYETATEPVKHTHVVITFTDQSTLHYNDVRKFGTMELRTNETIHTTPPLSLLAYEPFDERVTTEALHRRLERMKTRAIKTALLDQSIFVGLGNIYVDETLFRAGVHPTRPAASLSREEVDRVRTEAVAVLNEAIERGGSTIRSYADPDGATGTFQERLYVYGQTGEPCRRCGHEIEKMKLGGRGTHYCPHCQQR', 'len': 275}\n",
      "Q5F8B4 {'kw': [0, 1], 'ex': 3, 'seq': 'MISKQEYQAQAAQGYNRIPLVQELLADLDTPLSLYLKLANRPYTYLLESVVGGERFGRYSFIGLPCSHYLKAGGKHVDVYQNGEIVEQYDGNPLPFIEAFHNRFKTPEIPSLPRFTGGLVGYFGYETVYNFEHFAHRLKNTAKANPLGTPDILLMLSQELAVIDNLSGKIHLIVYADPSQPDSYERARERLEDIRTQLRQSCAIPLSLGSKQTQAVSEFGEEPFKACVDKIKDYIFAGDCMQVVPSQRMSMEFTDNPLALYRALRTLNPSPYLFYYDFGDFHIVGSSPEILVRRERDDVIVRPIAGTRLRGKTPAEDLANEQDLLSDAKEIAEHVMLIDLGRNDVGRISKTGEVKVTDKMVIEKYSHVMHIVSNVEGCLKEGVTNMDILAATFPAGTLSGAPKVRAMEIIEEIEPEKRGIYGGAVGVWGFNNDMDLAIAIRTAVIKNNTLFIQSGAGVVADSDPTSEWQETQNKARAVVRAAQMVQEGLDK', 'len': 491}\n",
      "B6EJT2 {'kw': [0, 3], 'ex': 3, 'seq': 'MFSGSIVALVTPLDTDGEVDYTSLKNLVDYHINAGTDGIVAVGTTGESATLSVEEHVKLVMKTLEFSDGRIPVIAGTGANATHEAVTFSKLFRDSGVAGCLSVTPYYNKPTQEGLFLHYKAISESTDVPQILYNVPGRTAVDLLPETVARLAEFDNIVALKDATAELDRIAITRELCGDKFIQLSGDDATALEFVKMGGHGVISVTANVAAKDMATMFALAAQGKFEEAEIINQRLMPLHQDLFVEANPMPVKWATHRLGMITHPDIRLPLTELSHSAQPVVEQALIRAGVLK', 'len': 293}\n",
      "A6LST9 {'kw': [0, 4], 'ex': 3, 'seq': 'MEKIASFTINHLELLPGVYVSRQDKFGDTVLTTFDIRMNRPNFEPTMNTAEMHAIEHLAATFLRNHKDYADKTVYFGPMGCRTGFYLILHGDYKSKDIVPLLTELYKFMAEFEGDIPGASAKDCGNYLDMNLPMAKYLANKFLNDILLNITEKNLVYPN', 'len': 159}\n",
      "P42222 {'kw': [0, 2], 'ex': 3, 'seq': 'MSITKVHARTVYDSRGNPTVEVEITTENGLFRAIVPSGASTGIHEAVELRDGNKSEWMGKGVTKAVSNVNSIIGPALIKSDLCVTNQKGIDELMISLDGTSNKSRLGANAILGVSLCVARAAAAQKGITLYKYIAELADARQDPFVIPVPFFNVLNGGAHAGGSLAMQEFKIAPVGAQSFAEAMRMGSEVYHHLKILAKEQYGPSAGNVGDEGGVAPDIDTAEDALDMIVKAINICGYEGRVKVGIDSAPSVFYKDGKYDLNFKEPNSDPSHWLSPAQLAEYYHSLLKKYPIISLEDPYAEDDWSSWSAFLKTVNVQIIADDLTCTNKTRIARAIEEKCANTLLLKLNQIGTLTESIEAANQAFDAGWGVMISHRSGETEDPFIADLVVGLRCGQIKSGALSRSERLAKYNELLRIEEELGDDCIYAGHRFHDGNKL', 'len': 437}\n",
      "P0ABE9 {'kw': [0, 2], 'ex': 5, 'seq': 'MKEIIDGFLKFQREAFPKREALFKQLATQQSPRTLFISCSDSRLVPELVTQREPGDLFVIRNAGNIVPSYGPEPGGVSASVEYAVAALRVSDIVICGHSNCGAMTAIASCQCMDHMPAVSHWLRYADSARVVNEARPHSDLPSKAAAMVRENVIAQLANLQTHPSVRLALEEGRIALHGWVYDIESGSIAAFDGATRQFVPLAANPRVCAIPLRQPTAA', 'len': 219}\n"
     ]
    }
   ],
   "source": [
    "import pickle\n",
    "name = \"ec_4\"\n",
    "with open(\"/home/saitto/ProGen/all_families/all_families_data/pickles/training_\"+name+ \".p\", \"rb\") as file:\n",
    "    training = pickle.load(file)\n",
    "keys = list(training.keys())\n",
    "for key in keys[:10]:\n",
    "    print(key, training[key])"
   ]
  },
  {
   "cell_type": "markdown",
   "metadata": {},
   "source": [
    "### I will use the library of biopython to remove sequences from the test set with a similarity higher than 40% from the training set"
   ]
  },
  {
   "cell_type": "code",
   "execution_count": 1,
   "metadata": {},
   "outputs": [],
   "source": [
    "import pickle\n",
    "import os\n",
    "import subprocess\n",
    "def save_to_fasta(path_to_load, path_to_save):\n",
    "    name = path_to_load.split(\"/\")[-1].split(\".\")[0]\n",
    "    with open(path_to_load, \"rb\") as file:\n",
    "        data = pickle.load(file)\n",
    "    with open(path_to_save + name + \".fasta\", \"w\") as f:\n",
    "        for seq_id, seq_info in data.items():\n",
    "            f.write(f\">{seq_id}\\n{seq_info['seq']}\\n\")\n",
    "\n",
    "training_directories = os.listdir(\"/home/saitto/ProGen/all_families/all_families_data/pickles\")\n",
    "pickle_path = \"/home/saitto/ProGen/all_families/all_families_data/pickles/\"\n",
    "output_path = \"/home/saitto/ProGen/all_families/all_families_data/fasta/\"\n",
    "for directory in training_directories:\n",
    "    save_to_fasta(pickle_path+directory, output_path)\n"
   ]
  },
  {
   "cell_type": "code",
   "execution_count": 3,
   "metadata": {},
   "outputs": [
    {
     "name": "stdout",
     "output_type": "stream",
     "text": [
      "the current directory is:  /home/saitto/ProGen/all_families/codes\n",
      "\n",
      "\n",
      "Building a new DB, current time: 03/11/2024 13:53:02\n",
      "New DB name:   /home/saitto/ProGen/all_families/all_families_data/fasta/db/training_ec_3/training_ec_3\n",
      "New DB title:  /home/saitto/ProGen/all_families/all_families_data/fasta/training_ec_3.fasta\n",
      "Sequence type: Protein\n",
      "Keep MBits: T\n",
      "Maximum file size: 1000000000B\n",
      "Adding sequences from FASTA; added 36089 sequences in 0.546367 seconds.\n",
      "\n",
      "\n",
      "the current directory is:  /home/saitto/ProGen/all_families/codes\n",
      "\n",
      "\n",
      "Building a new DB, current time: 03/11/2024 13:53:04\n",
      "New DB name:   /home/saitto/ProGen/all_families/all_families_data/fasta/db/training_ec_4/training_ec_4\n",
      "New DB title:  /home/saitto/ProGen/all_families/all_families_data/fasta/training_ec_4.fasta\n",
      "Sequence type: Protein\n",
      "Keep MBits: T\n",
      "Maximum file size: 1000000000B\n",
      "Adding sequences from FASTA; added 16612 sequences in 0.250788 seconds.\n",
      "\n",
      "\n",
      "the current directory is:  /home/saitto/ProGen/all_families/codes\n",
      "\n",
      "\n",
      "Building a new DB, current time: 03/11/2024 13:53:04\n",
      "New DB name:   /home/saitto/ProGen/all_families/all_families_data/fasta/db/training_ec_1/training_ec_1\n",
      "New DB title:  /home/saitto/ProGen/all_families/all_families_data/fasta/training_ec_1.fasta\n",
      "Sequence type: Protein\n",
      "Keep MBits: T\n",
      "Maximum file size: 1000000000B\n",
      "Adding sequences from FASTA; added 21715 sequences in 0.344201 seconds.\n",
      "\n",
      "\n",
      "the current directory is:  /home/saitto/ProGen/all_families/codes\n",
      "\n",
      "\n",
      "Building a new DB, current time: 03/11/2024 13:53:05\n",
      "New DB name:   /home/saitto/ProGen/all_families/all_families_data/fasta/db/training_ec_7/training_ec_7\n",
      "New DB title:  /home/saitto/ProGen/all_families/all_families_data/fasta/training_ec_7.fasta\n",
      "Sequence type: Protein\n",
      "Keep MBits: T\n",
      "Maximum file size: 1000000000B\n",
      "Adding sequences from FASTA; added 7729 sequences in 0.113554 seconds.\n",
      "\n",
      "\n",
      "the current directory is:  /home/saitto/ProGen/all_families/codes\n",
      "\n",
      "\n",
      "Building a new DB, current time: 03/11/2024 13:53:06\n",
      "New DB name:   /home/saitto/ProGen/all_families/all_families_data/fasta/db/training_ec_5/training_ec_5\n",
      "New DB title:  /home/saitto/ProGen/all_families/all_families_data/fasta/training_ec_5.fasta\n",
      "Sequence type: Protein\n",
      "Keep MBits: T\n",
      "Maximum file size: 1000000000B\n",
      "Adding sequences from FASTA; added 9377 sequences in 0.145234 seconds.\n",
      "\n",
      "\n",
      "the current directory is:  /home/saitto/ProGen/all_families/codes\n",
      "\n",
      "\n",
      "Building a new DB, current time: 03/11/2024 13:53:07\n",
      "New DB name:   /home/saitto/ProGen/all_families/all_families_data/fasta/db/training_ec_6/training_ec_6\n",
      "New DB title:  /home/saitto/ProGen/all_families/all_families_data/fasta/training_ec_6.fasta\n",
      "Sequence type: Protein\n",
      "Keep MBits: T\n",
      "Maximum file size: 1000000000B\n",
      "Adding sequences from FASTA; added 12758 sequences in 0.210622 seconds.\n",
      "\n",
      "\n",
      "the current directory is:  /home/saitto/ProGen/all_families/codes\n",
      "\n",
      "\n",
      "Building a new DB, current time: 03/11/2024 13:53:08\n",
      "New DB name:   /home/saitto/ProGen/all_families/all_families_data/fasta/db/training_ec_2/training_ec_2\n",
      "New DB title:  /home/saitto/ProGen/all_families/all_families_data/fasta/training_ec_2.fasta\n",
      "Sequence type: Protein\n",
      "Keep MBits: T\n",
      "Maximum file size: 1000000000B\n",
      "Adding sequences from FASTA; added 58830 sequences in 0.91199 seconds.\n",
      "\n",
      "\n"
     ]
    }
   ],
   "source": [
    "def run_makeblastdb(fasta_path, db_name):\n",
    "    \"\"\"Creates a BLAST database from a FASTA file.\"\"\"\n",
    "    where_to_save = \"/home/saitto/ProGen/all_families/all_families_data/fasta/results/\" + \n",
    "    if not os.path.exists(where_to_save):\n",
    "        os.makedirs(where_to_save)\n",
    "    cmd = [\n",
    "        '/home/saitto/miniconda3/envs/progen_train/bin/makeblastdb',\n",
    "        '-in', fasta_path,\n",
    "        '-dbtype', 'prot',\n",
    "        '-out', where_to_save + db_name\n",
    "    ]\n",
    "    print(\"the current directory is: \", os.getcwd())\n",
    "    subprocess.run(cmd)\n",
    "\n",
    "output_paths = os.listdir(\"/home/saitto/ProGen/all_families/all_families_data/fasta/\")\n",
    "output_paths = [x for x in output_paths if x.startswith(\"training\")]\n",
    "for path in output_paths:\n",
    "    run_makeblastdb(\"/home/saitto/ProGen/all_families/all_families_data/fasta/\"+path, path.split(\".\")[0])\n"
   ]
  },
  {
   "cell_type": "code",
   "execution_count": 43,
   "metadata": {},
   "outputs": [
    {
     "name": "stdout",
     "output_type": "stream",
     "text": [
      "test_ec_1\n"
     ]
    },
    {
     "name": "stderr",
     "output_type": "stream",
     "text": [
      "Warning: [blastp] Examining 5 or more matches is recommended\n"
     ]
    },
    {
     "name": "stdout",
     "output_type": "stream",
     "text": [
      "test_ec_2\n"
     ]
    },
    {
     "name": "stderr",
     "output_type": "stream",
     "text": [
      "Warning: [blastp] Examining 5 or more matches is recommended\n",
      "Warning: [blastp] Query_521 P58974: One or more O characters replaced by X for alignment score calculations at positions 333 \n",
      "Warning: [blastp] Query_5409 Q8TN68: One or more O characters replaced by X for alignment score calculations at positions 355 \n",
      "Warning: [blastp] Query_6374 P58865: One or more O characters replaced by X for alignment score calculations at positions 201 \n"
     ]
    },
    {
     "name": "stdout",
     "output_type": "stream",
     "text": [
      "test_ec_3\n"
     ]
    },
    {
     "name": "stderr",
     "output_type": "stream",
     "text": [
      "Warning: [blastp] Examining 5 or more matches is recommended\n"
     ]
    },
    {
     "name": "stdout",
     "output_type": "stream",
     "text": [
      "test_ec_4\n"
     ]
    },
    {
     "name": "stderr",
     "output_type": "stream",
     "text": [
      "Warning: [blastp] Examining 5 or more matches is recommended\n"
     ]
    },
    {
     "name": "stdout",
     "output_type": "stream",
     "text": [
      "test_ec_5\n"
     ]
    },
    {
     "name": "stderr",
     "output_type": "stream",
     "text": [
      "Warning: [blastp] Examining 5 or more matches is recommended\n"
     ]
    },
    {
     "name": "stdout",
     "output_type": "stream",
     "text": [
      "test_ec_6\n"
     ]
    },
    {
     "name": "stderr",
     "output_type": "stream",
     "text": [
      "Warning: [blastp] Examining 5 or more matches is recommended\n"
     ]
    },
    {
     "name": "stdout",
     "output_type": "stream",
     "text": [
      "test_ec_7\n"
     ]
    },
    {
     "name": "stderr",
     "output_type": "stream",
     "text": [
      "Warning: [blastp] Examining 5 or more matches is recommended\n"
     ]
    }
   ],
   "source": [
    "output_paths = os.listdir(\"/home/saitto/ProGen/all_families/all_families_data/fasta/\")\n",
    "output_paths = [x for x in output_paths if x.startswith(\"test\")]\n",
    "\n",
    "def run_blastp(query_fasta, db_path, query_name):\n",
    "    \"\"\"Runs blastp against a specified database.\"\"\"\n",
    "    where_to_save = \"/home/saitto/ProGen/all_families/all_families_data/fasta/results/\" + query_name +\".tsv\"\n",
    "    cmd = [\n",
    "        '/home/saitto/miniconda3/envs/progen_train/bin/blastp',\n",
    "        '-query', query_fasta,\n",
    "        '-db', db_path,\n",
    "        '-out', where_to_save,\n",
    "        '-outfmt', \"6 qseqid sseqid pident length mismatch gapopen qstart qend sstart send evalue bitscore qcovs\",\n",
    "        '-max_target_seqs', '1'\n",
    "    ]\n",
    "    subprocess.run(cmd)\n",
    "\n",
    "\n",
    "query_paths = os.listdir(\"/home/saitto/ProGen/all_families/all_families_data/fasta/\")\n",
    "query_paths = [x for x in output_paths if x.startswith(\"test\")]\n",
    "#sort the paths by the number e.g. path = test_ec_7.fasta\n",
    "query_paths = sorted(query_paths, key = lambda x: int(x.split(\"_\")[2].split(\".\")[0]))\n",
    "db_paths = os.listdir(\"/home/saitto/ProGen/all_families/all_families_data/fasta/db/\")\n",
    "db_paths = sorted(db_paths, key = lambda x: int(x[-1]))\n",
    "db_paths = [x + \"/\" + x for x in db_paths]\n",
    "for path_db, path_q in zip(db_paths, query_paths):\n",
    "    full_path_db = \"/home/saitto/ProGen/all_families/all_families_data/fasta/db/\"+path_db\n",
    "    full_path_q = \"/home/saitto/ProGen/all_families/all_families_data/fasta/\"+path_q\n",
    "    print(path_q.split(\".\")[0])\n",
    "    run_blastp(full_path_q, \n",
    "              full_path_db, path_q.split(\".\")[0])"
   ]
  },
  {
   "cell_type": "code",
   "execution_count": null,
   "metadata": {},
   "outputs": [],
   "source": [
    "#adding matrix and task and seed\n",
    "def run_blastp(query_fasta, db_path, query_name, matrix=\"BLOSUM62\", task=\"blastp-fast\", word_size=3):\n",
    "    \"\"\"Runs blastp against a specified database with specified options.\"\"\"\n",
    "    where_to_save = \"/home/saitto/ProGen/all_families/all_families_data/fasta/results/\" + query_name + \".tsv\"\n",
    "    cmd = [\n",
    "        '/home/saitto/miniconda3/envs/progen_train/bin/blastp',\n",
    "        '-query', query_fasta,\n",
    "        '-db', db_path,\n",
    "        '-out', where_to_save,\n",
    "        '-outfmt', \"6 qseqid sseqid pident length mismatch gapopen qstart qend sstart send evalue bitscore qcovs\",\n",
    "        '-max_target_seqs', '1',\n",
    "        '-matrix', matrix,\n",
    "        '-task', task,\n",
    "        '-word_size', str(word_size)\n",
    "    ]\n",
    "    subprocess.run(cmd)\n"
   ]
  },
  {
   "cell_type": "code",
   "execution_count": null,
   "metadata": {},
   "outputs": [],
   "source": []
  }
 ],
 "metadata": {
  "kernelspec": {
   "display_name": "Python 3 (ipykernel)",
   "language": "python",
   "name": "python3"
  },
  "language_info": {
   "codemirror_mode": {
    "name": "ipython",
    "version": 3
   },
   "file_extension": ".py",
   "mimetype": "text/x-python",
   "name": "python",
   "nbconvert_exporter": "python",
   "pygments_lexer": "ipython3",
   "version": "3.11.4"
  }
 },
 "nbformat": 4,
 "nbformat_minor": 4
}
