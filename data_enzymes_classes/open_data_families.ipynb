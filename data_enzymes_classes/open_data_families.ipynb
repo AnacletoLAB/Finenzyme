{
 "cells": [
  {
   "cell_type": "code",
   "execution_count": 6,
   "metadata": {},
   "outputs": [],
   "source": [
    "#The directory of the data is \"/home/saitto/ProGen/all_families_data/tsvs\"\n",
    "#The data are in tsv format\n",
    "\n",
    "import os\n",
    "import pandas as pd\n",
    "import numpy as np\n",
    "import pickle\n",
    "import matplotlib.pyplot as plt\n",
    "import random\n",
    "\n",
    "#I will set seed for reproducibility\n",
    "seed = 42\n",
    "np.random.seed(seed)\n",
    "random.seed(seed)"
   ]
  },
  {
   "cell_type": "code",
   "execution_count": 7,
   "metadata": {},
   "outputs": [],
   "source": [
    "def load_data(directory, name):\n",
    "    \"\"\"\n",
    "    Load the data from the directory\n",
    "    \"\"\"\n",
    "    number = name[-1]\n",
    "    dataframe = pd.read_csv(directory, sep = \"\\t\")\n",
    "    dataframe = dataframe.dropna(subset = [\"EC number\"]) #drop rows with missing EC number\n",
    "    print(\"The following data regard the family with EC number: \", name[-1])\n",
    "    print(\"The number of sequences before removing duplicates is: \", len(dataframe))\n",
    "    dataframe = dataframe.drop_duplicates(subset = \"Sequence\") #drop duplicates\n",
    "    print(\"The number of sequences after removing duplicates is: \", len(dataframe))\n",
    "\n",
    "    dictionary_existence = {\"Evidence at protein level\": 5, \"Evidence at transcript level\": 4, \"Inferred from homology\": 3, \"Predicted\": 2, \"Uncertain\": 1}\n",
    "    dataframe[\"Protein existence\"] = dataframe[\"Protein existence\"].str.strip().map(dictionary_existence)\n",
    "    dataframe[\"Sequence\"] = dataframe[\"Sequence\"].apply(str)\n",
    "    #keep only such columns\n",
    "    dataframe = dataframe[[\"Entry\",\"EC number\", \"Protein existence\", \"Sequence\", \"Length\"]]\n",
    "    dataframe[\"EC number\"] = dataframe[\"EC number\"].replace(\" \", \"\") #remove spaces from EC number\n",
    "    dataframe[\"EC number\"] = dataframe[\"EC number\"].apply(lambda x: x.split(\";\")) #split the EC numbers\n",
    "    dataframe[\"EC number\"] = dataframe[\"EC number\"].apply(lambda x: [y.strip() for y in x]) #strip the EC numbers\n",
    "    dataframe[\"EC number\"] = dataframe[\"EC number\"].apply(lambda x: [y for y in x if y[0] == number]) #get only the EC number of the family\n",
    "    #I will add all the subkeyowrds when present\n",
    "    dataframe[\"EC number\"] = dataframe[\"EC number\"].apply(lambda x: [int(y.split(\".\")[1].split(\".\")[0]) if y[2] != '-' else 0 for y in x]) #get only the subkeyowrds\n",
    "    dataframe[\"EC number\"] = dataframe[\"EC number\"].apply(lambda x: [0] + x) #put 0 at the beginning of the list\n",
    "    dataframe[\"EC number\"] = dataframe[\"EC number\"].apply(lambda x: list(set(x))) #for each y take only the unique values\n",
    "    #count EC numbers\n",
    "    ec_numbers = []\n",
    "    for i in dataframe[\"EC number\"]:\n",
    "        ec_numbers += i\n",
    "    values, counts = np.unique(np.array(ec_numbers), return_counts = True)\n",
    "    counts_dict = dict(zip(values, counts))\n",
    "    dataframe[\"EC number\"] = dataframe[\"EC number\"].apply(lambda x: [y for y in x if counts_dict[y] > 100]) #take only EC numbers with more than 100 proteins\n",
    "    sorted_list = sorted([int(x) for x in counts_dict.keys() if counts_dict[x] > 100])\n",
    "    mapping_dict = dict(zip(sorted_list, range(len(sorted_list))))\n",
    "    dataframe[\"EC number\"] = dataframe[\"EC number\"].apply(lambda x: [mapping_dict[y] for y in x]) #map the EC numbers to a range of their length\n",
    "    print(\"The number of sequences per subfamily is: \", counts_dict)\n",
    "    print(\"The dictionary to map subfamily to keyword:\", mapping_dict)\n",
    "    mean_length = dataframe[\"Length\"].mean()\n",
    "    std_length = dataframe[\"Length\"].std()\n",
    "    print(\"The mean length of the sequences is: \", round(mean_length, 3))\n",
    "    print(\"The standard deviation of the length of the sequences is: \", round(std_length, 3))\n",
    "    return dataframe, mapping_dict\n",
    "\n"
   ]
  },
  {
   "cell_type": "code",
   "execution_count": 8,
   "metadata": {},
   "outputs": [],
   "source": [
    "def plot_histogram(path, data, bin_step, name):\n",
    "    \"\"\"\n",
    "    Plot and save the histogram of the lengths of the sequences\n",
    "    \"\"\"\n",
    "    # Create the histogram\n",
    "    max_val = max(data)\n",
    "    bin_edges = list(range(0, 500, bin_step))\n",
    "    #print(bin_edges)\n",
    "    plt.figure(figsize=(11, 6))\n",
    "    n, bins, _ = plt.hist(data, bins=bin_edges, color=(180/255, 211/255, 178/255), edgecolor='black', alpha=0.99, rwidth=0.87)    \n",
    "    print(\"n:\", n)\n",
    "    print(\"bins:\", bins)\n",
    "    # Title, labels, and legend\n",
    "    plt.title('Histogram of Sequence Length Ranges for EC ' + name[-1])\n",
    "    plt.xlabel('Sequence Length')\n",
    "    plt.ylabel('Number of Instances')\n",
    "    #plt.legend()\n",
    "    _ = plt.show()\n",
    "    plt.savefig(path+\"histogram_\"+name+'.svg')"
   ]
  },
  {
   "cell_type": "code",
   "execution_count": 9,
   "metadata": {},
   "outputs": [],
   "source": [
    "def split_train_test(dataframe, train_fraction, mapping_dict):\n",
    "    #split the dataframe into a training and a test set\n",
    "    dataframe[\"subfamily\"] = dataframe[\"EC number\"].apply(lambda x: x[-1])\n",
    "    train_dataframes = []\n",
    "    test_dataframes = []\n",
    "    for i in mapping_dict.values():\n",
    "        sub_dataframe = dataframe[dataframe[\"subfamily\"] == i]\n",
    "        train_dataframe = sub_dataframe.sample(frac = train_fraction, random_state = seed)\n",
    "        train_dataframes.append(train_dataframe)\n",
    "        test_dataframe = sub_dataframe.drop(train_dataframe.index)\n",
    "        test_dataframes.append(test_dataframe)\n",
    "    train = pd.concat(train_dataframes).drop(columns = [\"subfamily\"])\n",
    "    test = pd.concat(test_dataframes).drop(columns = [\"subfamily\"])\n",
    "    return train, test\n",
    "\n",
    "def convert_to_dict(dataframe):\n",
    "    #convert the dataframes to dictionaries\n",
    "    dictionary = {}\n",
    "    for _, row in dataframe.iterrows():\n",
    "        sub_dict = {}\n",
    "        sub_dict[\"kw\"] = row[\"EC number\"]\n",
    "        sub_dict[\"ex\"] = row[\"Protein existence\"]\n",
    "        sub_dict[\"seq\"] = row[\"Sequence\"]\n",
    "        sub_dict[\"len\"] = row[\"Length\"]\n",
    "        dictionary[row[\"Entry\"]] = sub_dict\n",
    "    # convert the dictionary items to a list, shuffle the list, and convert it back to a dictionary\n",
    "    items = list(dictionary.items())\n",
    "    random.shuffle(items)\n",
    "    return dict(items)\n",
    "\n",
    "def save_to_pickle(dictionary, path):\n",
    "    #save the dictionary to a pickle file\n",
    "    with open(path, \"wb\") as file:\n",
    "        pickle.dump(dictionary, file)"
   ]
  },
  {
   "cell_type": "code",
   "execution_count": 20,
   "metadata": {},
   "outputs": [
    {
     "name": "stdout",
     "output_type": "stream",
     "text": [
      "The following data regard the family with EC number:  7\n",
      "The number of sequences before removing duplicates is:  10347\n",
      "The number of sequences after removing duplicates is:  8588\n",
      "The number of sequences per subfamily is:  {0: 8588, 1: 5844, 2: 509, 3: 579, 4: 285, 5: 82, 6: 794}\n",
      "The dictionary to map subfamily to keyword: {0: 0, 1: 1, 2: 2, 3: 3, 4: 4, 6: 5}\n",
      "The mean length of the sequences is:  277.884\n",
      "The standard deviation of the length of the sequences is:  121.996\n",
      "n: [  28.  446.  803. 1313. 1417. 1134.  852.  924.  417.]\n",
      "bins: [  0.  50. 100. 150. 200. 250. 300. 350. 400. 450.]\n"
     ]
    },
    {
     "data": {
      "image/png": "[encoded data removed]",
      "text/plain": [
       "<Figure size 1100x600 with 1 Axes>"
      ]
     },
     "metadata": {},
     "output_type": "display_data"
    },
    {
     "data": {
      "text/plain": [
       "<Figure size 640x480 with 0 Axes>"
      ]
     },
     "metadata": {},
     "output_type": "display_data"
    }
   ],
   "source": [
    "directory = \"/home/saitto/ProGen/all_families/all_families_data/tsvs/ec_7.tsv\"\n",
    "name = \"ec_7\"\n",
    "dataframe, mapping_dict = load_data(directory, name=name)\n",
    "\n",
    "path_hist = \"/home/saitto/ProGen/all_families/all_families_data/figures/histograms_lengths/\"\n",
    "_ = plot_histogram(path_hist, dataframe[\"Length\"].to_numpy(), 50, name)\n",
    "\n",
    "#split the dataframes into training, validation, and test sets for each EC number 90% training, 10% test\n",
    "train_fraction = 0.9\n",
    "training, test = split_train_test(dataframe, train_fraction, mapping_dict)\n",
    "\n",
    "#convert the dataframes to dictionaries\n",
    "training = convert_to_dict(training)\n",
    "test = convert_to_dict(test)\n",
    "\n",
    "#save the dictionaries to pickle files\n",
    "save_to_pickle(training, \"/home/saitto/ProGen/all_families/all_families_data/pickles/training_\"+name+ \".p\")\n",
    "save_to_pickle(test, \"/home/saitto/ProGen/all_families/all_families_data/pickles/test_\"+name+ \".p\")\n"
   ]
  },
  {
   "cell_type": "markdown",
   "metadata": {},
   "source": [
    "# Blast"
   ]
  },
  {
   "cell_type": "code",
   "execution_count": 28,
   "metadata": {},
   "outputs": [
    {
     "name": "stdout",
     "output_type": "stream",
     "text": [
      "P55250 {'kw': [0, 2], 'ex': 3, 'seq': 'MLRASATRFLSQAKNMNNSPRLFSSASAALQKFRAERDTFGDLQVPADRYWGAQTQRSLQNFDIGGPTERMPEPLIRAFGVLKKAAATVNMTYGLDPKVGEAIQKAADEVIDGSLIDHFPLVVWQTGSGTQTKMNVNEVISNRAIELLGGELGSKAPVHPNDHVNMSQSSNDTFPTAMHVAAVVEIHGRLIPALTTLRDALQAKSAEFEHIIKIGRTHLQDATPLTLGQEFSGYTQQLTYGIARVQGTLERLYNLAQGGTAVGTGLNTRKGFDAKVAEAIASITGLPFKTAPNKFEALAAHDALVEAHGALNTVACSLMKIANDIRYLGSGPRCGLGELSLPENEPGSSIMPGKVNPTQCEAMTMVCAQVMGNNTAISVAGSNGQFELNVFKPVMIKNLIQSIRLISDASISFTKNCVVGIEANEKKISSIMNESLMLVTALNPHIGYDKAAKCAKKAHKEGTTLKEAALSLGYLTSEEFDQWVRPEDMISAKD', 'len': 494}\n",
      "A1TZ51 {'kw': [0, 5], 'ex': 3, 'seq': 'MRIGQGFDVHAFCEGDSVILGGVTIPHSHGLMAHSDGDVLLHALADALLGAVALGDIGHFFPDSSEEWAGADSRDLLRRVMQRVLDEGYAVTNIDTTIIAQAPKMAPHIEAMRMNIAEDLGVPANRVSVKATTTEKLGFTGRGEGIACQAVCLLEAVSQ', 'len': 159}\n",
      "P00660 {'kw': [0, 5], 'ex': 5, 'seq': 'KESAAAKFERQHMDSSTSSASSSNYCNQMMKSRNLTQDRCKPVNTFVHEPLADVQAVCSQKNVACKNGQTNCYQSYSTMSITDCRETGSSKYPNCAYKATQAKKHIIVACEGNPYVPVHFDASV', 'len': 124}\n",
      "P48282 {'kw': [0, 2], 'ex': 4, 'seq': 'MASPDWGYDGENGPEHWCKLHPIANGNNQSPIDIKTSETKRDPSLKPLSISYNPATAKEIVNVGHSFHVNFEDSDNRSVLKGGPLPESYRLRQFHFHWGSTDDCGSEHLVDGATFSAELHLVHWNSAKYPSFADAASQADGLVVVGVLMKVGQANPNLQKVLDALKTVKTKNKKAPFTNFDPSVLLPSCPDYWAYFGSLTHPPLHESVTWIIFKETISVSAEQLAQFRSLLANAEGDKEVCIKQNYRPPQPLKGRTVKASF', 'len': 261}\n",
      "C4L470 {'kw': [0, 2], 'ex': 3, 'seq': 'MPELPEVETVCRRLRPAVSGKTIQSVDVLDPKIIRGLDPEEWVHHLIGETITDVERRGKFILFKLTNGYLVSHLRMEGKFFPYETATEPVKHTHVVITFTDQSTLHYNDVRKFGTMELRTNETIHTTPPLSLLAYEPFDERVTTEALHRRLERMKTRAIKTALLDQSIFVGLGNIYVDETLFRAGVHPTRPAASLSREEVDRVRTEAVAVLNEAIERGGSTIRSYADPDGATGTFQERLYVYGQTGEPCRRCGHEIEKMKLGGRGTHYCPHCQQR', 'len': 275}\n",
      "Q5F8B4 {'kw': [0, 1], 'ex': 3, 'seq': 'MISKQEYQAQAAQGYNRIPLVQELLADLDTPLSLYLKLANRPYTYLLESVVGGERFGRYSFIGLPCSHYLKAGGKHVDVYQNGEIVEQYDGNPLPFIEAFHNRFKTPEIPSLPRFTGGLVGYFGYETVYNFEHFAHRLKNTAKANPLGTPDILLMLSQELAVIDNLSGKIHLIVYADPSQPDSYERARERLEDIRTQLRQSCAIPLSLGSKQTQAVSEFGEEPFKACVDKIKDYIFAGDCMQVVPSQRMSMEFTDNPLALYRALRTLNPSPYLFYYDFGDFHIVGSSPEILVRRERDDVIVRPIAGTRLRGKTPAEDLANEQDLLSDAKEIAEHVMLIDLGRNDVGRISKTGEVKVTDKMVIEKYSHVMHIVSNVEGCLKEGVTNMDILAATFPAGTLSGAPKVRAMEIIEEIEPEKRGIYGGAVGVWGFNNDMDLAIAIRTAVIKNNTLFIQSGAGVVADSDPTSEWQETQNKARAVVRAAQMVQEGLDK', 'len': 491}\n",
      "B6EJT2 {'kw': [0, 3], 'ex': 3, 'seq': 'MFSGSIVALVTPLDTDGEVDYTSLKNLVDYHINAGTDGIVAVGTTGESATLSVEEHVKLVMKTLEFSDGRIPVIAGTGANATHEAVTFSKLFRDSGVAGCLSVTPYYNKPTQEGLFLHYKAISESTDVPQILYNVPGRTAVDLLPETVARLAEFDNIVALKDATAELDRIAITRELCGDKFIQLSGDDATALEFVKMGGHGVISVTANVAAKDMATMFALAAQGKFEEAEIINQRLMPLHQDLFVEANPMPVKWATHRLGMITHPDIRLPLTELSHSAQPVVEQALIRAGVLK', 'len': 293}\n",
      "A6LST9 {'kw': [0, 4], 'ex': 3, 'seq': 'MEKIASFTINHLELLPGVYVSRQDKFGDTVLTTFDIRMNRPNFEPTMNTAEMHAIEHLAATFLRNHKDYADKTVYFGPMGCRTGFYLILHGDYKSKDIVPLLTELYKFMAEFEGDIPGASAKDCGNYLDMNLPMAKYLANKFLNDILLNITEKNLVYPN', 'len': 159}\n",
      "P42222 {'kw': [0, 2], 'ex': 3, 'seq': 'MSITKVHARTVYDSRGNPTVEVEITTENGLFRAIVPSGASTGIHEAVELRDGNKSEWMGKGVTKAVSNVNSIIGPALIKSDLCVTNQKGIDELMISLDGTSNKSRLGANAILGVSLCVARAAAAQKGITLYKYIAELADARQDPFVIPVPFFNVLNGGAHAGGSLAMQEFKIAPVGAQSFAEAMRMGSEVYHHLKILAKEQYGPSAGNVGDEGGVAPDIDTAEDALDMIVKAINICGYEGRVKVGIDSAPSVFYKDGKYDLNFKEPNSDPSHWLSPAQLAEYYHSLLKKYPIISLEDPYAEDDWSSWSAFLKTVNVQIIADDLTCTNKTRIARAIEEKCANTLLLKLNQIGTLTESIEAANQAFDAGWGVMISHRSGETEDPFIADLVVGLRCGQIKSGALSRSERLAKYNELLRIEEELGDDCIYAGHRFHDGNKL', 'len': 437}\n",
      "P0ABE9 {'kw': [0, 2], 'ex': 5, 'seq': 'MKEIIDGFLKFQREAFPKREALFKQLATQQSPRTLFISCSDSRLVPELVTQREPGDLFVIRNAGNIVPSYGPEPGGVSASVEYAVAALRVSDIVICGHSNCGAMTAIASCQCMDHMPAVSHWLRYADSARVVNEARPHSDLPSKAAAMVRENVIAQLANLQTHPSVRLALEEGRIALHGWVYDIESGSIAAFDGATRQFVPLAANPRVCAIPLRQPTAA', 'len': 219}\n"
     ]
    }
   ],
   "source": [
    "import pickle\n",
    "name = \"ec_4\"\n",
    "with open(\"/home/saitto/ProGen/all_families/all_families_data/pickles/training_\"+name+ \".p\", \"rb\") as file:\n",
    "    training = pickle.load(file)\n",
    "keys = list(training.keys())\n",
    "for key in keys[:10]:\n",
    "    print(key, training[key])"
   ]
  },
  {
   "cell_type": "markdown",
   "metadata": {},
   "source": [
    "### I will use the library of biopython to remove sequences from the test set with a similarity higher than 40% from the training set"
   ]
  },
  {
   "cell_type": "code",
   "execution_count": 1,
   "metadata": {},
   "outputs": [],
   "source": [
    "import pickle\n",
    "import os\n",
    "import subprocess\n",
    "def save_to_fasta(path_to_load, path_to_save):\n",
    "    name = path_to_load.split(\"/\")[-1].split(\".\")[0]\n",
    "    with open(path_to_load, \"rb\") as file:\n",
    "        data = pickle.load(file)\n",
    "    with open(path_to_save + name + \".fasta\", \"w\") as f:\n",
    "        for seq_id, seq_info in data.items():\n",
    "            f.write(f\">{seq_id}\\n{seq_info['seq']}\\n\")\n",
    "\n",
    "training_directories = os.listdir(\"/home/saitto/ProGen/all_families/all_families_data/pickles\")\n",
    "pickle_path = \"/home/saitto/ProGen/all_families/all_families_data/pickles/\"\n",
    "output_path = \"/home/saitto/ProGen/all_families/all_families_data/fasta/\"\n",
    "for directory in training_directories:\n",
    "    save_to_fasta(pickle_path+directory, output_path)\n"
   ]
  },
  {
   "cell_type": "code",
   "execution_count": 3,
   "metadata": {},
   "outputs": [
    {
     "name": "stdout",
     "output_type": "stream",
     "text": [
      "the current directory is:  /home/saitto/ProGen/all_families/codes\n",
      "\n",
      "\n",
      "Building a new DB, current time: 03/11/2024 13:53:02\n",
      "New DB name:   /home/saitto/ProGen/all_families/all_families_data/fasta/db/training_ec_3/training_ec_3\n",
      "New DB title:  /home/saitto/ProGen/all_families/all_families_data/fasta/training_ec_3.fasta\n",
      "Sequence type: Protein\n",
      "Keep MBits: T\n",
      "Maximum file size: 1000000000B\n",
      "Adding sequences from FASTA; added 36089 sequences in 0.546367 seconds.\n",
      "\n",
      "\n",
      "the current directory is:  /home/saitto/ProGen/all_families/codes\n",
      "\n",
      "\n",
      "Building a new DB, current time: 03/11/2024 13:53:04\n",
      "New DB name:   /home/saitto/ProGen/all_families/all_families_data/fasta/db/training_ec_4/training_ec_4\n",
      "New DB title:  /home/saitto/ProGen/all_families/all_families_data/fasta/training_ec_4.fasta\n",
      "Sequence type: Protein\n",
      "Keep MBits: T\n",
      "Maximum file size: 1000000000B\n",
      "Adding sequences from FASTA; added 16612 sequences in 0.250788 seconds.\n",
      "\n",
      "\n",
      "the current directory is:  /home/saitto/ProGen/all_families/codes\n",
      "\n",
      "\n",
      "Building a new DB, current time: 03/11/2024 13:53:04\n",
      "New DB name:   /home/saitto/ProGen/all_families/all_families_data/fasta/db/training_ec_1/training_ec_1\n",
      "New DB title:  /home/saitto/ProGen/all_families/all_families_data/fasta/training_ec_1.fasta\n",
      "Sequence type: Protein\n",
      "Keep MBits: T\n",
      "Maximum file size: 1000000000B\n",
      "Adding sequences from FASTA; added 21715 sequences in 0.344201 seconds.\n",
      "\n",
      "\n",
      "the current directory is:  /home/saitto/ProGen/all_families/codes\n",
      "\n",
      "\n",
      "Building a new DB, current time: 03/11/2024 13:53:05\n",
      "New DB name:   /home/saitto/ProGen/all_families/all_families_data/fasta/db/training_ec_7/training_ec_7\n",
      "New DB title:  /home/saitto/ProGen/all_families/all_families_data/fasta/training_ec_7.fasta\n",
      "Sequence type: Protein\n",
      "Keep MBits: T\n",
      "Maximum file size: 1000000000B\n",
      "Adding sequences from FASTA; added 7729 sequences in 0.113554 seconds.\n",
      "\n",
      "\n",
      "the current directory is:  /home/saitto/ProGen/all_families/codes\n",
      "\n",
      "\n",
      "Building a new DB, current time: 03/11/2024 13:53:06\n",
      "New DB name:   /home/saitto/ProGen/all_families/all_families_data/fasta/db/training_ec_5/training_ec_5\n",
      "New DB title:  /home/saitto/ProGen/all_families/all_families_data/fasta/training_ec_5.fasta\n",
      "Sequence type: Protein\n",
      "Keep MBits: T\n",
      "Maximum file size: 1000000000B\n",
      "Adding sequences from FASTA; added 9377 sequences in 0.145234 seconds.\n",
      "\n",
      "\n",
      "the current directory is:  /home/saitto/ProGen/all_families/codes\n",
      "\n",
      "\n",
      "Building a new DB, current time: 03/11/2024 13:53:07\n",
      "New DB name:   /home/saitto/ProGen/all_families/all_families_data/fasta/db/training_ec_6/training_ec_6\n",
      "New DB title:  /home/saitto/ProGen/all_families/all_families_data/fasta/training_ec_6.fasta\n",
      "Sequence type: Protein\n",
      "Keep MBits: T\n",
      "Maximum file size: 1000000000B\n",
      "Adding sequences from FASTA; added 12758 sequences in 0.210622 seconds.\n",
      "\n",
      "\n",
      "the current directory is:  /home/saitto/ProGen/all_families/codes\n",
      "\n",
      "\n",
      "Building a new DB, current time: 03/11/2024 13:53:08\n",
      "New DB name:   /home/saitto/ProGen/all_families/all_families_data/fasta/db/training_ec_2/training_ec_2\n",
      "New DB title:  /home/saitto/ProGen/all_families/all_families_data/fasta/training_ec_2.fasta\n",
      "Sequence type: Protein\n",
      "Keep MBits: T\n",
      "Maximum file size: 1000000000B\n",
      "Adding sequences from FASTA; added 58830 sequences in 0.91199 seconds.\n",
      "\n",
      "\n"
     ]
    }
   ],
   "source": [
    "def run_makeblastdb(fasta_path, db_name):\n",
    "    \"\"\"Creates a BLAST database from a FASTA file.\"\"\"\n",
    "    where_to_save = \"/home/saitto/ProGen/all_families/all_families_data/fasta/results/\" + \n",
    "    if not os.path.exists(where_to_save):\n",
    "        os.makedirs(where_to_save)\n",
    "    cmd = [\n",
    "        '/home/saitto/miniconda3/envs/progen_train/bin/makeblastdb',\n",
    "        '-in', fasta_path,\n",
    "        '-dbtype', 'prot',\n",
    "        '-out', where_to_save + db_name\n",
    "    ]\n",
    "    print(\"the current directory is: \", os.getcwd())\n",
    "    subprocess.run(cmd)\n",
    "\n",
    "output_paths = os.listdir(\"/home/saitto/ProGen/all_families/all_families_data/fasta/\")\n",
    "output_paths = [x for x in output_paths if x.startswith(\"training\")]\n",
    "for path in output_paths:\n",
    "    run_makeblastdb(\"/home/saitto/ProGen/all_families/all_families_data/fasta/\"+path, path.split(\".\")[0])\n"
   ]
  },
  {
   "cell_type": "code",
   "execution_count": 43,
   "metadata": {},
   "outputs": [
    {
     "name": "stdout",
     "output_type": "stream",
     "text": [
      "test_ec_1\n"
     ]
    },
    {
     "name": "stderr",
     "output_type": "stream",
     "text": [
      "Warning: [blastp] Examining 5 or more matches is recommended\n"
     ]
    },
    {
     "name": "stdout",
     "output_type": "stream",
     "text": [
      "test_ec_2\n"
     ]
    },
    {
     "name": "stderr",
     "output_type": "stream",
     "text": [
      "Warning: [blastp] Examining 5 or more matches is recommended\n",
      "Warning: [blastp] Query_521 P58974: One or more O characters replaced by X for alignment score calculations at positions 333 \n",
      "Warning: [blastp] Query_5409 Q8TN68: One or more O characters replaced by X for alignment score calculations at positions 355 \n",
      "Warning: [blastp] Query_6374 P58865: One or more O characters replaced by X for alignment score calculations at positions 201 \n"
     ]
    },
    {
     "name": "stdout",
     "output_type": "stream",
     "text": [
      "test_ec_3\n"
     ]
    },
    {
     "name": "stderr",
     "output_type": "stream",
     "text": [
      "Warning: [blastp] Examining 5 or more matches is recommended\n"
     ]
    },
    {
     "name": "stdout",
     "output_type": "stream",
     "text": [
      "test_ec_4\n"
     ]
    },
    {
     "name": "stderr",
     "output_type": "stream",
     "text": [
      "Warning: [blastp] Examining 5 or more matches is recommended\n"
     ]
    },
    {
     "name": "stdout",
     "output_type": "stream",
     "text": [
      "test_ec_5\n"
     ]
    },
    {
     "name": "stderr",
     "output_type": "stream",
     "text": [
      "Warning: [blastp] Examining 5 or more matches is recommended\n"
     ]
    },
    {
     "name": "stdout",
     "output_type": "stream",
     "text": [
      "test_ec_6\n"
     ]
    },
    {
     "name": "stderr",
     "output_type": "stream",
     "text": [
      "Warning: [blastp] Examining 5 or more matches is recommended\n"
     ]
    },
    {
     "name": "stdout",
     "output_type": "stream",
     "text": [
      "test_ec_7\n"
     ]
    },
    {
     "name": "stderr",
     "output_type": "stream",
     "text": [
      "Warning: [blastp] Examining 5 or more matches is recommended\n"
     ]
    }
   ],
   "source": [
    "output_paths = os.listdir(\"/home/saitto/ProGen/all_families/all_families_data/fasta/\")\n",
    "output_paths = [x for x in output_paths if x.startswith(\"test\")]\n",
    "\n",
    "def run_blastp(query_fasta, db_path, query_name):\n",
    "    \"\"\"Runs blastp against a specified database.\"\"\"\n",
    "    where_to_save = \"/home/saitto/ProGen/all_families/all_families_data/fasta/results/\" + query_name +\".tsv\"\n",
    "    cmd = [\n",
    "        '/home/saitto/miniconda3/envs/progen_train/bin/blastp',\n",
    "        '-query', query_fasta,\n",
    "        '-db', db_path,\n",
    "        '-out', where_to_save,\n",
    "        '-outfmt', \"6 qseqid sseqid pident length mismatch gapopen qstart qend sstart send evalue bitscore qcovs\",\n",
    "        '-max_target_seqs', '1'\n",
    "    ]\n",
    "    subprocess.run(cmd)\n",
    "\n",
    "\n",
    "query_paths = os.listdir(\"/home/saitto/ProGen/all_families/all_families_data/fasta/\")\n",
    "query_paths = [x for x in output_paths if x.startswith(\"test\")]\n",
    "#sort the paths by the number e.g. path = test_ec_7.fasta\n",
    "query_paths = sorted(query_paths, key = lambda x: int(x.split(\"_\")[2].split(\".\")[0]))\n",
    "db_paths = os.listdir(\"/home/saitto/ProGen/all_families/all_families_data/fasta/db/\")\n",
    "db_paths = sorted(db_paths, key = lambda x: int(x[-1]))\n",
    "db_paths = [x + \"/\" + x for x in db_paths]\n",
    "for path_db, path_q in zip(db_paths, query_paths):\n",
    "    full_path_db = \"/home/saitto/ProGen/all_families/all_families_data/fasta/db/\"+path_db\n",
    "    full_path_q = \"/home/saitto/ProGen/all_families/all_families_data/fasta/\"+path_q\n",
    "    print(path_q.split(\".\")[0])\n",
    "    run_blastp(full_path_q, \n",
    "              full_path_db, path_q.split(\".\")[0])"
   ]
  },
  {
   "cell_type": "code",
   "execution_count": null,
   "metadata": {},
   "outputs": [],
   "source": [
    "#adding matrix and task and seed\n",
    "def run_blastp(query_fasta, db_path, query_name, matrix=\"BLOSUM62\", task=\"blastp-fast\", word_size=3):\n",
    "    \"\"\"Runs blastp against a specified database with specified options.\"\"\"\n",
    "    where_to_save = \"/home/saitto/ProGen/all_families/all_families_data/fasta/results/\" + query_name + \".tsv\"\n",
    "    cmd = [\n",
    "        '/home/saitto/miniconda3/envs/progen_train/bin/blastp',\n",
    "        '-query', query_fasta,\n",
    "        '-db', db_path,\n",
    "        '-out', where_to_save,\n",
    "        '-outfmt', \"6 qseqid sseqid pident length mismatch gapopen qstart qend sstart send evalue bitscore qcovs\",\n",
    "        '-max_target_seqs', '1',\n",
    "        '-matrix', matrix,\n",
    "        '-task', task,\n",
    "        '-word_size', str(word_size)\n",
    "    ]\n",
    "    subprocess.run(cmd)\n"
   ]
  },
  {
   "cell_type": "code",
   "execution_count": null,
   "metadata": {},
   "outputs": [],
   "source": []
  }
 ],
 "metadata": {
  "kernelspec": {
   "display_name": "progen",
   "language": "python",
   "name": "progen"
  },
  "language_info": {
   "codemirror_mode": {
    "name": "ipython",
    "version": 3
   },
   "file_extension": ".py",
   "mimetype": "text/x-python",
   "name": "python",
   "nbconvert_exporter": "python",
   "pygments_lexer": "ipython3",
   "version": "3.11.4"
  }
 },
 "nbformat": 4,
 "nbformat_minor": 2
}
