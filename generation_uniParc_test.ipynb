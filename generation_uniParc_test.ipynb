{
 "cells": [
  {
   "cell_type": "code",
   "execution_count": 1,
   "metadata": {},
   "outputs": [],
   "source": [
    "import os\n",
    "import torch\n",
    "import numpy as np\n",
    "import pickle\n",
    "#os.environ[\"CUDA_DEVICE_ORDER\"]=\"PCI_BUS_ID\"\n",
    "#os.environ[\"CUDA_VISIBLE_DEVICES\"]=\"0\"\n",
    "from tokenizer import Tokenizer\n",
    "from generation_manager import GeneratorManager"
   ]
  },
  {
   "cell_type": "code",
   "execution_count": 2,
   "metadata": {},
   "outputs": [
    {
     "name": "stdout",
     "output_type": "stream",
     "text": [
      "tokenizer loaded\n",
      "loading model from: ckpt/pretrain_progen_full.pth\n"
     ]
    }
   ],
   "source": [
    "tokenizer = Tokenizer()\n",
    "print('tokenizer loaded')\n",
    "\n",
    "curr_model_path = 'ckpt/pretrain_progen_full.pth' # model checkpoint\n",
    "print('loading model from:', curr_model_path)"
   ]
  },
  {
   "cell_type": "code",
   "execution_count": 3,
   "metadata": {
    "scrolled": true
   },
   "outputs": [
    {
     "name": "stdout",
     "output_type": "stream",
     "text": [
      "Random Selection:\n",
      "MLLIRLAQVSQEVAATAARSRKTALLAELFREAEADDVPIVIPYLAGRLPQGRLGVGWKVLSRPVPPAAGPTLTVREVDVLLSELGKVSGPGSQAERTRLVGELMGAATEEEQRFLLGLLTGEVRQGALDAVAVEGLARATGAAAADVRRAVMLAGSLQTVAQALLAEGPGALDRFRLTVGRPVLPMLAHSASSVAEAVEKLGACAVEEKLDGIRVQVHRDGDTVRVHTRTLDDITDRLPEVTSAARELRGERFILDGEVISFDAAGRPRSFQETAGRVGSRTDVAKAAGEVPVSPVFFDALSVDGTDLLDLPFAERHAQLARLVPEPMRVRRTVASGPADIAEAERFLADTLARGHEGVVVKALDAPYSAGRRGAAWLKVKPVHTLDLVVLAAEWGHGRRTGKLSNLHLGARSPDGGFAMLGKTFKGMTDAMLAWQTERLQELAVEDNGWVVRVRPELVVEIAYDGLQRSSRYPAGVTLRFARVVRYREDKRPEEADTVQALLAAHPEVTP\n",
      "100\n",
      "{'entryType': 'UniProtKB unreviewed (TrEMBL)', 'primaryAccession': 'A0A918IJ85', 'uniProtkbId': 'A0A918IJ85_9ACTN', 'entryAudit': {'firstPublicDate': '2023-02-22', 'lastAnnotationUpdateDate': '2023-06-28', 'lastSequenceUpdateDate': '2023-02-22', 'entryVersion': 3, 'sequenceVersion': 1}, 'annotationScore': 3.0, 'organism': {'scientificName': 'Streptomyces filipinensis', 'taxonId': 66887, 'evidences': [{'evidenceCode': 'ECO:0000313', 'source': 'EMBL', 'id': 'GGV23572.1'}, {'evidenceCode': 'ECO:0000313', 'source': 'Proteomes', 'id': 'UP000618795'}], 'lineage': ['Bacteria', 'Actinomycetota', 'Actinomycetes', 'Kitasatosporales', 'Streptomycetaceae', 'Streptomyces']}, 'proteinExistence': '3: Inferred from homology', 'proteinDescription': {'recommendedName': {'fullName': {'evidences': [{'evidenceCode': 'ECO:0000256', 'source': 'HAMAP-Rule', 'id': 'MF_00407'}], 'value': 'Probable DNA ligase'}, 'ecNumbers': [{'evidences': [{'evidenceCode': 'ECO:0000256', 'source': 'HAMAP-Rule', 'id': 'MF_00407'}], 'value': '6.5.1.1'}]}, 'alternativeNames': [{'fullName': {'evidences': [{'evidenceCode': 'ECO:0000256', 'source': 'HAMAP-Rule', 'id': 'MF_00407'}], 'value': 'Polydeoxyribonucleotide synthase [ATP]'}}]}, 'genes': [{'geneName': {'evidences': [{'evidenceCode': 'ECO:0000256', 'source': 'HAMAP-Rule', 'id': 'MF_00407'}, {'evidenceCode': 'ECO:0000313', 'source': 'EMBL', 'id': 'GGV23572.1'}], 'value': 'lig'}, 'orfNames': [{'evidences': [{'evidenceCode': 'ECO:0000313', 'source': 'EMBL', 'id': 'GGV23572.1'}], 'value': 'GCM10010260_74970'}]}], 'comments': [{'texts': [{'evidences': [{'evidenceCode': 'ECO:0000256', 'source': 'HAMAP-Rule', 'id': 'MF_00407'}], 'value': 'DNA ligase that seals nicks in double-stranded DNA during DNA replication, DNA recombination and DNA repair'}], 'commentType': 'FUNCTION'}, {'commentType': 'CATALYTIC ACTIVITY', 'reaction': {'name': \"ATP + (deoxyribonucleotide)n-3'-hydroxyl + 5'-phospho-(deoxyribonucleotide)m = (deoxyribonucleotide)n+m + AMP + diphosphate.\", 'ecNumber': '6.5.1.1', 'evidences': [{'evidenceCode': 'ECO:0000256', 'source': 'ARBA', 'id': 'ARBA00034003'}, {'evidenceCode': 'ECO:0000256', 'source': 'HAMAP-Rule', 'id': 'MF_00407'}, {'evidenceCode': 'ECO:0000256', 'source': 'RuleBase', 'id': 'RU000617'}]}}, {'commentType': 'COFACTOR', 'cofactors': [{'name': 'Mg(2+)', 'evidences': [{'evidenceCode': 'ECO:0000256', 'source': 'HAMAP-Rule', 'id': 'MF_00407'}], 'cofactorCrossReference': {'database': 'ChEBI', 'id': 'CHEBI:18420'}}]}, {'texts': [{'evidences': [{'evidenceCode': 'ECO:0000256', 'source': 'HAMAP-Rule', 'id': 'MF_00407'}, {'evidenceCode': 'ECO:0000256', 'source': 'RuleBase', 'id': 'RU004196'}], 'value': 'Belongs to the ATP-dependent DNA ligase family'}], 'commentType': 'SIMILARITY'}, {'texts': [{'evidences': [{'evidenceCode': 'ECO:0000313', 'source': 'EMBL', 'id': 'GGV23572.1'}], 'value': 'The sequence shown here is derived from an EMBL/GenBank/DDBJ whole genome shotgun (WGS) entry which is preliminary data'}], 'commentType': 'CAUTION'}], 'features': [{'type': 'Domain', 'location': {'start': {'value': 287, 'modifier': 'EXACT'}, 'end': {'value': 414, 'modifier': 'EXACT'}}, 'description': 'ATP-dependent DNA ligase family profile', 'evidences': [{'evidenceCode': 'ECO:0000259', 'source': 'PROSITE', 'id': 'PS50160'}]}, {'type': 'Active site', 'location': {'start': {'value': 210, 'modifier': 'EXACT'}, 'end': {'value': 210, 'modifier': 'EXACT'}}, 'description': 'N6-AMP-lysine intermediate', 'evidences': [{'evidenceCode': 'ECO:0000256', 'source': 'HAMAP-Rule', 'id': 'MF_00407'}]}, {'type': 'Binding site', 'location': {'start': {'value': 208, 'modifier': 'EXACT'}, 'end': {'value': 208, 'modifier': 'EXACT'}}, 'description': '', 'featureCrossReferences': [{'database': 'ChEBI', 'id': 'CHEBI:30616'}], 'evidences': [{'evidenceCode': 'ECO:0000256', 'source': 'HAMAP-Rule', 'id': 'MF_00407'}], 'ligand': {'name': 'ATP', 'id': 'ChEBI:CHEBI:30616'}}, {'type': 'Binding site', 'location': {'start': {'value': 215, 'modifier': 'EXACT'}, 'end': {'value': 215, 'modifier': 'EXACT'}}, 'description': '', 'featureCrossReferences': [{'database': 'ChEBI', 'id': 'CHEBI:30616'}], 'evidences': [{'evidenceCode': 'ECO:0000256', 'source': 'HAMAP-Rule', 'id': 'MF_00407'}], 'ligand': {'name': 'ATP', 'id': 'ChEBI:CHEBI:30616'}}, {'type': 'Binding site', 'location': {'start': {'value': 230, 'modifier': 'EXACT'}, 'end': {'value': 230, 'modifier': 'EXACT'}}, 'description': '', 'featureCrossReferences': [{'database': 'ChEBI', 'id': 'CHEBI:30616'}], 'evidences': [{'evidenceCode': 'ECO:0000256', 'source': 'HAMAP-Rule', 'id': 'MF_00407'}], 'ligand': {'name': 'ATP', 'id': 'ChEBI:CHEBI:30616'}}, {'type': 'Binding site', 'location': {'start': {'value': 259, 'modifier': 'EXACT'}, 'end': {'value': 259, 'modifier': 'EXACT'}}, 'description': '', 'featureCrossReferences': [{'database': 'ChEBI', 'id': 'CHEBI:30616'}], 'evidences': [{'evidenceCode': 'ECO:0000256', 'source': 'HAMAP-Rule', 'id': 'MF_00407'}], 'ligand': {'name': 'ATP', 'id': 'ChEBI:CHEBI:30616'}}, {'type': 'Binding site', 'location': {'start': {'value': 299, 'modifier': 'EXACT'}, 'end': {'value': 299, 'modifier': 'EXACT'}}, 'description': '', 'featureCrossReferences': [{'database': 'ChEBI', 'id': 'CHEBI:30616'}], 'evidences': [{'evidenceCode': 'ECO:0000256', 'source': 'HAMAP-Rule', 'id': 'MF_00407'}], 'ligand': {'name': 'ATP', 'id': 'ChEBI:CHEBI:30616'}}, {'type': 'Binding site', 'location': {'start': {'value': 374, 'modifier': 'EXACT'}, 'end': {'value': 374, 'modifier': 'EXACT'}}, 'description': '', 'featureCrossReferences': [{'database': 'ChEBI', 'id': 'CHEBI:30616'}], 'evidences': [{'evidenceCode': 'ECO:0000256', 'source': 'HAMAP-Rule', 'id': 'MF_00407'}], 'ligand': {'name': 'ATP', 'id': 'ChEBI:CHEBI:30616'}}, {'type': 'Binding site', 'location': {'start': {'value': 380, 'modifier': 'EXACT'}, 'end': {'value': 380, 'modifier': 'EXACT'}}, 'description': '', 'featureCrossReferences': [{'database': 'ChEBI', 'id': 'CHEBI:30616'}], 'evidences': [{'evidenceCode': 'ECO:0000256', 'source': 'HAMAP-Rule', 'id': 'MF_00407'}], 'ligand': {'name': 'ATP', 'id': 'ChEBI:CHEBI:30616'}}], 'keywords': [{'evidences': [{'evidenceCode': 'ECO:0000256', 'source': 'ARBA', 'id': 'ARBA00022840'}, {'evidenceCode': 'ECO:0000256', 'source': 'HAMAP-Rule', 'id': 'MF_00407'}], 'id': 'KW-0067', 'category': 'Ligand', 'name': 'ATP-binding'}, {'evidences': [{'evidenceCode': 'ECO:0000256', 'source': 'ARBA', 'id': 'ARBA00023306'}, {'evidenceCode': 'ECO:0000256', 'source': 'HAMAP-Rule', 'id': 'MF_00407'}], 'id': 'KW-0131', 'category': 'Biological process', 'name': 'Cell cycle'}, {'evidences': [{'evidenceCode': 'ECO:0000256', 'source': 'ARBA', 'id': 'ARBA00022618'}, {'evidenceCode': 'ECO:0000256', 'source': 'HAMAP-Rule', 'id': 'MF_00407'}], 'id': 'KW-0132', 'category': 'Biological process', 'name': 'Cell division'}, {'evidences': [{'evidenceCode': 'ECO:0000256', 'source': 'ARBA', 'id': 'ARBA00022763'}, {'evidenceCode': 'ECO:0000256', 'source': 'HAMAP-Rule', 'id': 'MF_00407'}], 'id': 'KW-0227', 'category': 'Biological process', 'name': 'DNA damage'}, {'evidences': [{'evidenceCode': 'ECO:0000256', 'source': 'ARBA', 'id': 'ARBA00023172'}, {'evidenceCode': 'ECO:0000256', 'source': 'HAMAP-Rule', 'id': 'MF_00407'}], 'id': 'KW-0233', 'category': 'Biological process', 'name': 'DNA recombination'}, {'evidences': [{'evidenceCode': 'ECO:0000256', 'source': 'ARBA', 'id': 'ARBA00023204'}, {'evidenceCode': 'ECO:0000256', 'source': 'HAMAP-Rule', 'id': 'MF_00407'}], 'id': 'KW-0234', 'category': 'Biological process', 'name': 'DNA repair'}, {'evidences': [{'evidenceCode': 'ECO:0000256', 'source': 'ARBA', 'id': 'ARBA00022705'}, {'evidenceCode': 'ECO:0000256', 'source': 'HAMAP-Rule', 'id': 'MF_00407'}], 'id': 'KW-0235', 'category': 'Biological process', 'name': 'DNA replication'}, {'evidences': [{'evidenceCode': 'ECO:0000256', 'source': 'ARBA', 'id': 'ARBA00022598'}, {'evidenceCode': 'ECO:0000256', 'source': 'HAMAP-Rule', 'id': 'MF_00407'}], 'id': 'KW-0436', 'category': 'Molecular function', 'name': 'Ligase'}, {'evidences': [{'evidenceCode': 'ECO:0000256', 'source': 'ARBA', 'id': 'ARBA00022842'}, {'evidenceCode': 'ECO:0000256', 'source': 'HAMAP-Rule', 'id': 'MF_00407'}], 'id': 'KW-0460', 'category': 'Ligand', 'name': 'Magnesium'}, {'evidences': [{'evidenceCode': 'ECO:0000256', 'source': 'ARBA', 'id': 'ARBA00022723'}, {'evidenceCode': 'ECO:0000256', 'source': 'HAMAP-Rule', 'id': 'MF_00407'}], 'id': 'KW-0479', 'category': 'Ligand', 'name': 'Metal-binding'}, {'evidences': [{'evidenceCode': 'ECO:0000256', 'source': 'ARBA', 'id': 'ARBA00022741'}, {'evidenceCode': 'ECO:0000256', 'source': 'HAMAP-Rule', 'id': 'MF_00407'}], 'id': 'KW-0547', 'category': 'Ligand', 'name': 'Nucleotide-binding'}, {'evidences': [{'evidenceCode': 'ECO:0000313', 'source': 'Proteomes', 'id': 'UP000618795'}], 'id': 'KW-1185', 'category': 'Technical term', 'name': 'Reference proteome'}], 'references': [{'citation': {'id': '30832757', 'citationType': 'journal article', 'authors': ['Wu L.', 'Ma J.'], 'citationCrossReferences': [{'database': 'PubMed', 'id': '30832757'}], 'title': 'The Global Catalogue of Microorganisms (GCM) 10K type strain sequencing project: providing services to taxonomists for standard genome sequencing and annotation.', 'publicationDate': '2019', 'journal': 'Int. J. Syst. Evol. Microbiol.', 'firstPage': '895', 'lastPage': '898', 'volume': '69'}, 'referencePositions': ['NUCLEOTIDE SEQUENCE'], 'referenceComments': [{'evidences': [{'evidenceCode': 'ECO:0000313', 'source': 'EMBL', 'id': 'GGV23572.1'}], 'value': 'JCM 4369', 'type': 'STRAIN'}], 'evidences': [{'evidenceCode': 'ECO:0000313', 'source': 'EMBL', 'id': 'GGV23572.1'}]}, {'citation': {'id': 'CI-65EJ2DJ4CPMIB', 'citationType': 'submission', 'authors': ['Sun Q.', 'Ohkuma M.'], 'publicationDate': 'SEP-2020', 'submissionDatabase': 'EMBL/GenBank/DDBJ databases'}, 'referencePositions': ['NUCLEOTIDE SEQUENCE'], 'referenceComments': [{'evidences': [{'evidenceCode': 'ECO:0000313', 'source': 'EMBL', 'id': 'GGV23572.1'}], 'value': 'JCM 4369', 'type': 'STRAIN'}], 'evidences': [{'evidenceCode': 'ECO:0000313', 'source': 'EMBL', 'id': 'GGV23572.1'}]}], 'uniProtKBCrossReferences': [{'database': 'EMBL', 'id': 'BMTD01000025', 'properties': [{'key': 'ProteinId', 'value': 'GGV23572.1'}, {'key': 'Status', 'value': '-'}, {'key': 'MoleculeType', 'value': 'Genomic_DNA'}]}, {'database': 'Proteomes', 'id': 'UP000618795', 'properties': [{'key': 'Component', 'value': 'Unassembled WGS sequence'}]}, {'database': 'GO', 'id': 'GO:0005524', 'properties': [{'key': 'GoTerm', 'value': 'F:ATP binding'}, {'key': 'GoEvidenceType', 'value': 'IEA:UniProtKB-UniRule'}]}, {'database': 'GO', 'id': 'GO:0003910', 'properties': [{'key': 'GoTerm', 'value': 'F:DNA ligase (ATP) activity'}, {'key': 'GoEvidenceType', 'value': 'IEA:UniProtKB-UniRule'}]}, {'database': 'GO', 'id': 'GO:0046872', 'properties': [{'key': 'GoTerm', 'value': 'F:metal ion binding'}, {'key': 'GoEvidenceType', 'value': 'IEA:UniProtKB-KW'}]}, {'database': 'GO', 'id': 'GO:0007049', 'properties': [{'key': 'GoTerm', 'value': 'P:cell cycle'}, {'key': 'GoEvidenceType', 'value': 'IEA:UniProtKB-KW'}]}, {'database': 'GO', 'id': 'GO:0051301', 'properties': [{'key': 'GoTerm', 'value': 'P:cell division'}, {'key': 'GoEvidenceType', 'value': 'IEA:UniProtKB-KW'}]}, {'database': 'GO', 'id': 'GO:0006310', 'properties': [{'key': 'GoTerm', 'value': 'P:DNA recombination'}, {'key': 'GoEvidenceType', 'value': 'IEA:UniProtKB-UniRule'}]}, {'database': 'GO', 'id': 'GO:0006281', 'properties': [{'key': 'GoTerm', 'value': 'P:DNA repair'}, {'key': 'GoEvidenceType', 'value': 'IEA:UniProtKB-UniRule'}]}, {'database': 'GO', 'id': 'GO:0006260', 'properties': [{'key': 'GoTerm', 'value': 'P:DNA replication'}, {'key': 'GoEvidenceType', 'value': 'IEA:UniProtKB-UniRule'}]}, {'database': 'CDD', 'id': 'cd07901', 'properties': [{'key': 'EntryName', 'value': 'Adenylation_DNA_ligase_Arch_LigB'}, {'key': 'MatchStatus', 'value': '1'}]}, {'database': 'CDD', 'id': 'cd07972', 'properties': [{'key': 'EntryName', 'value': 'OBF_DNA_ligase_Arch_LigB'}, {'key': 'MatchStatus', 'value': '1'}]}, {'database': 'Gene3D', 'id': '1.10.3260.10', 'properties': [{'key': 'EntryName', 'value': 'DNA ligase, ATP-dependent, N-terminal domain'}, {'key': 'MatchStatus', 'value': '1'}]}, {'database': 'Gene3D', 'id': '3.30.470.30', 'properties': [{'key': 'EntryName', 'value': 'DNA ligase/mRNA capping enzyme'}, {'key': 'MatchStatus', 'value': '1'}]}, {'database': 'Gene3D', 'id': '2.40.50.140', 'properties': [{'key': 'EntryName', 'value': 'Nucleic acid-binding proteins'}, {'key': 'MatchStatus', 'value': '1'}]}, {'database': 'HAMAP', 'id': 'MF_00407', 'properties': [{'key': 'EntryName', 'value': 'DNA_ligase'}, {'key': 'MatchStatus', 'value': '1'}]}, {'database': 'InterPro', 'id': 'IPR022865', 'properties': [{'key': 'EntryName', 'value': 'DNA_ligae_ATP-dep_bac/arc'}]}, {'database': 'InterPro', 'id': 'IPR000977', 'properties': [{'key': 'EntryName', 'value': 'DNA_ligase_ATP-dep'}]}, {'database': 'InterPro', 'id': 'IPR012309', 'properties': [{'key': 'EntryName', 'value': 'DNA_ligase_ATP-dep_C'}]}, {'database': 'InterPro', 'id': 'IPR012310', 'properties': [{'key': 'EntryName', 'value': 'DNA_ligase_ATP-dep_cent'}]}, {'database': 'InterPro', 'id': 'IPR016059', 'properties': [{'key': 'EntryName', 'value': 'DNA_ligase_ATP-dep_CS'}]}, {'database': 'InterPro', 'id': 'IPR012308', 'properties': [{'key': 'EntryName', 'value': 'DNA_ligase_ATP-dep_N'}]}, {'database': 'InterPro', 'id': 'IPR036599', 'properties': [{'key': 'EntryName', 'value': 'DNA_ligase_N_sf'}]}, {'database': 'InterPro', 'id': 'IPR012340', 'properties': [{'key': 'EntryName', 'value': 'NA-bd_OB-fold'}]}, {'database': 'PANTHER', 'id': 'PTHR45674', 'properties': [{'key': 'EntryName', 'value': 'DNA LIGASE 1/3 FAMILY MEMBER'}, {'key': 'MatchStatus', 'value': '1'}]}, {'database': 'PANTHER', 'id': 'PTHR45674:SF13', 'properties': [{'key': 'EntryName', 'value': 'DNA LIGASE-RELATED'}, {'key': 'MatchStatus', 'value': '1'}]}, {'database': 'Pfam', 'id': 'PF04679', 'properties': [{'key': 'EntryName', 'value': 'DNA_ligase_A_C'}, {'key': 'MatchStatus', 'value': '1'}]}, {'database': 'Pfam', 'id': 'PF01068', 'properties': [{'key': 'EntryName', 'value': 'DNA_ligase_A_M'}, {'key': 'MatchStatus', 'value': '1'}]}, {'database': 'Pfam', 'id': 'PF04675', 'properties': [{'key': 'EntryName', 'value': 'DNA_ligase_A_N'}, {'key': 'MatchStatus', 'value': '1'}]}, {'database': 'SUPFAM', 'id': 'SSF117018', 'properties': [{'key': 'EntryName', 'value': 'ATP-dependent DNA ligase DNA-binding domain'}, {'key': 'MatchStatus', 'value': '1'}]}, {'database': 'SUPFAM', 'id': 'SSF56091', 'properties': [{'key': 'EntryName', 'value': 'DNA ligase/mRNA capping enzyme, catalytic domain'}, {'key': 'MatchStatus', 'value': '1'}]}, {'database': 'SUPFAM', 'id': 'SSF50249', 'properties': [{'key': 'EntryName', 'value': 'Nucleic acid-binding proteins'}, {'key': 'MatchStatus', 'value': '1'}]}, {'database': 'TIGRFAMs', 'id': 'TIGR00574', 'properties': [{'key': 'EntryName', 'value': 'dnl1'}, {'key': 'MatchStatus', 'value': '1'}]}, {'database': 'PROSITE', 'id': 'PS00697', 'properties': [{'key': 'EntryName', 'value': 'DNA_LIGASE_A1'}, {'key': 'MatchStatus', 'value': '1'}]}, {'database': 'PROSITE', 'id': 'PS50160', 'properties': [{'key': 'EntryName', 'value': 'DNA_LIGASE_A3'}, {'key': 'MatchStatus', 'value': '1'}]}], 'sequence': {'value': 'MLLIRLAQVSQEVAATAARSRKTALLAELFREAEADDVPIVIPYLAGRLPQGRLGVGWKVLSRPVPPAAGPTLTVREVDVLLSELGKVSGPGSQAERTRLVGELMGAATEEEQRFLLGLLTGEVRQGALDAVAVEGLARATGAAAADVRRAVMLAGSLQTVAQALLAEGPGALDRFRLTVGRPVLPMLAHSASSVAEAVEKLGACAVEEKLDGIRVQVHRDGDTVRVHTRTLDDITDRLPEVTSAARELRGERFILDGEVISFDAAGRPRSFQETAGRVGSRTDVAKAAGEVPVSPVFFDALSVDGTDLLDLPFAERHAQLARLVPEPMRVRRTVASGPADIAEAERFLADTLARGHEGVVVKALDAPYSAGRRGAAWLKVKPVHTLDLVVLAAEWGHGRRTGKLSNLHLGARSPDGGFAMLGKTFKGMTDAMLAWQTERLQELAVEDNGWVVRVRPELVVEIAYDGLQRSSRYPAGVTLRFARVVRYREDKRPEEADTVQALLAAHPEVTP', 'length': 512, 'molWeight': 54974, 'crc64': '22CD3899941946AA', 'md5': 'C6E095DCFCD4367B53D8806234D996C8'}, 'extraAttributes': {'countByCommentType': {'FUNCTION': 1, 'CATALYTIC ACTIVITY': 1, 'COFACTOR': 1, 'SIMILARITY': 1, 'CAUTION': 1}, 'countByFeatureType': {'Domain': 1, 'Active site': 1, 'Binding site': 7}, 'uniParcId': 'UPI00178703C8'}}\n"
     ]
    }
   ],
   "source": [
    "# paths to the saved .p files\n",
    "random_selection_file = os.path.join(\"training_test_data_random_selection_uniParc\", \"random_selection_100.p\")\n",
    "#data_file = os.path.join(\"data\", \"filtered_data_\" + query + \".p\")\n",
    "\n",
    "# Reload random_selection from the .p file\n",
    "random_selection = False\n",
    "with open(random_selection_file, \"rb\") as file:\n",
    "    random_selection = pickle.load(file)\n",
    "\n",
    "# Reload filtered_data from the .p file\n",
    "#filtered_data = False\n",
    "#with open(data_file, \"rb\") as file:\n",
    "#    filtered_data = pickle.load(file)\n",
    "\n",
    "# Print or use the reloaded datasets as needed\n",
    "print(\"Random Selection:\")\n",
    "for entry in random_selection:\n",
    "    print(entry[\"sequence\"][\"value\"])\n",
    "    print(len(random_selection))\n",
    "    print(entry)\n",
    "    break\n",
    "\n",
    "#print(\"---\")\n",
    "\n",
    "#print(\"Filtered Data:\")\n",
    "#for entry in filtered_data:\n",
    "#    print(entry[\"sequence\"])'''\n"
   ]
  },
  {
   "cell_type": "code",
   "execution_count": 4,
   "metadata": {},
   "outputs": [
    {
     "name": "stdout",
     "output_type": "stream",
     "text": [
      "Tax lineage problems: 100\n"
     ]
    }
   ],
   "source": [
    "import ete3\n",
    "ncbi = ete3.NCBITaxa()\n",
    "count = 0\n",
    "inner_count = 0\n",
    "for entry in random_selection:\n",
    "    taxid = int(entry['organism']['taxonId']) # taxonomy id from NCBI\n",
    "    inner_count = 0\n",
    "    #print(taxid)\n",
    "    try:\n",
    "        tax_lineage1 = ncbi.get_lineage(taxid)\n",
    "        # remove root taxonomy id\n",
    "        tax_lineage1 = [element for element in tax_lineage1 if element not in [1, 2, 131567, 10239]]\n",
    "        #tax_lineage2 = taxa_to_lineage[taxid] # make lineage in ncbi ids\n",
    "        #print(tax_lineage1)\n",
    "        res = []\n",
    "        for ite in tax_lineage1:\n",
    "            try:\n",
    "                tmp = taxa_to_ctrl_idx[ite]\n",
    "                res.append(tmp)\n",
    "            except:\n",
    "                inner_count += 1\n",
    "        if res == [] and inner_count >= 1:\n",
    "            count += 1\n",
    "    except:\n",
    "        count += 1\n",
    "        print(\"FATAL taxa conversion\")\n",
    "        #tax_lineage = [taxa_to_ctrl_idx[ite] for ite in tax_lineage1] # now translated as ctrl code indices\n",
    "print(\"Tax lineage problems:\", count)"
   ]
  },
  {
   "cell_type": "markdown",
   "metadata": {},
   "source": [
    "<p>To evaluate the generated sequence using teacher forcing:\n",
    "\n",
    "1. Generate the Sequence: The transformer model with teacher forcing generates the complete sequence. \n",
    "At each time step, we provide the true input sequence (+ 1 versus previous step), as input to the model.\n",
    "\n",
    "2. Calculate Metrics: Accuracy, soft accuracy (based on BLOSUM matrix), perplexity. \n",
    "\n",
    "</p>"
   ]
  },
  {
   "cell_type": "code",
   "execution_count": 9,
   "metadata": {},
   "outputs": [
    {
     "name": "stdout",
     "output_type": "stream",
     "text": [
      "MODEL SIZE: \n",
      "1280\n",
      "Found PyTorch checkpoint at  ckpt/pretrain_progen_full.pth\n",
      "GPU aviable. Previous checkpoint loaded in GPU\n",
      "FATAL keywords conversion for entry:  66887\n"
     ]
    }
   ],
   "source": [
    "penalty = 1.2\n",
    "topk = 3\n",
    "generator = GeneratorManager(curr_model_path, penalty, topk)\n",
    "\n",
    "predicted = []\n",
    "true_tokens_index_in_probs_all = []\n",
    "tokens_probs_all = []\n",
    "true_value = []\n",
    "for entry in random_selection:\n",
    "    input_seq = entry['sequence']['value']\n",
    "    taxid = int(entry['organism']['taxonId'])\n",
    "    try:\n",
    "        tax_lineage = ncbi.get_lineage(taxid)\n",
    "        # remove root taxonomy id\n",
    "        tax_lineage = [element for element in tax_lineage1 if element not in [1, 2, 131567, 10239]]\n",
    "        res = []\n",
    "        inner_count = 0\n",
    "        for ite in tax_lineage:\n",
    "            try:\n",
    "                tmp = tokenizer.taxa_to_ctrl_idx[ite]\n",
    "                res.append(tmp)\n",
    "            except:\n",
    "                inner_count += 1\n",
    "        if res == [] and inner_count >= 1:\n",
    "            print(\"ALERT: error in taxonmy conversions for entry: \", taxid)\n",
    "        tax_lineage = res\n",
    "    except:\n",
    "        print(\"FATAL taxa conversion for entry: \", taxid)\n",
    "    # Access keywords\n",
    "    try:\n",
    "        keywords = [keyword['name'] for keyword in entry['keywords']]\n",
    "        key_ctrl = []\n",
    "        for key in keywords:\n",
    "            ite = tokenizer.name_to_kw[key]\n",
    "            tmp = tokenizer.kw_to_ctrl_idx[ite]\n",
    "            key_ctrl.append(tmp)\n",
    "    except:\n",
    "        print(\"FATAL keywords conversion for entry: \", taxid)\n",
    "    # FOR TESTIG the code:\n",
    "    # input_seq = input_seq[0:24]\n",
    "    \n",
    "    tax_lineage = key_ctrl + tax_lineage\n",
    "\n",
    "    # if no tax keys:\n",
    "    # tax_lineage = []\n",
    "    \n",
    "    res, tokens_prob, padding = generator.after_n_generation(input_seq, tax_lineage, 20)\n",
    "        #res, tokens_prob, padding = generator.teacher_forcing_generation(input_seq, tax_lineage)\n",
    "    \n",
    "    # print(\"Input: \", input_seq)\n",
    "    # print(\"Res: \", res)\n",
    "    true_value.append(input_seq)\n",
    "    true_tokens_index_in_prob = []\n",
    "    true_tokens_index_in_probs_all.append(true_tokens_index_in_prob)\n",
    "    tokens_probs_all.append(tokens_prob)\n",
    "    predicted.append(input_seq[:padding] + res)\n",
    "\n",
    "    # FOR TESTIG:\n",
    "    break\n",
    "    \n",
    "    "
   ]
  },
  {
   "cell_type": "code",
   "execution_count": 10,
   "metadata": {},
   "outputs": [
    {
     "name": "stdout",
     "output_type": "stream",
     "text": [
      "['MLLIRLAQVSQEVAATAARSLGHQRSGPVASLRGAVLPRGAVPSRGAPVSRGPVSLRAVGSPALRVGSALRVPALSGRPALSRGPAVSRGALPSRGAVPSRGAVSLRGASPLRAGSPVLRGAVPRGLSPAGLSRAPGLRAPSGLRAPSGRLPSGALPRSAVPLSRGALPSGAVLRSAVLPGASRVPALSRGVLAPGVSRALVSRALPVSRGPLSRGVALSRGAVPSRGALPRGSVPRGSALPGVSRAGLPVRGALPVRASLPVRASLPGASRPGASVRGPLSVARPGSLAPGRLSAGRLPASRGVASPGLRASPGRLAPGSLVPAGSLRPVASLRVASGPLRSGALPSVAGRPLVASGPVARGLSPAGVLPARGSVLPARSLGPASLRVPGLAVRPGSVRLGPVSALGPSALRPVASLRGPALRGPSARGPVARGLSVAGRLPSAGVPSRAGLPSARLVPARGSVPLASRGLPSAGRPSVALPSVARGLSPAGVRPSGLRVASPGVASPLVA']\n",
      "['MLLIRLAQVSQEVAATAARSRKTALLAELFREAEADDVPIVIPYLAGRLPQGRLGVGWKVLSRPVPPAAGPTLTVREVDVLLSELGKVSGPGSQAERTRLVGELMGAATEEEQRFLLGLLTGEVRQGALDAVAVEGLARATGAAAADVRRAVMLAGSLQTVAQALLAEGPGALDRFRLTVGRPVLPMLAHSASSVAEAVEKLGACAVEEKLDGIRVQVHRDGDTVRVHTRTLDDITDRLPEVTSAARELRGERFILDGEVISFDAAGRPRSFQETAGRVGSRTDVAKAAGEVPVSPVFFDALSVDGTDLLDLPFAERHAQLARLVPEPMRVRRTVASGPADIAEAERFLADTLARGHEGVVVKALDAPYSAGRRGAAWLKVKPVHTLDLVVLAAEWGHGRRTGKLSNLHLGARSPDGGFAMLGKTFKGMTDAMLAWQTERLQELAVEDNGWVVRVRPELVVEIAYDGLQRSSRYPAGVTLRFARVVRYREDKRPEEADTVQALLAAHPEVTP']\n"
     ]
    }
   ],
   "source": [
    "print(predicted)\n",
    "print(true_value)"
   ]
  },
  {
   "cell_type": "code",
   "execution_count": null,
   "metadata": {},
   "outputs": [],
   "source": [
    "# Create a directory named \"ID_test_data\" in the current working directory if it doesn't exist\n",
    "data_dir = \"new_random_selection_100_sequences_p_0_topk_1_kw_taxa_yes_from_50/\"\n",
    "os.makedirs(data_dir, exist_ok=True)\n",
    "\n",
    "# TODO, salvare tokens_prob e true_tokens_index_in_prob\n",
    "tokens_probs_data_file = os.path.join(data_dir, \"tokens_probs_data.p\")\n",
    "with open(tokens_probs_data_file, \"wb\") as file:\n",
    "    pickle.dump(tokens_probs_all, file)\n",
    "    \n",
    "true_tokens_index_data_file = os.path.join(data_dir, \"true_tokens_index_data.p\")\n",
    "with open(true_tokens_index_data_file, \"wb\") as file:\n",
    "    pickle.dump(true_tokens_index_in_probs_all, file)\n",
    "\n",
    "# Save ID_test_data as a .p file\n",
    "predicted_data_file = os.path.join(data_dir, \"predicted_data.p\")\n",
    "with open(predicted_data_file, \"wb\") as file:\n",
    "    pickle.dump(predicted, file)\n",
    "    \n",
    "# Save ID_test_data as a .p file\n",
    "true_data_file = os.path.join(data_dir, \"true_data.p\")\n",
    "with open(true_data_file, \"wb\") as file:\n",
    "    pickle.dump(true_value, file)\n",
    "torch.cuda.empty_cache()"
   ]
  },
  {
   "cell_type": "code",
   "execution_count": null,
   "metadata": {},
   "outputs": [],
   "source": [
    "print(input_seq)"
   ]
  },
  {
   "cell_type": "code",
   "execution_count": null,
   "metadata": {},
   "outputs": [],
   "source": [
    "len(input_seq)"
   ]
  }
 ],
 "metadata": {
  "kernelspec": {
   "display_name": "Python 3 (ipykernel)",
   "language": "python",
   "name": "python3"
  },
  "language_info": {
   "codemirror_mode": {
    "name": "ipython",
    "version": 3
   },
   "file_extension": ".py",
   "mimetype": "text/x-python",
   "name": "python",
   "nbconvert_exporter": "python",
   "pygments_lexer": "ipython3",
   "version": "3.11.4"
  }
 },
 "nbformat": 4,
 "nbformat_minor": 4
}
