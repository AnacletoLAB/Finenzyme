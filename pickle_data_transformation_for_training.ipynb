{
 "cells": [
  {
   "cell_type": "code",
   "execution_count": 1,
   "id": "928cd0c1-4f79-4df6-af4f-925abfdef3e3",
   "metadata": {},
   "outputs": [],
   "source": [
    "import json\n",
    "import pickle\n",
    "\n",
    "# Load the JSON data\n",
    "with open('data/filtered_data_PF00959.p', 'rb') as file:\n",
    "    data = pickle.load(file)\n",
    "\n",
    "with open('data/random_selection_2000_PF00959.p', 'rb') as file:\n",
    "    data_ood = pickle.load(file)"
   ]
  },
  {
   "cell_type": "code",
   "execution_count": 2,
   "id": "3ef13d0c-6862-4957-a65e-14f95df9656a",
   "metadata": {
    "scrolled": false
   },
   "outputs": [
    {
     "data": {
      "text/plain": [
       "{'metadata': {'accession': 'A0A009F987',\n",
       "  'name': 'Lysozyme',\n",
       "  'source_database': 'unreviewed',\n",
       "  'length': 164,\n",
       "  'source_organism': {'taxId': '1310618',\n",
       "   'scientificName': 'Acinetobacter baumannii 118362',\n",
       "   'fullName': 'Acinetobacter baumannii 118362'}},\n",
       " 'entries': [{'accession': 'PF00959',\n",
       "   'entry_protein_locations': [{'fragments': [{'start': 65,\n",
       "       'end': 163,\n",
       "       'dc-status': 'CONTINUOUS'}],\n",
       "     'model': 'PF00959',\n",
       "     'score': 5e-21}],\n",
       "   'protein_length': 164,\n",
       "   'source_database': 'pfam',\n",
       "   'entry_type': 'domain',\n",
       "   'entry_integrated': 'ipr002196'}],\n",
       " 'sequence': {'metadata': {'accession': 'A0A009F987',\n",
       "   'id': 'A0A009F987_ACIBA',\n",
       "   'source_organism': {'taxId': '1310618',\n",
       "    'scientificName': 'Acinetobacter baumannii 118362',\n",
       "    'fullName': 'Acinetobacter baumannii 118362'},\n",
       "   'name': 'Lysozyme',\n",
       "   'description': None,\n",
       "   'length': 164,\n",
       "   'sequence': 'MTTKPFFDAARVIAGGKLTQAQVDELNKVVNKLAPGGKTTSDFGVNLITGFEGTRFTAYDDGVGVWTIGTGTTVYPNGVKVKKGDTCTAEQAKTYFKHDLAKFEKTVNESVTVPINQNQFDALVSLTYNIGSGAFKGSTLLKLLNKGDYQGAADQFLVWNKAGG',\n",
       "   'proteome': None,\n",
       "   'gene': 'J517_4475',\n",
       "   'go_terms': [{'identifier': 'GO:0003796',\n",
       "     'name': 'lysozyme activity',\n",
       "     'category': {'code': 'F', 'name': 'molecular_function'}},\n",
       "    {'identifier': 'GO:0009253',\n",
       "     'name': 'peptidoglycan catabolic process',\n",
       "     'category': {'code': 'P', 'name': 'biological_process'}},\n",
       "    {'identifier': 'GO:0016998',\n",
       "     'name': 'cell wall macromolecule catabolic process',\n",
       "     'category': {'code': 'P', 'name': 'biological_process'}}],\n",
       "   'protein_evidence': 3,\n",
       "   'source_database': 'unreviewed',\n",
       "   'is_fragment': True,\n",
       "   'ida_accession': 'b8801d01d6e63f79260281461d758ae8019f3053',\n",
       "   'counters': {'domain_architectures': 18190,\n",
       "    'entries': 11,\n",
       "    'isoforms': 0,\n",
       "    'proteomes': 0,\n",
       "    'sets': 2,\n",
       "    'structures': 0,\n",
       "    'taxa': 1,\n",
       "    'dbEntries': {'cdd': 1,\n",
       "     'ssf': 1,\n",
       "     'hamap': 1,\n",
       "     'cathgene3d': 1,\n",
       "     'pfam': 1,\n",
       "     'panther': 1,\n",
       "     'interpro': 5},\n",
       "    'proteome': 0,\n",
       "    'taxonomy': 1,\n",
       "    'similar_proteins': 18190}}}}"
      ]
     },
     "execution_count": 2,
     "metadata": {},
     "output_type": "execute_result"
    }
   ],
   "source": [
    "data[0]"
   ]
  },
  {
   "cell_type": "code",
   "execution_count": 3,
   "id": "9de9bb6a",
   "metadata": {},
   "outputs": [],
   "source": [
    "# Extract accessions from random_selection_data\n",
    "ood_accessions = {entry['metadata']['accession'] for entry in data_ood}\n",
    "\n",
    "# Filter out entries in filtered_data that are in random_selection_data\n",
    "filtered_data = [entry for entry in data if entry['metadata']['accession'] not in ood_accessions]"
   ]
  },
  {
   "cell_type": "code",
   "execution_count": 5,
   "id": "3a030273",
   "metadata": {},
   "outputs": [
    {
     "data": {
      "text/plain": [
       "17473"
      ]
     },
     "execution_count": 5,
     "metadata": {},
     "output_type": "execute_result"
    }
   ],
   "source": [
    "len(filtered_data)"
   ]
  },
  {
   "cell_type": "code",
   "execution_count": 6,
   "id": "1841b4ba",
   "metadata": {},
   "outputs": [],
   "source": [
    "import random\n",
    "# Ensure the filtered_data has at least 2000 entries\n",
    "if len(filtered_data) < 2000:\n",
    "    print(\"There are less than 2000 entries in the filtered_data!\")\n",
    "else:\n",
    "    sampled_data = random.sample(filtered_data, 2000)\n"
   ]
  },
  {
   "cell_type": "code",
   "execution_count": 7,
   "id": "420c7041",
   "metadata": {},
   "outputs": [
    {
     "name": "stdout",
     "output_type": "stream",
     "text": [
      "There are no duplicates in the filtered_data.\n"
     ]
    }
   ],
   "source": [
    "# Extract accessions from filtered_data\n",
    "accessions = [entry['metadata']['accession'] for entry in filtered_data]\n",
    "\n",
    "# Check for duplicates\n",
    "unique_accessions = set(accessions)\n",
    "if len(unique_accessions) != len(accessions):\n",
    "    print(f\"There are {len(accessions) - len(unique_accessions)} duplicates in the filtered_data.\")\n",
    "else:\n",
    "    print(\"There are no duplicates in the filtered_data.\")\n"
   ]
  },
  {
   "cell_type": "code",
   "execution_count": 8,
   "id": "b15feeea",
   "metadata": {},
   "outputs": [
    {
     "name": "stdout",
     "output_type": "stream",
     "text": [
      "Sampled data saved successfully!\n"
     ]
    }
   ],
   "source": [
    "# Save the sampled_data to a pickle file\n",
    "with open('data/sampled_data_validation_2000_PF00959.p', 'wb') as file:\n",
    "    pickle.dump(sampled_data, file)\n",
    "\n",
    "print(\"Sampled data saved successfully!\")"
   ]
  },
  {
   "cell_type": "code",
   "execution_count": 9,
   "id": "1a11d8da",
   "metadata": {},
   "outputs": [
    {
     "name": "stdout",
     "output_type": "stream",
     "text": [
      "Filtered data saved successfully!\n"
     ]
    }
   ],
   "source": [
    "# Save the filtered_data to a pickle file\n",
    "with open('data/filtered_data_training_PF00959.p', 'wb') as file:\n",
    "    pickle.dump(filtered_data, file)\n",
    "\n",
    "print(\"Filtered data saved successfully!\")"
   ]
  },
  {
   "cell_type": "markdown",
   "id": "c6bc01e3",
   "metadata": {},
   "source": [
    "<h3>Saving training data in the correct format</h3>"
   ]
  },
  {
   "cell_type": "code",
   "execution_count": 11,
   "id": "591cfffd",
   "metadata": {},
   "outputs": [],
   "source": [
    "# we assign the ctrl keywrd 0 to the lisozyme family for fine-tuning\n",
    "def convert_to_desired_format(data):\n",
    "    uid = data['metadata']['accession']\n",
    "    sequence = data['sequence']['metadata']['sequence']\n",
    "    # predefined keyword\n",
    "    keyword = 0\n",
    "    return {\n",
    "        uid: {\n",
    "            'seq': sequence,\n",
    "            'kw': [keyword]\n",
    "        }\n",
    "    }\n",
    "\n",
    "def convert_all_data(all_data):\n",
    "    converted_dataset = {}\n",
    "    for data_instance in all_data:\n",
    "        converted_dataset.update(convert_to_desired_format(data_instance))\n",
    "    return converted_dataset"
   ]
  },
  {
   "cell_type": "code",
   "execution_count": 12,
   "id": "109768fc",
   "metadata": {},
   "outputs": [],
   "source": [
    "data_formatted = convert_all_data(filtered_data)"
   ]
  },
  {
   "cell_type": "code",
   "execution_count": 19,
   "id": "6dc53ad2",
   "metadata": {},
   "outputs": [
    {
     "data": {
      "text/plain": [
       "17473"
      ]
     },
     "execution_count": 19,
     "metadata": {},
     "output_type": "execute_result"
    }
   ],
   "source": [
    "len(data_formatted)"
   ]
  },
  {
   "cell_type": "code",
   "execution_count": 20,
   "id": "739592d3",
   "metadata": {},
   "outputs": [
    {
     "data": {
      "text/plain": [
       "{'seq': 'MTTKPFFDAARVIAGGKLTQAQVDELNKVVNKLAPGGKTTSDFGVNLITGFEGTRFTAYDDGVGVWTIGTGTTVYPNGVKVKKGDTCTAEQAKTYFKHDLAKFEKTVNESVTVPINQNQFDALVSLTYNIGSGAFKGSTLLKLLNKGDYQGAADQFLVWNKAGG',\n",
       " 'kw': [0]}"
      ]
     },
     "execution_count": 20,
     "metadata": {},
     "output_type": "execute_result"
    }
   ],
   "source": [
    "data_formatted['A0A009F987']"
   ]
  },
  {
   "cell_type": "code",
   "execution_count": 34,
   "id": "aba4970e",
   "metadata": {},
   "outputs": [],
   "source": [
    "import os\n",
    "def convert_and_save_in_chunks(data_formatted, base_path, num_chunks=10):\n",
    "    # Calculate the size of each chunk\n",
    "    chunk_size = len(data_formatted) // num_chunks\n",
    "    items = list(data_formatted.items())\n",
    "    \n",
    "    if not os.path.exists(base_path):\n",
    "        os.makedirs(base_path)\n",
    "\n",
    "    for i in range(num_chunks):\n",
    "        start_idx = i * chunk_size\n",
    "        end_idx = (i + 1) * chunk_size if i != num_chunks - 1 else None  # To handle the last chunk which might be larger\n",
    "        chunk = dict(items[start_idx:end_idx])\n",
    "\n",
    "        # Save the chunk to a pickle file\n",
    "        with open(base_path + 'train' + str(i) + '.p', 'wb') as f:\n",
    "            pickle.dump(chunk, f)\n",
    "            "
   ]
  },
  {
   "cell_type": "code",
   "execution_count": 35,
   "id": "dade3ab2",
   "metadata": {},
   "outputs": [],
   "source": [
    "# Assuming your data is loaded in a variable named 'dataset'\n",
    "convert_and_save_in_chunks(data_formatted, 'data/train_test_pkl/')"
   ]
  },
  {
   "cell_type": "code",
   "execution_count": 15,
   "id": "e0f76509-0e0e-45d9-9feb-f871e61a2aa3",
   "metadata": {},
   "outputs": [],
   "source": [
    "# Save as a pickle file\n",
    "with open('data/training_data_PF00959_formatted.p', 'wb') as file:\n",
    "    pickle.dump(data_formatted, file)"
   ]
  }
 ],
 "metadata": {
  "kernelspec": {
   "display_name": "Python 3 (ipykernel)",
   "language": "python",
   "name": "python3"
  },
  "language_info": {
   "codemirror_mode": {
    "name": "ipython",
    "version": 3
   },
   "file_extension": ".py",
   "mimetype": "text/x-python",
   "name": "python",
   "nbconvert_exporter": "python",
   "pygments_lexer": "ipython3",
   "version": "3.9.7"
  }
 },
 "nbformat": 4,
 "nbformat_minor": 5
}
