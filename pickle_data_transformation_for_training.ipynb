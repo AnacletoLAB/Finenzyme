{
 "cells": [
  {
   "cell_type": "code",
   "execution_count": 3,
   "id": "928cd0c1-4f79-4df6-af4f-925abfdef3e3",
   "metadata": {},
   "outputs": [],
   "source": [
    "import json\n",
    "import pickle\n",
    "\n",
    "# Load the JSON data\n",
    "with open('data/filtered_data_PF00959.p', 'rb') as file:\n",
    "    data = pickle.load(file)\n",
    "\n",
    "\n",
    "\n",
    "\n"
   ]
  },
  {
   "cell_type": "code",
   "execution_count": 4,
   "id": "3ef13d0c-6862-4957-a65e-14f95df9656a",
   "metadata": {},
   "outputs": [
    {
     "data": {
      "text/plain": [
       "{'metadata': {'accession': 'A0A009F987',\n",
       "  'name': 'Lysozyme',\n",
       "  'source_database': 'unreviewed',\n",
       "  'length': 164,\n",
       "  'source_organism': {'taxId': '1310618',\n",
       "   'scientificName': 'Acinetobacter baumannii 118362',\n",
       "   'fullName': 'Acinetobacter baumannii 118362'}},\n",
       " 'entries': [{'accession': 'PF00959',\n",
       "   'entry_protein_locations': [{'fragments': [{'start': 65,\n",
       "       'end': 163,\n",
       "       'dc-status': 'CONTINUOUS'}],\n",
       "     'model': 'PF00959',\n",
       "     'score': 5e-21}],\n",
       "   'protein_length': 164,\n",
       "   'source_database': 'pfam',\n",
       "   'entry_type': 'domain',\n",
       "   'entry_integrated': 'ipr002196'}],\n",
       " 'sequence': {'metadata': {'accession': 'A0A009F987',\n",
       "   'id': 'A0A009F987_ACIBA',\n",
       "   'source_organism': {'taxId': '1310618',\n",
       "    'scientificName': 'Acinetobacter baumannii 118362',\n",
       "    'fullName': 'Acinetobacter baumannii 118362'},\n",
       "   'name': 'Lysozyme',\n",
       "   'description': None,\n",
       "   'length': 164,\n",
       "   'sequence': 'MTTKPFFDAARVIAGGKLTQAQVDELNKVVNKLAPGGKTTSDFGVNLITGFEGTRFTAYDDGVGVWTIGTGTTVYPNGVKVKKGDTCTAEQAKTYFKHDLAKFEKTVNESVTVPINQNQFDALVSLTYNIGSGAFKGSTLLKLLNKGDYQGAADQFLVWNKAGG',\n",
       "   'proteome': None,\n",
       "   'gene': 'J517_4475',\n",
       "   'go_terms': [{'identifier': 'GO:0003796',\n",
       "     'name': 'lysozyme activity',\n",
       "     'category': {'code': 'F', 'name': 'molecular_function'}},\n",
       "    {'identifier': 'GO:0009253',\n",
       "     'name': 'peptidoglycan catabolic process',\n",
       "     'category': {'code': 'P', 'name': 'biological_process'}},\n",
       "    {'identifier': 'GO:0016998',\n",
       "     'name': 'cell wall macromolecule catabolic process',\n",
       "     'category': {'code': 'P', 'name': 'biological_process'}}],\n",
       "   'protein_evidence': 3,\n",
       "   'source_database': 'unreviewed',\n",
       "   'is_fragment': True,\n",
       "   'ida_accession': 'b8801d01d6e63f79260281461d758ae8019f3053',\n",
       "   'counters': {'domain_architectures': 18190,\n",
       "    'entries': 11,\n",
       "    'isoforms': 0,\n",
       "    'proteomes': 0,\n",
       "    'sets': 2,\n",
       "    'structures': 0,\n",
       "    'taxa': 1,\n",
       "    'dbEntries': {'cdd': 1,\n",
       "     'ssf': 1,\n",
       "     'hamap': 1,\n",
       "     'cathgene3d': 1,\n",
       "     'pfam': 1,\n",
       "     'panther': 1,\n",
       "     'interpro': 5},\n",
       "    'proteome': 0,\n",
       "    'taxonomy': 1,\n",
       "    'similar_proteins': 18190}}}}"
      ]
     },
     "execution_count": 4,
     "metadata": {},
     "output_type": "execute_result"
    }
   ],
   "source": [
    "data[0]"
   ]
  },
  {
   "cell_type": "code",
   "execution_count": null,
   "id": "e0f76509-0e0e-45d9-9feb-f871e61a2aa3",
   "metadata": {},
   "outputs": [],
   "source": [
    "# Convert your JSON data to the appropriate dictionary format (this step may vary depending on your JSON structure)\n",
    "data_dict = {uid: data for uid, data in json_data.items()}\n",
    "\n",
    "# Save as a pickle file\n",
    "with open('your_data.pkl', 'wb') as file:\n",
    "    pickle.dump(data_dict, file)"
   ]
  }
 ],
 "metadata": {
  "kernelspec": {
   "display_name": "Python 3 (ipykernel)",
   "language": "python",
   "name": "python3"
  },
  "language_info": {
   "codemirror_mode": {
    "name": "ipython",
    "version": 3
   },
   "file_extension": ".py",
   "mimetype": "text/x-python",
   "name": "python",
   "nbconvert_exporter": "python",
   "pygments_lexer": "ipython3",
   "version": "3.11.4"
  }
 },
 "nbformat": 4,
 "nbformat_minor": 5
}
