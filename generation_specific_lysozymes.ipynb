{
 "cells": [
  {
   "cell_type": "code",
   "execution_count": 21,
   "id": "6920e7ba-9e25-4ef6-8f52-1b2bd77032c5",
   "metadata": {},
   "outputs": [],
   "source": [
    "import os\n",
    "import torch\n",
    "import numpy as np\n",
    "import pickle\n",
    "import time\n",
    "#os.environ[\"CUDA_DEVICE_ORDER\"]=\"PCI_BUS_ID\"\n",
    "#os.environ[\"CUDA_VISIBLE_DEVICES\"]=\"0\"\n",
    "from model_manager import CTRLmodel\n",
    "from tokenizer import Tokenizer\n",
    "from generation_manager import GeneratorManager"
   ]
  },
  {
   "cell_type": "code",
   "execution_count": 5,
   "id": "b0dd454a-eb72-45fe-9b72-518092491c45",
   "metadata": {},
   "outputs": [
    {
     "name": "stdout",
     "output_type": "stream",
     "text": [
      "True\n"
     ]
    }
   ],
   "source": [
    "GPU = torch.cuda.is_available()\n",
    "# if you don't want to use GPU (but you have it aviable) modify in pytorch_transformer.py module the related variable\n",
    "print(GPU)"
   ]
  },
  {
   "cell_type": "code",
   "execution_count": 6,
   "id": "a3f878f9-08e1-4448-9711-f3786b09174b",
   "metadata": {},
   "outputs": [
    {
     "name": "stdout",
     "output_type": "stream",
     "text": [
      "tokenizer loaded\n",
      "loading model from: ckpt/training_ckpt_4/model_only_state_dict_v0Last_lr0001.pth\n",
      "MODEL SIZE: \n",
      "1280\n",
      "Found PyTorch checkpoint at  ckpt/training_ckpt_4/model_only_state_dict_v0Last_lr0001.pth\n",
      "Loading instead of converting from TensorFlow\n",
      "previous checkpoint loaded in GPU\n",
      "model ready for inference\n"
     ]
    }
   ],
   "source": [
    "tokenizer = Tokenizer()\n",
    "print('tokenizer loaded')\n",
    "\n",
    "curr_model_path = 'ckpt/training_ckpt_4/model_only_state_dict_v0Last_lr0001.pth' # model checkpoint\n",
    "print('loading model from:', curr_model_path)\n",
    "\n",
    "model = CTRLmodel()\n",
    "reader = model.loadCheckpoint(model_path=curr_model_path)\n",
    "\n",
    "# Saving only state_dict:\n",
    "#torch.save(model.state_dict(), model_state_dict_path)\n",
    "#model_state_dict_path = load_model_path + 'model_only_state_dict_v0Last.pth'\n",
    "#print('Model state dict saved')\n",
    "            \n",
    "if GPU:\n",
    "    model = model.cuda()\n",
    "    print('previous checkpoint loaded in GPU')\n",
    "else: \n",
    "    print('previous checkpoint loaded in CPU')\n",
    "\n",
    "optimizer = torch.optim.Adam(model.parameters()) #lr, betas\n",
    "model.eval()\n",
    "print('model ready for inference')"
   ]
  },
  {
   "cell_type": "code",
   "execution_count": 7,
   "id": "52338a0f-9f55-41ee-a8ea-95dd3eb10719",
   "metadata": {},
   "outputs": [],
   "source": [
    "def save_sequences(predicted, predicted_stopped, molechule_name_and_params):\n",
    "    data_dir = \"Generation_PF00959_model_lr_00001_phage_specific\"\n",
    "    query = molechule_name_and_params\n",
    "    os.makedirs(data_dir, exist_ok=True)\n",
    "    \n",
    "    predicted_data_file = os.path.join(data_dir, \"predicted_data_\" + query + \".p\")\n",
    "    with open(predicted_data_file, \"wb\") as file:\n",
    "        pickle.dump(predicted, file)\n",
    "\n",
    "    predicted_stopped_data_file = os.path.join(data_dir, \"predicted_stopped_data_\" + query + \".p\")\n",
    "    with open(predicted_stopped_data_file, \"wb\") as file:\n",
    "        pickle.dump(predicted_stopped, file)\n",
    "        "
   ]
  },
  {
   "cell_type": "code",
   "execution_count": 11,
   "id": "d69f1490-9acc-4909-ad5e-d7739a11e69e",
   "metadata": {},
   "outputs": [],
   "source": [
    "# GENERATION parameters\n",
    "temperature = 0.9\n",
    "penalty = 0\n",
    "top_p = 0.5\n",
    "np.random.seed(1337)\n",
    "torch.manual_seed(1337)\n",
    "\n",
    "def predict_fn(inputs):\n",
    "    with torch.no_grad():\n",
    "        inputs = torch.tensor(inputs)\n",
    "        if GPU:\n",
    "            inputs = inputs.cuda()            \n",
    "        output = model(inputs)\n",
    "        stop_token = output[:, :, 1] # the stop token logits\n",
    "        output = output[:,:,-26:-1] # remove non-AA token logits\n",
    "        return output, stop_token\n",
    "        \n",
    "generator = GeneratorManager(predict_fn, penalty=penalty, top_p=top_p, temperature=temperature)"
   ]
  },
  {
   "cell_type": "code",
   "execution_count": 12,
   "id": "f3597988-128d-4cb7-906b-f25bf5066413",
   "metadata": {},
   "outputs": [],
   "source": [
    "def generate_and_save(top_p, seq_number_to_generate, protein_base, protein, protein_name):\n",
    "    predicted = []\n",
    "    predicted_stopped = []\n",
    "    seq_number = 0\n",
    "    input_seq = protein\n",
    "    tax_lineage = [0]\n",
    "    offset = int(protein_base * len(input_seq))\n",
    "    # Adjust for zero-based indexing\n",
    "    offset = offset - 1 if offset > 0 else 0\n",
    "    #print(offset)\n",
    "    print('generating sequences...')\n",
    "    while seq_number < seq_number_to_generate:\n",
    "        start_time = time.time()\n",
    "        res, tokens_generated_stopped = generator.generation_complete_sequence(input_seq, offset, tax_lineage)\n",
    "        end_time = time.time()\n",
    "        elapsed_time = end_time - start_time\n",
    "        print(f\"Done. Time taken: {elapsed_time} seconds.\")\n",
    "        predicted.append(input_seq[:offset] + res)\n",
    "        if tokens_generated_stopped:\n",
    "            for tmp_seq in tokens_generated_stopped:\n",
    "                predicted_stopped.append(input_seq[:offset] + tmp_seq)\n",
    "        seq_number += 1\n",
    "        print('hello, this is seq_number', seq_number)\n",
    "\n",
    "        # FOR TESTING\n",
    "        break\n",
    "        \n",
    "        if ((seq_number%10) == 0) or (seq_number == (seq_number_to_generate-1)):\n",
    "            # print('the model has generated: ', seq_number , ' sequences')\n",
    "            print('saving sequences')\n",
    "            description = protein_name + '_top_p_' + str(top_p) + 'seed_percentage_' + str(protein_base)\n",
    "            save_sequences(predicted, predicted_stopped, description)\n",
    "    print('GENERATION BATCH ENDED')\n",
    "    "
   ]
  },
  {
   "cell_type": "code",
   "execution_count": 13,
   "id": "dbb70ef9",
   "metadata": {},
   "outputs": [],
   "source": [
    "def read_fasta(file_path):\n",
    "    \"\"\"\n",
    "    Reads a FASTA file with a single protein sequence.\n",
    "    Args:\n",
    "    file_path (str): The path to the FASTA file.\n",
    "    Returns:\n",
    "    tuple: A tuple containing the identifier and the protein sequence as strings.\n",
    "    \"\"\"\n",
    "    with open(file_path, 'r') as file:\n",
    "        lines = file.readlines()\n",
    "        identifier = lines[0].strip()[4:21]  # Remove '>' and any trailing newline character\n",
    "        sequence = ''.join(line.strip() for line in lines[1:])  # Concatenate the remaining lines\n",
    "        return identifier, sequence\n",
    "    "
   ]
  },
  {
   "cell_type": "code",
   "execution_count": 18,
   "id": "3c5bc80a",
   "metadata": {},
   "outputs": [],
   "source": [
    "sequences_and_identifiers = []\n",
    "fasta_dir = 'results_generation/FASTA_lysozymes_of_interest/'\n",
    "for file in os.listdir(fasta_dir):\n",
    "    sequences_and_identifiers.append((read_fasta(fasta_dir + file)))"
   ]
  },
  {
   "cell_type": "code",
   "execution_count": 19,
   "id": "7a9eca98",
   "metadata": {},
   "outputs": [
    {
     "name": "stdout",
     "output_type": "stream",
     "text": [
      "Q37875|ENLYS_BPP1\n",
      "185\n",
      "MKGKTAAGGGAICAIAVMITIVMGNGNVRTNQAGLELIGNAEGCRRDPYMCPAGVWTDGIGNTHGVTPGVRKTDQQIAADWEKNILIAERCINQHFRGKDMPDNAFSAMTSAAFNMGCNSLRTYYSKARGMRVETSIHKWAQKGEWVNMCNHLPDFVNSNGVPLRGLKIRREKERQLCLTGLVNE\n",
      "P03706|ENLYS_LAMB\n",
      "158\n",
      "MVEINNQRKAFLDMLAWSEGTDNGRQKTRNHGYDVIVGGELFTDYSDHPRKLVTLNPKLKSTGAGRYQLLSRWWDAYRKQLGLKDFSPKSQDAVALQQIKERGALPMIDRGDIRQAIDRCSNIWASLPGAGYGQFEHKADSLIAKFKEAGGTVREIDV\n",
      "P78285|LYSD_ECOLI\n",
      "165\n",
      "MPPSLRKAVAAAIGGGAIAIASVLITGPSGNDGLEGVSYIPYKDIVGVWTVCHGHTGKDIMLGKTYTKAECKALLNKDLATVARQINPYIKVDIPETTRGALYSFVYNVGAGNFRTSTLLRKINQGDIKGACDQLRRWTYAGGKQWKGLMTRREIEREVCLWGQQ\n",
      "P00720|ENLYS_BPT4\n",
      "164\n",
      "MNIFEMLRIDERLRLKIYKDTEGYYTIGIGHLLTKSPSLNAAKSELDKAIGRNCNGVITKDEAEKLFNQDVDAAVRGILRNAKLKPVYDSLDAVRRCALINMVFQMGETGVAGFTNSLRMLQQKRWDEAAVNLAKSIWYNQTPNRAKRVITTFRTGTWDAYKNL\n"
     ]
    }
   ],
   "source": [
    "for i, seq in sequences_and_identifiers:\n",
    "    print(i)\n",
    "    print(len(seq))\n",
    "    print(seq)"
   ]
  },
  {
   "cell_type": "code",
   "execution_count": 22,
   "id": "85ffdeae",
   "metadata": {},
   "outputs": [
    {
     "name": "stdout",
     "output_type": "stream",
     "text": [
      "generating sequences...\n",
      "Done. Time taken: 41.221362590789795 seconds.\n",
      "hello, this is seq_number 1\n",
      "GENERATION BATCH ENDED\n",
      "0.25 150 0.25 MKGKTAAGGGAICAIAVMITIVMGNGNVRTNQAGLELIGNAEGCRRDPYMCPAGVWTDGIGNTHGVTPGVRKTDQQIAADWEKNILIAERCINQHFRGKDMPDNAFSAMTSAAFNMGCNSLRTYYSKARGMRVETSIHKWAQKGEWVNMCNHLPDFVNSNGVPLRGLKIRREKERQLCLTGLVNE Q37875|ENLYS_BPP1\n",
      "------\n",
      "generating sequences...\n",
      "Done. Time taken: 41.494739294052124 seconds.\n",
      "hello, this is seq_number 1\n",
      "GENERATION BATCH ENDED\n",
      "0.5 150 0.25 MKGKTAAGGGAICAIAVMITIVMGNGNVRTNQAGLELIGNAEGCRRDPYMCPAGVWTDGIGNTHGVTPGVRKTDQQIAADWEKNILIAERCINQHFRGKDMPDNAFSAMTSAAFNMGCNSLRTYYSKARGMRVETSIHKWAQKGEWVNMCNHLPDFVNSNGVPLRGLKIRREKERQLCLTGLVNE Q37875|ENLYS_BPP1\n",
      "------\n",
      "generating sequences...\n",
      "Done. Time taken: 41.818920612335205 seconds.\n",
      "hello, this is seq_number 1\n",
      "GENERATION BATCH ENDED\n",
      "0.75 150 0.25 MKGKTAAGGGAICAIAVMITIVMGNGNVRTNQAGLELIGNAEGCRRDPYMCPAGVWTDGIGNTHGVTPGVRKTDQQIAADWEKNILIAERCINQHFRGKDMPDNAFSAMTSAAFNMGCNSLRTYYSKARGMRVETSIHKWAQKGEWVNMCNHLPDFVNSNGVPLRGLKIRREKERQLCLTGLVNE Q37875|ENLYS_BPP1\n",
      "------\n",
      "generating sequences...\n",
      "Done. Time taken: 37.82829999923706 seconds.\n",
      "hello, this is seq_number 1\n",
      "GENERATION BATCH ENDED\n",
      "0.25 150 0.5 MKGKTAAGGGAICAIAVMITIVMGNGNVRTNQAGLELIGNAEGCRRDPYMCPAGVWTDGIGNTHGVTPGVRKTDQQIAADWEKNILIAERCINQHFRGKDMPDNAFSAMTSAAFNMGCNSLRTYYSKARGMRVETSIHKWAQKGEWVNMCNHLPDFVNSNGVPLRGLKIRREKERQLCLTGLVNE Q37875|ENLYS_BPP1\n",
      "------\n",
      "generating sequences...\n",
      "Done. Time taken: 37.889705657958984 seconds.\n",
      "hello, this is seq_number 1\n",
      "GENERATION BATCH ENDED\n",
      "0.5 150 0.5 MKGKTAAGGGAICAIAVMITIVMGNGNVRTNQAGLELIGNAEGCRRDPYMCPAGVWTDGIGNTHGVTPGVRKTDQQIAADWEKNILIAERCINQHFRGKDMPDNAFSAMTSAAFNMGCNSLRTYYSKARGMRVETSIHKWAQKGEWVNMCNHLPDFVNSNGVPLRGLKIRREKERQLCLTGLVNE Q37875|ENLYS_BPP1\n",
      "------\n",
      "generating sequences...\n",
      "Done. Time taken: 37.87021541595459 seconds.\n",
      "hello, this is seq_number 1\n",
      "GENERATION BATCH ENDED\n",
      "0.75 150 0.5 MKGKTAAGGGAICAIAVMITIVMGNGNVRTNQAGLELIGNAEGCRRDPYMCPAGVWTDGIGNTHGVTPGVRKTDQQIAADWEKNILIAERCINQHFRGKDMPDNAFSAMTSAAFNMGCNSLRTYYSKARGMRVETSIHKWAQKGEWVNMCNHLPDFVNSNGVPLRGLKIRREKERQLCLTGLVNE Q37875|ENLYS_BPP1\n",
      "------\n",
      "generating sequences...\n"
     ]
    },
    {
     "ename": "KeyboardInterrupt",
     "evalue": "",
     "output_type": "error",
     "traceback": [
      "\u001b[0;31m---------------------------------------------------------------------------\u001b[0m",
      "\u001b[0;31mKeyboardInterrupt\u001b[0m                         Traceback (most recent call last)",
      "Cell \u001b[0;32mIn[22], line 7\u001b[0m\n\u001b[1;32m      5\u001b[0m \u001b[38;5;28;01mfor\u001b[39;00m after_p \u001b[38;5;129;01min\u001b[39;00m after_percentage:\n\u001b[1;32m      6\u001b[0m     \u001b[38;5;28;01mfor\u001b[39;00m p \u001b[38;5;129;01min\u001b[39;00m top_ps:\n\u001b[0;32m----> 7\u001b[0m         \u001b[43mgenerate_and_save\u001b[49m\u001b[43m(\u001b[49m\u001b[43mp\u001b[49m\u001b[43m,\u001b[49m\u001b[43m \u001b[49m\u001b[43mnumber_of_sequences_to_generate\u001b[49m\u001b[43m,\u001b[49m\u001b[43m \u001b[49m\u001b[43mafter_p\u001b[49m\u001b[43m,\u001b[49m\u001b[43m \u001b[49m\u001b[43mprotein\u001b[49m\u001b[43m,\u001b[49m\u001b[43m \u001b[49m\u001b[43mprotein_name\u001b[49m\u001b[43m)\u001b[49m\n\u001b[1;32m      8\u001b[0m         \u001b[38;5;28mprint\u001b[39m(p, number_of_sequences_to_generate, after_p, protein, protein_name)\n\u001b[1;32m      9\u001b[0m         \u001b[38;5;28mprint\u001b[39m(\u001b[38;5;124m'\u001b[39m\u001b[38;5;124m------\u001b[39m\u001b[38;5;124m'\u001b[39m)\n",
      "Cell \u001b[0;32mIn[12], line 14\u001b[0m, in \u001b[0;36mgenerate_and_save\u001b[0;34m(top_p, seq_number_to_generate, protein_base, protein, protein_name)\u001b[0m\n\u001b[1;32m     12\u001b[0m \u001b[38;5;28;01mwhile\u001b[39;00m seq_number \u001b[38;5;241m<\u001b[39m seq_number_to_generate:\n\u001b[1;32m     13\u001b[0m     start_time \u001b[38;5;241m=\u001b[39m time\u001b[38;5;241m.\u001b[39mtime()\n\u001b[0;32m---> 14\u001b[0m     res, tokens_generated_stopped \u001b[38;5;241m=\u001b[39m \u001b[43mgenerator\u001b[49m\u001b[38;5;241;43m.\u001b[39;49m\u001b[43mgeneration_complete_sequence\u001b[49m\u001b[43m(\u001b[49m\u001b[43minput_seq\u001b[49m\u001b[43m,\u001b[49m\u001b[43m \u001b[49m\u001b[43moffset\u001b[49m\u001b[43m,\u001b[49m\u001b[43m \u001b[49m\u001b[43mtax_lineage\u001b[49m\u001b[43m)\u001b[49m\n\u001b[1;32m     15\u001b[0m     end_time \u001b[38;5;241m=\u001b[39m time\u001b[38;5;241m.\u001b[39mtime()\n\u001b[1;32m     16\u001b[0m     elapsed_time \u001b[38;5;241m=\u001b[39m end_time \u001b[38;5;241m-\u001b[39m start_time\n",
      "File \u001b[0;32m~/ProGen/generation_manager.py:156\u001b[0m, in \u001b[0;36mGeneratorManager.generation_complete_sequence\u001b[0;34m(self, input_sequence, after_n, tax_lineage)\u001b[0m\n\u001b[1;32m    153\u001b[0m stop_token \u001b[38;5;241m=\u001b[39m stop_token\u001b[38;5;241m.\u001b[39msqueeze()  \u001b[38;5;241m/\u001b[39m (\u001b[38;5;28mself\u001b[39m\u001b[38;5;241m.\u001b[39mtemperature \u001b[38;5;28;01mif\u001b[39;00m \u001b[38;5;28mself\u001b[39m\u001b[38;5;241m.\u001b[39mtemperature\u001b[38;5;241m>\u001b[39m\u001b[38;5;241m0\u001b[39m \u001b[38;5;28;01melse\u001b[39;00m \u001b[38;5;241m1.\u001b[39m)\n\u001b[1;32m    155\u001b[0m _token \u001b[38;5;241m=\u001b[39m token \u001b[38;5;28;01mif\u001b[39;00m token \u001b[38;5;241m<\u001b[39m seq_length \u001b[38;5;28;01melse\u001b[39;00m \u001b[38;5;241m-\u001b[39m\u001b[38;5;241m1\u001b[39m\n\u001b[0;32m--> 156\u001b[0m prompt_logits \u001b[38;5;241m=\u001b[39m \u001b[43mprompt_logits\u001b[49m\u001b[38;5;241;43m.\u001b[39;49m\u001b[43mcpu\u001b[49m\u001b[43m(\u001b[49m\u001b[43m)\u001b[49m\u001b[38;5;241m.\u001b[39mdetach()\u001b[38;5;241m.\u001b[39mnumpy()\n\u001b[1;32m    157\u001b[0m stop_token \u001b[38;5;241m=\u001b[39m stop_token\u001b[38;5;241m.\u001b[39mcpu()\u001b[38;5;241m.\u001b[39mdetach()\u001b[38;5;241m.\u001b[39mnumpy()\n\u001b[1;32m    159\u001b[0m \u001b[38;5;66;03m# penalty\u001b[39;00m\n",
      "\u001b[0;31mKeyboardInterrupt\u001b[0m: "
     ]
    }
   ],
   "source": [
    "top_ps = [0.25, 0.5, 0.75]\n",
    "after_percentage = [0.25, 0.5, 0.75]\n",
    "number_of_sequences_to_generate = 150 # 1 è un test: poi 200\n",
    "for protein_name, protein in sequences_and_identifiers:\n",
    "    for after_p in after_percentage:\n",
    "        for p in top_ps:\n",
    "            generate_and_save(p, number_of_sequences_to_generate, after_p, protein, protein_name)\n",
    "            print(p, number_of_sequences_to_generate, after_p, protein, protein_name)\n",
    "            print('------')"
   ]
  },
  {
   "cell_type": "code",
   "execution_count": null,
   "id": "307e173c-14b4-4503-acd3-bc9d8e5ca1b4",
   "metadata": {},
   "outputs": [],
   "source": []
  }
 ],
 "metadata": {
  "kernelspec": {
   "display_name": "Python 3 (ipykernel)",
   "language": "python",
   "name": "python3"
  },
  "language_info": {
   "codemirror_mode": {
    "name": "ipython",
    "version": 3
   },
   "file_extension": ".py",
   "mimetype": "text/x-python",
   "name": "python",
   "nbconvert_exporter": "python",
   "pygments_lexer": "ipython3",
   "version": "3.11.4"
  }
 },
 "nbformat": 4,
 "nbformat_minor": 5
}
