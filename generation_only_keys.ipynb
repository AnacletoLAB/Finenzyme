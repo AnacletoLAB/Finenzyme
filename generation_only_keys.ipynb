{
 "cells": [
  {
   "cell_type": "code",
   "execution_count": 1,
   "id": "6920e7ba-9e25-4ef6-8f52-1b2bd77032c5",
   "metadata": {},
   "outputs": [],
   "source": [
    "# this notebook should stay in root\n",
    "import os\n",
    "import torch\n",
    "import numpy as np\n",
    "import pickle\n",
    "import time\n",
    "import random\n",
    "os.environ[\"CUDA_DEVICE_ORDER\"]=\"PCI_BUS_ID\"\n",
    "os.environ[\"CUDA_VISIBLE_DEVICES\"]=\"1\"\n",
    "from generation_manager import GeneratorManager"
   ]
  },
  {
   "cell_type": "code",
   "execution_count": 2,
   "id": "330abdfe-ccec-4c81-8ca8-5f48aa10216b",
   "metadata": {},
   "outputs": [],
   "source": [
    "curr_model_path = 'ckpt/model_TEST_flip.pth' # model checkpoint\n",
    "# Saving only state_dict:\n",
    "#torch.save(model.state_dict(), model_state_dict_path)\n",
    "#model_state_dict_path = load_model_path + 'model_only_state_dict_v0Last.pth'\n",
    "#print('Model state dict saved')"
   ]
  },
  {
   "cell_type": "code",
   "execution_count": 4,
   "id": "52338a0f-9f55-41ee-a8ea-95dd3eb10719",
   "metadata": {},
   "outputs": [],
   "source": [
    "def save_sequences(predicted, predicted_stopped, tokens_probs_all, name):\n",
    "    data_dir = \"data_halogenase/generation_flip_model/\"\n",
    "    query = name\n",
    "    os.makedirs(data_dir, exist_ok=True)\n",
    "    \n",
    "    predicted_data_file = os.path.join(data_dir, \"predicted_data_\" + query + \".p\")\n",
    "    with open(predicted_data_file, \"wb\") as file:\n",
    "        pickle.dump(predicted, file)\n",
    "\n",
    "    predicted_stopped_data_file = os.path.join(data_dir, \"predicted_stopped_data_\" + query + \".p\")\n",
    "    with open(predicted_stopped_data_file, \"wb\") as file:\n",
    "        pickle.dump(predicted_stopped, file)\n",
    "\n",
    "    tokens_probs_all_file = os.path.join(data_dir, \"tokens_prob_data_\" + query + \".p\")\n",
    "    with open(tokens_probs_all_file, \"wb\") as file:\n",
    "        pickle.dump(tokens_probs_all, file)\n",
    "        "
   ]
  },
  {
   "cell_type": "code",
   "execution_count": 5,
   "id": "0a359416-c643-4c75-8efc-296f411ca5b3",
   "metadata": {},
   "outputs": [
    {
     "name": "stdout",
     "output_type": "stream",
     "text": [
      "MODEL SIZE: \n",
      "1280\n",
      "Found PyTorch checkpoint at  ckpt/model_TEST_flip.pth\n",
      "GPU aviable. Previous checkpoint loaded in GPU\n"
     ]
    }
   ],
   "source": [
    "# GENERATION parameters\n",
    "temperature = 0.9\n",
    "penalty = 1.2\n",
    "top_p = 0.5\n",
    "np.random.seed(1337)\n",
    "torch.manual_seed(1337)\n",
    "random.seed(1337)\n",
    "torch.cuda.manual_seed_all(1337)\n",
    "\n",
    "generator = GeneratorManager(curr_model_path, penalty=penalty, top_p=top_p, temperature=temperature)"
   ]
  },
  {
   "cell_type": "code",
   "execution_count": 6,
   "id": "f3597988-128d-4cb7-906b-f25bf5066413",
   "metadata": {},
   "outputs": [],
   "source": [
    "\n",
    "def generation(name, keys):\n",
    "    predicted = []\n",
    "    predicted_stopped = []\n",
    "    # true_tokens_index_in_probs_all = []\n",
    "    tokens_probs_all = []\n",
    "    # true_value = []\n",
    "    seq_number = 0\n",
    "    #for entry in random_selection:\n",
    "    while seq_number <= 1000:\n",
    "        # input_seq = entry['sequence']['metadata']['sequence']\n",
    "        # FOR TESTIG the code:\n",
    "        # input_seq = input_seq[0:24]\n",
    "        input_seq = ''\n",
    "        \n",
    "        # if no tax keys:\n",
    "        tax_lineage = keys\n",
    "        offset = 0\n",
    "        \n",
    "        #print('generating sequences...')\n",
    "        #start_time = time.time()\n",
    "        res, tokens_generated_stopped, tokens_prob = generator.generation_complete_sequence_new(input_seq, tax_lineage, offset)\n",
    "        #end_time = time.time()\n",
    "        #elapsed_time = end_time - start_time\n",
    "        #print(f\"Done. Time taken: {elapsed_time} seconds.\")\n",
    "    \n",
    "        tokens_probs_all.append(tokens_prob)\n",
    "        \n",
    "        # print(\"Input: \", input_seq)\n",
    "        # print(\"Res: \", res)\n",
    "        # true_value.append(input_seq)\n",
    "        # true_tokens_index_in_prob = []\n",
    "        # true_tokens_index_in_probs_all.append(true_tokens_index_in_prob)\n",
    "        # tokens_probs_all.append(tokens_prob)\n",
    "        # print('input_offset should be nothing: ', input_seq[:offset])\n",
    "        predicted.append(input_seq[:offset] + res)\n",
    "        if tokens_generated_stopped:\n",
    "            for tmp_seq in tokens_generated_stopped:\n",
    "                predicted_stopped.append(input_seq[:offset] + tmp_seq)\n",
    "    \n",
    "        seq_number += 1\n",
    "        print('hello, this is seq_number', seq_number)\n",
    "        print('hello, this is seq_number module: ', seq_number%10)\n",
    "        \n",
    "        # FOR TESTIG:\n",
    "    \n",
    "        \n",
    "        if (seq_number%20) == 0:\n",
    "            print('the model has generated: ', seq_number , ' sequences')\n",
    "            print('saving sequences')\n",
    "            save_sequences(predicted, predicted_stopped, tokens_probs_all, name)\n",
    "    \n",
    "            \n",
    "    print('GENERATION ENDED')\n"
   ]
  },
  {
   "cell_type": "code",
   "execution_count": null,
   "id": "834ecc3a-c830-4e28-9976-8ee4dc492589",
   "metadata": {},
   "outputs": [],
   "source": [
    "generation('p0_5_percent_penalty_0_key_only_hydro', [0])"
   ]
  },
  {
   "cell_type": "code",
   "execution_count": null,
   "id": "8d798f79-863c-46af-b288-9baaf866b101",
   "metadata": {},
   "outputs": [],
   "source": [
    "generation('p0_5_percent_penalty_0_key_0_1', [0, 1])"
   ]
  },
  {
   "cell_type": "code",
   "execution_count": null,
   "id": "9f100484-81f7-42b1-bd1e-c8f0a0ae3866",
   "metadata": {},
   "outputs": [],
   "source": [
    "generation('p0_5_percent_penalty_0_key_0_2', [0, 2])"
   ]
  },
  {
   "cell_type": "code",
   "execution_count": null,
   "id": "6ea01243-7157-4123-afdf-11380fbbba54",
   "metadata": {},
   "outputs": [],
   "source": [
    "generation('p0_5_percent_penalty_0_key_0_3', [0, 3])"
   ]
  },
  {
   "cell_type": "code",
   "execution_count": null,
   "id": "802df3fb-79b2-4fcd-adc0-6e2e8cd414dd",
   "metadata": {},
   "outputs": [],
   "source": []
  }
 ],
 "metadata": {
  "kernelspec": {
   "display_name": "Python 3 (ipykernel)",
   "language": "python",
   "name": "python3"
  },
  "language_info": {
   "codemirror_mode": {
    "name": "ipython",
    "version": 3
   },
   "file_extension": ".py",
   "mimetype": "text/x-python",
   "name": "python",
   "nbconvert_exporter": "python",
   "pygments_lexer": "ipython3",
   "version": "3.11.4"
  }
 },
 "nbformat": 4,
 "nbformat_minor": 5
}
