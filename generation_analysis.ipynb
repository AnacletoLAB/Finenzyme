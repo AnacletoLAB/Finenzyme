{
 "cells": [
  {
   "cell_type": "code",
   "execution_count": 31,
   "id": "c569bad1-3793-45b6-a03b-44fc4f7253f2",
   "metadata": {},
   "outputs": [],
   "source": [
    "import pickle\n",
    "import os\n",
    "\n",
    "# paths to the saved .p files\n",
    "data_dir = \"results_generation/last results/Generation_PF00959_model_lr_00001_fine_tuned_due/\"\n",
    "predicted_data_file = os.path.join(data_dir, \"predicted_data_p0.50_p1.2_t_0.9.p\") \n",
    "predicted_stopped_file = os.path.join(data_dir, \"predicted_stopped_data_p0.50_p1.2_t_0.9.p\") \n",
    "\n",
    "#predicted_data_file = os.path.join(data_dir, \"predicted_data_p0.50_p1.2_t_0.9.p\") \n",
    "#predicted_stopped_file = os.path.join(data_dir, \"predicted_stopped_data_p0.50_p1.2_t_0.9.p\") \n",
    "\n",
    "\n",
    "# Reload predicted_data from the .p file\n",
    "predicted_data = False\n",
    "with open(predicted_data_file, \"rb\") as file:\n",
    "    predicted_data = pickle.load(file)\n",
    "\n",
    "# Reload predicted_data stopped from the .p file\n",
    "predicted_stopped_data = False\n",
    "with open(predicted_stopped_file, \"rb\") as file:\n",
    "    predicted_stopped_data = pickle.load(file)\n"
   ]
  },
  {
   "cell_type": "code",
   "execution_count": 32,
   "id": "dc9ac641-4ebb-4fbb-9035-2bb669a10f9c",
   "metadata": {},
   "outputs": [
    {
     "data": {
      "text/plain": [
       "1500"
      ]
     },
     "execution_count": 32,
     "metadata": {},
     "output_type": "execute_result"
    }
   ],
   "source": [
    "len(predicted_data)"
   ]
  },
  {
   "cell_type": "code",
   "execution_count": 33,
   "id": "6a59a81d-4e92-4657-a4db-b09074f6782c",
   "metadata": {},
   "outputs": [
    {
     "data": {
      "text/plain": [
       "11545"
      ]
     },
     "execution_count": 33,
     "metadata": {},
     "output_type": "execute_result"
    }
   ],
   "source": [
    "len(predicted_stopped_data)"
   ]
  },
  {
   "cell_type": "code",
   "execution_count": 34,
   "id": "12e0af71-4182-45e0-aba2-95fb28116730",
   "metadata": {},
   "outputs": [
    {
     "name": "stdout",
     "output_type": "stream",
     "text": [
      "219.33720225205718\n"
     ]
    }
   ],
   "source": [
    "add = 0\n",
    "for i in predicted_stopped_data:\n",
    "    add += len(i)\n",
    "add /=len(predicted_stopped_data)\n",
    "print(add)"
   ]
  },
  {
   "cell_type": "code",
   "execution_count": null,
   "id": "62980915",
   "metadata": {},
   "outputs": [],
   "source": [
    "import matplotlib.pyplot as plt\n",
    "import seaborn as sns\n",
    "import pandas as pd\n",
    "import numpy as np\n",
    "\n",
    "def compute_len(data):\n",
    "    len_all = []\n",
    "    for entry in data:\n",
    "        tmp_len = len(entry)\n",
    "        len_all.append(tmp_len)\n",
    "    return len_all\n",
    "\n",
    "def plot_histogram(data, bin_step, name):\n",
    "    # Create the histogram\n",
    "    max_val = max(data)\n",
    "    bin_edges = list(range(0, max_val + bin_step, bin_step))\n",
    "    #print(bin_edges)\n",
    "    plt.figure(figsize=(11, 6))\n",
    "    n, bins, _ = plt.hist(data, bins=bin_edges, color=(180/255, 211/255, 178/255), edgecolor='black', alpha=0.99, rwidth=0.87)    \n",
    "    print(n)\n",
    "    print(bins)\n",
    "    # Title, labels, and legend\n",
    "    plt.title('Histogram of Sequence Length Ranges')\n",
    "    plt.xlabel('Sequence Length')\n",
    "    plt.ylabel('Number of Instances')\n",
    "    plt.legend()\n",
    "    plt.savefig(name + '_Histogram.svg')\n",
    "    # Display the plot\n",
    "    plt.show()"
   ]
  },
  {
   "cell_type": "code",
   "execution_count": 39,
   "id": "d562d4ad",
   "metadata": {},
   "outputs": [
    {
     "name": "stderr",
     "output_type": "stream",
     "text": [
      "No artists with labels found to put in legend.  Note that artists whose label start with an underscore are ignored when legend() is called with no argument.\n"
     ]
    },
    {
     "name": "stdout",
     "output_type": "stream",
     "text": [
      "[   0. 6322. 3840.  911.  448.   24.]\n",
      "[  0 100 200 300 400 500 600]\n"
     ]
    },
    {
     "data": {
      "image/png": "[encoded data removed]",
      "text/plain": [
       "<Figure size 792x432 with 1 Axes>"
      ]
     },
     "metadata": {
      "needs_background": "light"
     },
     "output_type": "display_data"
    }
   ],
   "source": [
    "len_data = compute_len(predicted_stopped_data)\n",
    "plot_histogram(len_data, 100, 'PF_generation1')"
   ]
  },
  {
   "cell_type": "code",
   "execution_count": 38,
   "id": "8fa23a75",
   "metadata": {},
   "outputs": [],
   "source": [
    "# we have a list of amino acid sequences, function to transform it into a FASTA format file\n",
    "def list_to_fasta(sequences, file_name=\"output.fasta\"):\n",
    "    with open(file_name, 'w') as file:\n",
    "        for idx, sequence in enumerate(sequences):\n",
    "            # Writing the header for each sequence\n",
    "            file.write(f\">Sequence_{idx + 1}\\n\")\n",
    "            # Writing the amino acid sequence\n",
    "            file.write(f\"{sequence}\\n\")\n",
    "\n",
    "#list_to_fasta(predicted_stopped_data, file_name=\"predicted_stopped_075.fasta\")\n",
    "list_to_fasta(predicted_stopped_data, file_name=\"predicted_stopped_050.fasta\")"
   ]
  },
  {
   "cell_type": "code",
   "execution_count": 9,
   "id": "383484ce",
   "metadata": {},
   "outputs": [
    {
     "name": "stdout",
     "output_type": "stream",
     "text": [
      "<class 'list'>\n",
      "{'metadata': {'accession': 'A0A009F987', 'name': 'Lysozyme', 'source_database': 'unreviewed', 'length': 164, 'source_organism': {'taxId': '1310618', 'scientificName': 'Acinetobacter baumannii 118362', 'fullName': 'Acinetobacter baumannii 118362'}}, 'entries': [{'accession': 'PF00959', 'entry_protein_locations': [{'fragments': [{'start': 65, 'end': 163, 'dc-status': 'CONTINUOUS'}], 'model': 'PF00959', 'score': 5e-21}], 'protein_length': 164, 'source_database': 'pfam', 'entry_type': 'domain', 'entry_integrated': 'ipr002196'}], 'sequence': {'metadata': {'accession': 'A0A009F987', 'id': 'A0A009F987_ACIBA', 'source_organism': {'taxId': '1310618', 'scientificName': 'Acinetobacter baumannii 118362', 'fullName': 'Acinetobacter baumannii 118362'}, 'name': 'Lysozyme', 'description': None, 'length': 164, 'sequence': 'MTTKPFFDAARVIAGGKLTQAQVDELNKVVNKLAPGGKTTSDFGVNLITGFEGTRFTAYDDGVGVWTIGTGTTVYPNGVKVKKGDTCTAEQAKTYFKHDLAKFEKTVNESVTVPINQNQFDALVSLTYNIGSGAFKGSTLLKLLNKGDYQGAADQFLVWNKAGG', 'proteome': None, 'gene': 'J517_4475', 'go_terms': [{'identifier': 'GO:0003796', 'name': 'lysozyme activity', 'category': {'code': 'F', 'name': 'molecular_function'}}, {'identifier': 'GO:0009253', 'name': 'peptidoglycan catabolic process', 'category': {'code': 'P', 'name': 'biological_process'}}, {'identifier': 'GO:0016998', 'name': 'cell wall macromolecule catabolic process', 'category': {'code': 'P', 'name': 'biological_process'}}], 'protein_evidence': 3, 'source_database': 'unreviewed', 'is_fragment': True, 'ida_accession': 'b8801d01d6e63f79260281461d758ae8019f3053', 'counters': {'domain_architectures': 18190, 'entries': 11, 'isoforms': 0, 'proteomes': 0, 'sets': 2, 'structures': 0, 'taxa': 1, 'dbEntries': {'cdd': 1, 'ssf': 1, 'hamap': 1, 'cathgene3d': 1, 'pfam': 1, 'panther': 1, 'interpro': 5}, 'proteome': 0, 'taxonomy': 1, 'similar_proteins': 18190}}}}\n"
     ]
    }
   ],
   "source": [
    "def lysozyme_to_fasta(sequences, file_name=\"output.fasta\"):\n",
    "    with open(file_name, 'w') as file:\n",
    "        for seq in sequences:\n",
    "            # Extracting accession identifier and sequence\n",
    "            accession = seq['sequence']['metadata']['accession']\n",
    "            sequence = seq['sequence']['metadata']['sequence']\n",
    "            # Writing the header with accession identifier\n",
    "            file.write(f\">{accession}\\n\")\n",
    "            # Writing the amino acid sequence\n",
    "            file.write(f\"{sequence}\\n\")\n",
    "            \n",
    "\n",
    "lysozyme_data_file = os.path.join(\"data/filtered_data_PF00959.p\") \n",
    "# Reload predicted_data from the .p file\n",
    "lysozyme_data = False\n",
    "with open(lysozyme_data_file, \"rb\") as file:\n",
    "    lysozyme_data = pickle.load(file)\n",
    "\n",
    "print(type(lysozyme_data))\n",
    "print(lysozyme_data[0])\n",
    "\n",
    "lysozyme_to_fasta(lysozyme_data, file_name=\"lysozymes_db.fasta\")"
   ]
  },
  {
   "cell_type": "code",
   "execution_count": 10,
   "id": "8abc6f07",
   "metadata": {},
   "outputs": [],
   "source": [
    "# here i performed blast on the stopped databases. i have tabular data with max id hit for each sequence"
   ]
  },
  {
   "cell_type": "code",
   "execution_count": 40,
   "id": "dbaf2490",
   "metadata": {},
   "outputs": [
    {
     "data": {
      "text/plain": [
       "['Galaxy8-[unique_maxID_generatedSeqOnlyKeywords_vs_swissProt_on_data_050].tabular',\n",
       " 'predicted_stopped_data_p0.50_p1.2_t_0.9.p',\n",
       " 'predicted_data_p0.50_p1.2_t_0.9.p',\n",
       " 'Galaxy9-[unique_maxID_generatedSeqOnlyKeywords_vs_lysozymes_on_data_050].tabular']"
      ]
     },
     "execution_count": 40,
     "metadata": {},
     "output_type": "execute_result"
    }
   ],
   "source": [
    "import pandas as pd\n",
    "os.listdir(data_dir)"
   ]
  },
  {
   "cell_type": "code",
   "execution_count": 52,
   "id": "57d38877",
   "metadata": {},
   "outputs": [
    {
     "name": "stdout",
     "output_type": "stream",
     "text": [
      "            #c1          c2      c3   c4  c5  c6  c7   c8  c9  c10  ...  c17  \\\n",
      "0    Sequence_1      I2UNL6  99.394  165   1   0   1  165   1  165  ...    0   \n",
      "1   Sequence_10  A0A0E1FN67  99.408  169   1   0   1  169   1  169  ...    0   \n",
      "2  Sequence_100  A0A2R2Q2G5  77.305  141  32   0   1  141   1  141  ...    0   \n",
      "\n",
      "      c18 c19  c20                                                c21  \\\n",
      "0  100.00   1    1  MSPSLRKAVAAAIGGGAVAIASVLITGPSGDDGLEGVSYIPYEDIV...   \n",
      "1  100.00   1    1  MSNKTKYIAAVLAASAAFFVGVKNDEGFTSKPVIPVKGDRPTQGHG...   \n",
      "2   86.52   1    1  MKISDNGLHITKAFEGLRLKAYQCSANVWTIGYGHTKGVHPDMEIT...   \n",
      "\n",
      "                                                 c22  c23  c24         c25  rn  \n",
      "0  MSPSLRKAVAAAIGGGAVAIASVLITGPSGDDGLEGVSYIPYEDIV...  165  165      I2UNL6   1  \n",
      "1  MSNKTKYIAAVLAASAAFFVGVKNDEGFTSKPVIPVKGDRPTQGHG...  174  169  A0A0E1FN67   1  \n",
      "2  MIIDVNGLKLIKHFEGLRLRAYQCSANVWTIGYGHTAGVGPDDVIT...  405  141  A0A2R2Q2G5   1  \n",
      "\n",
      "[3 rows x 26 columns]\n"
     ]
    }
   ],
   "source": [
    "tab_dir = data_dir + 'Galaxy9-[unique_maxID_generatedSeqOnlyKeywords_vs_lysozymes_on_data_050].tabular'\n",
    "df = pd.read_csv(tab_dir, delimiter='\\t')\n",
    "print(df.head(3))"
   ]
  },
  {
   "cell_type": "code",
   "execution_count": 54,
   "id": "11c69ba2",
   "metadata": {},
   "outputs": [
    {
     "data": {
      "text/plain": [
       "11545"
      ]
     },
     "execution_count": 54,
     "metadata": {},
     "output_type": "execute_result"
    }
   ],
   "source": [
    "c3_values = df['c3'].tolist()\n",
    "len(c3_values)"
   ]
  },
  {
   "cell_type": "code",
   "execution_count": 60,
   "id": "99dc8b53",
   "metadata": {},
   "outputs": [],
   "source": [
    "import matplotlib.pyplot as plt\n",
    "def plot_histogram(data, bin_step, name):\n",
    "    # Create the histogram\n",
    "    bin_edges = list(range(60, 100 + bin_step, bin_step))\n",
    "    #print(bin_edges)\n",
    "    plt.figure(figsize=(11, 6))\n",
    "    n, bins, _ = plt.hist(data, bins=bin_edges, color=(125/255, 180/255, 232/255), edgecolor=(68/255, 127/255, 176/255), alpha=0.99, rwidth=0.87)    \n",
    "    print(n)\n",
    "    print(bins)\n",
    "    # Title, labels, and legend\n",
    "    plt.title('Histogram of Max-ID Ranges')\n",
    "    plt.xlabel('ID-percentage range')\n",
    "    plt.ylabel('Number of Instances')\n",
    "    plt.legend()\n",
    "    plt.savefig(name + '_Histogram.svg')\n",
    "    # Display the plot\n",
    "    plt.show()"
   ]
  },
  {
   "cell_type": "code",
   "execution_count": 61,
   "id": "c4fdaaca",
   "metadata": {},
   "outputs": [
    {
     "name": "stderr",
     "output_type": "stream",
     "text": [
      "No artists with labels found to put in legend.  Note that artists whose label start with an underscore are ignored when legend() is called with no argument.\n"
     ]
    },
    {
     "name": "stdout",
     "output_type": "stream",
     "text": [
      "[   31.   305.   119. 11090.]\n",
      "[ 60  70  80  90 100]\n"
     ]
    },
    {
     "data": {
      "image/png": "[encoded data removed]",
      "text/plain": [
       "<Figure size 792x432 with 1 Axes>"
      ]
     },
     "metadata": {
      "needs_background": "light"
     },
     "output_type": "display_data"
    }
   ],
   "source": [
    "plot_histogram(c3_values, 10, 'max_id_050_lysozymes_generazione_solo_keywords_n_11545')"
   ]
  },
  {
   "cell_type": "code",
   "execution_count": null,
   "id": "62c4d3a0",
   "metadata": {},
   "outputs": [],
   "source": []
  }
 ],
 "metadata": {
  "kernelspec": {
   "display_name": "venvProGen",
   "language": "python",
   "name": "venvprogen"
  },
  "language_info": {
   "codemirror_mode": {
    "name": "ipython",
    "version": 3
   },
   "file_extension": ".py",
   "mimetype": "text/x-python",
   "name": "python",
   "nbconvert_exporter": "python",
   "pygments_lexer": "ipython3",
   "version": "3.7.16"
  }
 },
 "nbformat": 4,
 "nbformat_minor": 5
}
