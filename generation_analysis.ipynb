{
 "cells": [
  {
   "cell_type": "code",
   "execution_count": 1,
   "id": "c569bad1-3793-45b6-a03b-44fc4f7253f2",
   "metadata": {},
   "outputs": [],
   "source": [
    "import pickle\n",
    "import os\n",
    "\n",
    "# paths to the saved .p files\n",
    "data_dir = \"results_noGit/Generation_PF00959_model_lr_00001_fine_tuned/\"\n",
    "predicted_data_file = os.path.join(data_dir, \"predicted_data_k3_p1.2_t_0.9.p\")\n",
    "predicted_stopped_file = os.path.join(data_dir, \"predicted_stopped_data_k3_p1.2_t_0.9.p\")\n",
    "\n",
    "# Reload predicted_data from the .p file\n",
    "predicted_data = False\n",
    "with open(predicted_data_file, \"rb\") as file:\n",
    "    predicted_data = pickle.load(file)\n",
    "\n",
    "# Reload predicted_data stopped from the .p file\n",
    "predicted_stopped_data = False\n",
    "with open(predicted_stopped_file, \"rb\") as file:\n",
    "    predicted_stopped_data = pickle.load(file)\n"
   ]
  },
  {
   "cell_type": "code",
   "execution_count": 2,
   "id": "dc9ac641-4ebb-4fbb-9035-2bb669a10f9c",
   "metadata": {},
   "outputs": [
    {
     "data": {
      "text/plain": [
       "20"
      ]
     },
     "execution_count": 2,
     "metadata": {},
     "output_type": "execute_result"
    }
   ],
   "source": [
    "len(predicted_data)"
   ]
  },
  {
   "cell_type": "code",
   "execution_count": 3,
   "id": "6a59a81d-4e92-4657-a4db-b09074f6782c",
   "metadata": {},
   "outputs": [
    {
     "data": {
      "text/plain": [
       "59"
      ]
     },
     "execution_count": 3,
     "metadata": {},
     "output_type": "execute_result"
    }
   ],
   "source": [
    "len(predicted_stopped_data)"
   ]
  },
  {
   "cell_type": "code",
   "execution_count": 8,
   "id": "ee2feb6d-6b44-430c-9d35-fc14108b858d",
   "metadata": {},
   "outputs": [
    {
     "data": {
      "text/plain": [
       "153"
      ]
     },
     "execution_count": 8,
     "metadata": {},
     "output_type": "execute_result"
    }
   ],
   "source": [
    "len(predicted_stopped_data[0])"
   ]
  },
  {
   "cell_type": "code",
   "execution_count": 7,
   "id": "64b1dce4-1abe-4508-941e-1163f4d979ff",
   "metadata": {},
   "outputs": [
    {
     "data": {
      "text/plain": [
       "510"
      ]
     },
     "execution_count": 7,
     "metadata": {},
     "output_type": "execute_result"
    }
   ],
   "source": [
    "len(predicted_data[0])"
   ]
  },
  {
   "cell_type": "code",
   "execution_count": null,
   "id": "12e0af71-4182-45e0-aba2-95fb28116730",
   "metadata": {},
   "outputs": [],
   "source": []
  }
 ],
 "metadata": {
  "kernelspec": {
   "display_name": "Python 3 (ipykernel)",
   "language": "python",
   "name": "python3"
  },
  "language_info": {
   "codemirror_mode": {
    "name": "ipython",
    "version": 3
   },
   "file_extension": ".py",
   "mimetype": "text/x-python",
   "name": "python",
   "nbconvert_exporter": "python",
   "pygments_lexer": "ipython3",
   "version": "3.11.4"
  }
 },
 "nbformat": 4,
 "nbformat_minor": 5
}
