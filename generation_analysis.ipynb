{
 "cells": [
  {
   "cell_type": "code",
   "execution_count": 152,
   "id": "62980915",
   "metadata": {},
   "outputs": [],
   "source": [
    "import matplotlib.pyplot as plt\n",
    "import seaborn as sns\n",
    "import pandas as pd\n",
    "import numpy as np\n",
    "\n",
    "def compute_len(data):\n",
    "    len_all = []\n",
    "    for entry in data:\n",
    "        tmp_len = len(entry)\n",
    "        len_all.append(tmp_len)\n",
    "    return len_all\n",
    "\n",
    "def plot_histogram(data, bin_step, name):\n",
    "    # Create the histogram\n",
    "    max_val = max(data)\n",
    "    min_val = min(data)\n",
    "    if min_val >= 100:\n",
    "        min_val = 100\n",
    "    else:\n",
    "        min_val = 0\n",
    "    bin_edges = list(range(min_val, max_val + bin_step, bin_step))\n",
    "    #print(bin_edges)\n",
    "    plt.figure(figsize=(11, 6))\n",
    "    n, bins, _ = plt.hist(data, bins=bin_edges, color=(180/255, 211/255, 178/255), edgecolor='black', alpha=0.99, rwidth=0.87)    \n",
    "    #print(n)\n",
    "    #print(bins)\n",
    "    # Title, labels, and legend\n",
    "    plt.title('Histogram of Sequence Length Ranges')\n",
    "    plt.xlabel('Sequence Length')\n",
    "    plt.ylabel('Number of Instances')\n",
    "    # plt.legend()\n",
    "    plt.savefig(name + '_Histogram.svg')\n",
    "    # Display the plot\n",
    "    plt.show()"
   ]
  },
  {
   "cell_type": "code",
   "execution_count": null,
   "id": "383484ce",
   "metadata": {},
   "outputs": [],
   "source": [
    "'''    \n",
    "def lysozyme_to_fasta(sequences, file_name=\"output.fasta\"):\n",
    "    with open(file_name, 'w') as file:\n",
    "        for seq in sequences:\n",
    "            # Extracting accession identifier and sequence\n",
    "            accession = seq['sequence']['metadata']['accession']\n",
    "            sequence = seq['sequence']['metadata']['sequence']\n",
    "            # Writing the header with accession identifier\n",
    "            file.write(f\">{accession}\\n\")\n",
    "            # Writing the amino acid sequence\n",
    "            file.write(f\"{sequence}\\n\")\n",
    "     \n",
    "lysozyme_data_file = os.path.join(\"data/filtered_data_PF00959.p\") \n",
    "# Reload predicted_data from the .p file\n",
    "lysozyme_data = False\n",
    "with open(lysozyme_data_file, \"rb\") as file:\n",
    "    lysozyme_data = pickle.load(file)\n",
    "\n",
    "print(type(lysozyme_data))\n",
    "print(lysozyme_data[0])\n",
    "\n",
    "lysozyme_to_fasta(lysozyme_data, file_name=\"lysozymes_db.fasta\")'''"
   ]
  },
  {
   "cell_type": "code",
   "execution_count": 133,
   "id": "a4d0c854-2640-49df-aaec-6ee0e9e46c29",
   "metadata": {},
   "outputs": [
    {
     "name": "stdout",
     "output_type": "stream",
     "text": [
      "('P00720|ENLYS_BPT4', 'MNIFEMLRIDERLRLKIYKDTEGYYTIGIGHLLTKSPSLNAAKSELDKAIGRNCNGVITKDEAEKLFNQDVDAAVRGILRNAKLKPVYDSLDAVRRCALINMVFQMGETGVAGFTNSLRMLQQKRWDEAAVNLAKSIWYNQTPNRAKRVITTFRTGTWDAYKNL')\n",
      "only offset:  MNIFEMLRIDERLRLKIYKDTEGYYTIGIGHLLTKSPSLNAAKSELDKAIGRNCNGVITKDEAEKLFNQDVDAAVRGILRN\n",
      "164\n"
     ]
    }
   ],
   "source": [
    "def read_fasta(file_path):\n",
    "    \"\"\"\n",
    "    Reads a FASTA file with a single protein sequence.\n",
    "    Args:\n",
    "    file_path (str): The path to the FASTA file.\n",
    "    Returns:\n",
    "    tuple: A tuple containing the identifier and the protein sequence as strings.\n",
    "    \"\"\"\n",
    "    with open(file_path, 'r') as file:\n",
    "        lines = file.readlines()\n",
    "        identifier = lines[0].strip()[4:21]  # Remove '>' and any trailing newline character\n",
    "        sequence = ''.join(line.strip() for line in lines[1:])  # Concatenate the remaining lines\n",
    "        return identifier, sequence\n",
    "sequences_and_identifiers = []\n",
    "fasta_dir = 'FASTA_lysozymes_of_interest/'\n",
    "for file in os.listdir(fasta_dir):\n",
    "    sequences_and_identifiers.append((read_fasta(fasta_dir + file)))\n",
    "'''\n",
    "P03706 = sequences_and_identifiers[1]\n",
    "print(P03706)\n",
    "P03706 = P03706[1]\n",
    "original = P03706\n",
    "original_id = 'P03706'\n",
    "'''\n",
    "'''\n",
    "Q37875 = sequences_and_identifiers[0]\n",
    "print(Q37875)\n",
    "Q37875 = Q37875[1]\n",
    "print(Q37875)\n",
    "protein_base = 0.5\n",
    "offset = int(protein_base * len(Q37875))\n",
    "# Adjust for zero-based indexing\n",
    "offset = offset - 1 if offset > 0 else 0\n",
    "print('only offset: ', Q37875[:offset])\n",
    "original = Q37875\n",
    "original_id = 'Q37875'\n",
    "'''\n",
    "'''\n",
    "P78285 = sequences_and_identifiers[2]\n",
    "print(P78285)\n",
    "P78285 = P78285[1]\n",
    "original = P78285\n",
    "original_id = 'P78285'\n",
    "\n",
    "'''\n",
    "P00720 = sequences_and_identifiers[3]\n",
    "print(P00720)\n",
    "P00720 = P00720[1]\n",
    "original = P00720\n",
    "original_id = 'P00720'\n",
    "\n",
    "\n",
    "protein_base = 0.5\n",
    "offset = int(protein_base * len(P00720))\n",
    "# Adjust for zero-based indexing\n",
    "offset = offset - 1 if offset > 0 else 0\n",
    "print('only offset: ', P00720[:offset])\n",
    "print(len(P00720))"
   ]
  },
  {
   "cell_type": "code",
   "execution_count": 148,
   "id": "c569bad1-3793-45b6-a03b-44fc4f7253f2",
   "metadata": {},
   "outputs": [
    {
     "name": "stdout",
     "output_type": "stream",
     "text": [
      "['predicted_stopped_data_k3_p1.2_t_0.9.p']\n"
     ]
    }
   ],
   "source": [
    "import pickle\n",
    "import os\n",
    "# FOR SPECIFIC LYSOZYMES:\n",
    "# paths to the saved .p files \n",
    "#data_dir = \"Generation_PF00959_model_lr_00001_phage_specific/\"\n",
    "\n",
    "# FOR ONLY KEY GENERATION\n",
    "data_dir = \"results_generation/last results/Generation_PF00959_model_lr_00001_fine_tuned/predicted_stopped/\"\n",
    "#data_dir = \"results_generation/last results/Generation_PF00959_model_lr_00001_fine_tuned_due/predicted_stopped/\"\n",
    "original_id = 'p'\n",
    "#predicted_data_file = os.path.join(data_dir, \"\") \n",
    "#predicted_stopped_file = os.path.join(data_dir, \"predicted_stopped_data_Q37875|ENLYS_BPP1_top_p_0.75seed_percentage_0.5.p\") \n",
    "#predicted_data_file = os.path.join(data_dir, \"predicted_data_p0.50_p1.2_t_0.9.p\") \n",
    "\n",
    "\n",
    "# Reload predicted_data from the .p file\n",
    "#predicted_data = False\n",
    "#with open(predicted_data_file, \"rb\") as file:\n",
    "#    predicted_data = pickle.load(file)\n",
    "\n",
    "# Reload predicted_data stopped from the .p file\n",
    "#predicted_stopped_data = False\n",
    "#with open(predicted_stopped_file, \"rb\") as file:\n",
    "#    predicted_stopped_data = pickle.load(file)\n",
    "print(os.listdir(data_dir))"
   ]
  },
  {
   "cell_type": "code",
   "execution_count": 112,
   "id": "9ad9db24-9c7b-40d0-896b-d08838430cb7",
   "metadata": {},
   "outputs": [],
   "source": [
    "def filter_data_for_duplicates(predicted_stopped_data, original):\n",
    "    filtered_stopped_data = []\n",
    "    original_count = 0\n",
    "    for seq in predicted_stopped_data:\n",
    "        if seq == original:\n",
    "            original_count += 1\n",
    "        elif seq not in filtered_stopped_data:\n",
    "            filtered_stopped_data.append(seq)\n",
    "    print('original_sequence_count', original_count)\n",
    "    print('original length: ', len(original))\n",
    "    print('stopped_generated_sequences_number: ', len(predicted_stopped_data))\n",
    "    print('filtered sequences_number: ', len(filtered_stopped_data))\n",
    "    print('duplicates: ', len(predicted_stopped_data) - len(filtered_stopped_data))\n",
    "    #\n",
    "    if len(filtered_stopped_data) < 10:\n",
    "        raise ZeroDivisionError\n",
    "    # average sequence length calculation\n",
    "    add = 0\n",
    "    for i in predicted_stopped_data:\n",
    "        add += len(i)\n",
    "    add /=len(predicted_stopped_data)\n",
    "    print('average len calculation of generated stopped: ', add)\n",
    "    add = 0\n",
    "    for i in filtered_stopped_data:\n",
    "        add += len(i)\n",
    "    add /=len(filtered_stopped_data)\n",
    "    print('average len calculation of filtered generated stopped: ', add)\n",
    "\n",
    "    print('----------------------histograms----------------------')\n",
    "    len_data = compute_len(predicted_stopped_data)\n",
    "    plot_histogram(len_data, 100, 'PF_generation1')\n",
    "    \n",
    "    len_data = compute_len(filtered_stopped_data)\n",
    "    plot_histogram(len_data, 100, 'PF_generation1_filtered')\n",
    "    \n",
    "    return filtered_stopped_data\n",
    "\n",
    "#original = Q37875\n",
    "#filtered_stopped_data = filter_data_for_duplicates(predicted_stopped_data, original)\n"
   ]
  },
  {
   "cell_type": "code",
   "execution_count": 153,
   "id": "37bde40c-37eb-40bc-8e83-67cee6539eb3",
   "metadata": {},
   "outputs": [
    {
     "name": "stdout",
     "output_type": "stream",
     "text": [
      "predicted_stopped_data_k3_p1.2_t_0.9.p\n",
      "predicted_stopped_data_k3_p1.2_t_0.9.p\n",
      "original_sequence_count 0\n",
      "original length:  164\n",
      "stopped_generated_sequences_number:  5317\n",
      "filtered sequences_number:  2753\n",
      "duplicates:  2564\n",
      "average len calculation of generated stopped:  192.4476208388189\n",
      "average len calculation of filtered generated stopped:  212.1859789320741\n",
      "----------------------histograms----------------------\n"
     ]
    },
    {
     "data": {
      "image/png": "[encoded data removed]",
      "text/plain": [
       "<Figure size 1100x600 with 1 Axes>"
      ]
     },
     "metadata": {},
     "output_type": "display_data"
    },
    {
     "data": {
      "image/png": "[encoded data removed]",
      "text/plain": [
       "<Figure size 1100x600 with 1 Axes>"
      ]
     },
     "metadata": {},
     "output_type": "display_data"
    }
   ],
   "source": [
    "predicted_stopped_dictionary = {}\n",
    "for filename in os.listdir(data_dir):\n",
    "    print(filename)\n",
    "    if 'predicted_stopped_data' in filename:\n",
    "        if original_id in filename:\n",
    "            predicted_stopped_data = False\n",
    "            predicted_stopped_file = data_dir + filename\n",
    "            with open(predicted_stopped_file, \"rb\") as file:\n",
    "                predicted_stopped_data = pickle.load(file)\n",
    "            print(filename)\n",
    "            try: \n",
    "                filtered_stopped_data = filter_data_for_duplicates(predicted_stopped_data, original)\n",
    "                predicted_stopped_dictionary[filename] = filtered_stopped_data\n",
    "            except ZeroDivisionError:\n",
    "                print('-----sequences detected less than 10-----')\n",
    "            #vanno ancora tolti gli amminoacidi seed sequence based on seed percentage in keyname in dictionary"
   ]
  },
  {
   "cell_type": "code",
   "execution_count": 93,
   "id": "8fa23a75",
   "metadata": {},
   "outputs": [],
   "source": [
    "# we have a list of amino acid sequences, function to transform it into a FASTA format file\n",
    "def list_to_fasta(sequences, file_name, original_yes, after_percentage):\n",
    "    with open(file_name, 'w') as file:\n",
    "        unique_sequences = []\n",
    "        count = 0\n",
    "        if original_yes:\n",
    "            file.write(f\">Original\\n\")\n",
    "            file.write(f\"{original}\\n\")\n",
    "        unique_sequences.append(original)\n",
    "        for idx, sequence in enumerate(sequences):\n",
    "            if sequence not in unique_sequences:\n",
    "                offset = int(len(sequence)*after_percentage)\n",
    "                #print(offset)\n",
    "                #print(len(sequence))\n",
    "                unique_sequences.append(sequence)\n",
    "                sequence = sequence[offset:]\n",
    "                # Writing the header for each sequence\n",
    "                file.write(f\">Sequence_{idx + 1}\\n\")\n",
    "                # Writing the amino acid sequence\n",
    "                file.write(f\"{sequence}\\n\")\n",
    "            else:\n",
    "                count += 1\n",
    "        print('duplicates check ', count)\n",
    "        print('uniques: ', len(unique_sequences))\n",
    "\n",
    "#list_to_fasta(predicted_stopped_data, file_name=\"predicted_stopped_075.fasta\")\n",
    "# list_to_fasta(filtered_stopped_data, file_name=\"fasta_generated/predicted_stopped_Q37875_topp_075_seed_050_cutted.fasta\")"
   ]
  },
  {
   "cell_type": "code",
   "execution_count": 126,
   "id": "debc3f64-5a4f-410a-a68b-1db700173fe0",
   "metadata": {},
   "outputs": [
    {
     "name": "stdout",
     "output_type": "stream",
     "text": [
      "duplicates check  0\n",
      "uniques:  702\n",
      "duplicates check  0\n",
      "uniques:  702\n",
      "duplicates check  0\n",
      "uniques:  37\n",
      "duplicates check  0\n",
      "uniques:  37\n",
      "duplicates check  0\n",
      "uniques:  207\n",
      "duplicates check  0\n",
      "uniques:  207\n",
      "duplicates check  0\n",
      "uniques:  37\n",
      "duplicates check  0\n",
      "uniques:  37\n",
      "duplicates check  0\n",
      "uniques:  213\n",
      "duplicates check  0\n",
      "uniques:  213\n",
      "duplicates check  0\n",
      "uniques:  180\n",
      "duplicates check  0\n",
      "uniques:  180\n",
      "duplicates check  0\n",
      "uniques:  694\n",
      "duplicates check  0\n",
      "uniques:  694\n",
      "duplicates check  0\n",
      "uniques:  814\n",
      "duplicates check  0\n",
      "uniques:  814\n",
      "duplicates check  0\n",
      "uniques:  37\n",
      "duplicates check  0\n",
      "uniques:  37\n"
     ]
    }
   ],
   "source": [
    "for file in predicted_stopped_dictionary:\n",
    "    file_fasta = file[:-2] + \".fasta\"\n",
    "    index_of_percentage = file.rfind('_') + 1\n",
    "    after_percentage = float(file[index_of_percentage:-2])\n",
    "    #print(after_percentage)\n",
    "    file_fasta = \"fasta_generated/\" + file_fasta\n",
    "    list_to_fasta(predicted_stopped_dictionary[file], file_fasta, False, after_percentage)\n",
    "\n",
    "    # with original\n",
    "    file_fasta = file[:-2] + '_with_original' + \".fasta\"\n",
    "    index_of_percentage = file.rfind('_') + 1\n",
    "    after_percentage = float(file[index_of_percentage:-2])\n",
    "    #print(after_percentage)\n",
    "    file_fasta = \"fasta_generated/\" + file_fasta\n",
    "    list_to_fasta(predicted_stopped_dictionary[file], file_fasta, True, after_percentage)"
   ]
  },
  {
   "cell_type": "markdown",
   "id": "5315be56-066d-453f-b782-ad3cc00cabad",
   "metadata": {},
   "source": [
    "<h3> blast was performed on the stopped databases. i have tabular data with max id hit for each sequence </h3>"
   ]
  },
  {
   "cell_type": "code",
   "execution_count": 57,
   "id": "dbaf2490",
   "metadata": {},
   "outputs": [
    {
     "data": {
      "text/plain": [
       "['predicted_stopped_data_P03706|ENLYS_LAMB_top_p_0.75seed_percentage_0.75.p',\n",
       " 'predicted_stopped_data_P78285|LYSD_ECOLI_top_p_0.75seed_percentage_0.25.p',\n",
       " 'predicted_stopped_data_P78285|LYSD_ECOLI_top_p_0.5seed_percentage_0.5.p',\n",
       " 'predicted_stopped_data_Q37875|ENLYS_BPP1_top_p_0.25seed_percentage_0.25.p',\n",
       " 'predicted_stopped_data_P00720|ENLYS_BPT4_top_p_0.5seed_percentage_0.25.p',\n",
       " 'predicted_stopped_data_P03706|ENLYS_LAMB_top_p_0.75seed_percentage_0.25.p',\n",
       " 'predicted_stopped_data_P78285|LYSD_ECOLI_top_p_0.25seed_percentage_0.5.p',\n",
       " 'predicted_stopped_data_Q37875|ENLYS_BPP1_top_p_0.25seed_percentage_0.75.p',\n",
       " 'predicted_stopped_data_Q37875|ENLYS_BPP1_top_p_0.75seed_percentage_0.5.p',\n",
       " 'predicted_stopped_data_P03706|ENLYS_LAMB_top_p_0.25seed_percentage_0.5.p',\n",
       " 'predicted_stopped_data_P00720|ENLYS_BPT4_top_p_0.25seed_percentage_0.75.p',\n",
       " 'predicted_stopped_data_P00720|ENLYS_BPT4_top_p_0.75seed_percentage_0.75.p',\n",
       " 'predicted_stopped_data_P00720|ENLYS_BPT4_top_p_0.25seed_percentage_0.25.p',\n",
       " 'predicted_stopped_data_P03706|ENLYS_LAMB_top_p_0.75seed_percentage_0.5.p',\n",
       " 'predicted_stopped_data_P00720|ENLYS_BPT4_top_p_0.75seed_percentage_0.5.p',\n",
       " 'predicted_stopped_data_P78285|LYSD_ECOLI_top_p_0.25seed_percentage_0.75.p',\n",
       " 'predicted_stopped_data_P78285|LYSD_ECOLI_top_p_0.5seed_percentage_0.75.p',\n",
       " 'predicted_stopped_data_P00720|ENLYS_BPT4_top_p_0.75seed_percentage_0.25.p',\n",
       " 'predicted_stopped_data_P03706|ENLYS_LAMB_top_p_0.5seed_percentage_0.75.p',\n",
       " '.ipynb_checkpoints',\n",
       " 'predicted_stopped_data_P00720|ENLYS_BPT4_top_p_0.5seed_percentage_0.75.p',\n",
       " 'predicted_stopped_data_Q37875|ENLYS_BPP1_top_p_0.25seed_percentage_0.5.p',\n",
       " 'predicted_stopped_data_P78285|LYSD_ECOLI_top_p_0.25seed_percentage_0.25.p',\n",
       " 'predicted_stopped_data_P78285|LYSD_ECOLI_top_p_0.75seed_percentage_0.75.p',\n",
       " 'predicted_stopped_data_P00720|ENLYS_BPT4_top_p_0.5seed_percentage_0.5.p',\n",
       " 'predicted_stopped_data_Q37875|ENLYS_BPP1_top_p_0.75seed_percentage_0.75.p',\n",
       " 'predicted_stopped_data_P03706|ENLYS_LAMB_top_p_0.25seed_percentage_0.75.p',\n",
       " 'predicted_stopped_data_Q37875|ENLYS_BPP1_top_p_0.75seed_percentage_0.25.p',\n",
       " 'predicted_stopped_data_Q37875|ENLYS_BPP1_top_p_0.5seed_percentage_0.5.p',\n",
       " 'predicted_stopped_data_Q37875|ENLYS_BPP1_top_p_0.5seed_percentage_0.25.p',\n",
       " 'predicted_stopped_data_P78285|LYSD_ECOLI_top_p_0.75seed_percentage_0.5.p',\n",
       " 'predicted_stopped_data_P03706|ENLYS_LAMB_top_p_0.5seed_percentage_0.5.p',\n",
       " 'garbage_not_stopped',\n",
       " 'predicted_stopped_data_P00720|ENLYS_BPT4_top_p_0.25seed_percentage_0.5.p',\n",
       " 'predicted_stopped_data_P03706|ENLYS_LAMB_top_p_0.25seed_percentage_0.25.p',\n",
       " 'predicted_stopped_data_Q37875|ENLYS_BPP1_top_p_0.5seed_percentage_0.75.p',\n",
       " 'predicted_stopped_data_P78285|LYSD_ECOLI_top_p_0.5seed_percentage_0.25.p',\n",
       " 'predicted_stopped_data_P03706|ENLYS_LAMB_top_p_0.5seed_percentage_0.25.p']"
      ]
     },
     "execution_count": 57,
     "metadata": {},
     "output_type": "execute_result"
    }
   ],
   "source": [
    "import pandas as pd\n",
    "os.listdir(data_dir)"
   ]
  },
  {
   "cell_type": "code",
   "execution_count": 52,
   "id": "57d38877",
   "metadata": {},
   "outputs": [
    {
     "name": "stdout",
     "output_type": "stream",
     "text": [
      "            #c1          c2      c3   c4  c5  c6  c7   c8  c9  c10  ...  c17  \\\n",
      "0    Sequence_1      I2UNL6  99.394  165   1   0   1  165   1  165  ...    0   \n",
      "1   Sequence_10  A0A0E1FN67  99.408  169   1   0   1  169   1  169  ...    0   \n",
      "2  Sequence_100  A0A2R2Q2G5  77.305  141  32   0   1  141   1  141  ...    0   \n",
      "\n",
      "      c18 c19  c20                                                c21  \\\n",
      "0  100.00   1    1  MSPSLRKAVAAAIGGGAVAIASVLITGPSGDDGLEGVSYIPYEDIV...   \n",
      "1  100.00   1    1  MSNKTKYIAAVLAASAAFFVGVKNDEGFTSKPVIPVKGDRPTQGHG...   \n",
      "2   86.52   1    1  MKISDNGLHITKAFEGLRLKAYQCSANVWTIGYGHTKGVHPDMEIT...   \n",
      "\n",
      "                                                 c22  c23  c24         c25  rn  \n",
      "0  MSPSLRKAVAAAIGGGAVAIASVLITGPSGDDGLEGVSYIPYEDIV...  165  165      I2UNL6   1  \n",
      "1  MSNKTKYIAAVLAASAAFFVGVKNDEGFTSKPVIPVKGDRPTQGHG...  174  169  A0A0E1FN67   1  \n",
      "2  MIIDVNGLKLIKHFEGLRLRAYQCSANVWTIGYGHTAGVGPDDVIT...  405  141  A0A2R2Q2G5   1  \n",
      "\n",
      "[3 rows x 26 columns]\n"
     ]
    }
   ],
   "source": [
    "tab_dir = data_dir + 'Galaxy9-[unique_maxID_generatedSeqOnlyKeywords_vs_lysozymes_on_data_050].tabular'\n",
    "df = pd.read_csv(tab_dir, delimiter='\\t')\n",
    "print(df.head(3))"
   ]
  },
  {
   "cell_type": "code",
   "execution_count": 54,
   "id": "11c69ba2",
   "metadata": {},
   "outputs": [
    {
     "data": {
      "text/plain": [
       "11545"
      ]
     },
     "execution_count": 54,
     "metadata": {},
     "output_type": "execute_result"
    }
   ],
   "source": [
    "c3_values = df['c3'].tolist()\n",
    "len(c3_values)"
   ]
  },
  {
   "cell_type": "code",
   "execution_count": 60,
   "id": "99dc8b53",
   "metadata": {},
   "outputs": [],
   "source": [
    "import matplotlib.pyplot as plt\n",
    "def plot_histogram(data, bin_step, name):\n",
    "    # Create the histogram\n",
    "    bin_edges = list(range(60, 100 + bin_step, bin_step))\n",
    "    #print(bin_edges)\n",
    "    plt.figure(figsize=(11, 6))\n",
    "    n, bins, _ = plt.hist(data, bins=bin_edges, color=(125/255, 180/255, 232/255), edgecolor=(68/255, 127/255, 176/255), alpha=0.99, rwidth=0.87)    \n",
    "    print(n)\n",
    "    print(bins)\n",
    "    # Title, labels, and legend\n",
    "    plt.title('Histogram of Max-ID Ranges')\n",
    "    plt.xlabel('ID-percentage range')\n",
    "    plt.ylabel('Number of Instances')\n",
    "    plt.legend()\n",
    "    plt.savefig(name + '_Histogram.svg')\n",
    "    # Display the plot\n",
    "    plt.show()"
   ]
  },
  {
   "cell_type": "code",
   "execution_count": 61,
   "id": "c4fdaaca",
   "metadata": {},
   "outputs": [
    {
     "name": "stderr",
     "output_type": "stream",
     "text": [
      "No artists with labels found to put in legend.  Note that artists whose label start with an underscore are ignored when legend() is called with no argument.\n"
     ]
    },
    {
     "name": "stdout",
     "output_type": "stream",
     "text": [
      "[   31.   305.   119. 11090.]\n",
      "[ 60  70  80  90 100]\n"
     ]
    },
    {
     "data": {
      "image/png": "[encoded data removed]",
      "text/plain": [
       "<Figure size 792x432 with 1 Axes>"
      ]
     },
     "metadata": {
      "needs_background": "light"
     },
     "output_type": "display_data"
    }
   ],
   "source": [
    "plot_histogram(c3_values, 10, 'max_id_050_lysozymes_generazione_solo_keywords_n_11545')"
   ]
  },
  {
   "cell_type": "code",
   "execution_count": null,
   "id": "62c4d3a0",
   "metadata": {},
   "outputs": [],
   "source": []
  }
 ],
 "metadata": {
  "kernelspec": {
   "display_name": "Python 3 (ipykernel)",
   "language": "python",
   "name": "python3"
  },
  "language_info": {
   "codemirror_mode": {
    "name": "ipython",
    "version": 3
   },
   "file_extension": ".py",
   "mimetype": "text/x-python",
   "name": "python",
   "nbconvert_exporter": "python",
   "pygments_lexer": "ipython3",
   "version": "3.11.4"
  }
 },
 "nbformat": 4,
 "nbformat_minor": 5
}
