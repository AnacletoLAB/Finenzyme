{
 "cells": [
  {
   "cell_type": "code",
   "execution_count": 1,
   "id": "6920e7ba-9e25-4ef6-8f52-1b2bd77032c5",
   "metadata": {},
   "outputs": [],
   "source": [
    "import os\n",
    "import torch\n",
    "import numpy as np\n",
    "import pickle\n",
    "import time\n",
    "#os.environ[\"CUDA_DEVICE_ORDER\"]=\"PCI_BUS_ID\"\n",
    "#os.environ[\"CUDA_VISIBLE_DEVICES\"]=\"0\"\n",
    "from model_manager import CTRLmodel\n",
    "from tokenizer import Tokenizer\n",
    "from generation_manager import GeneratorManager"
   ]
  },
  {
   "cell_type": "code",
   "execution_count": 2,
   "id": "f3c616b7-a286-418c-824c-65ad81187fee",
   "metadata": {},
   "outputs": [
    {
     "name": "stdout",
     "output_type": "stream",
     "text": [
      "True\n"
     ]
    }
   ],
   "source": [
    "GPU = torch.cuda.is_available()\n",
    "# if you don't want to use GPU (but you have it aviable) modify in pytorch_transformer.py module the related variable\n",
    "print(GPU)"
   ]
  },
  {
   "cell_type": "code",
   "execution_count": 3,
   "id": "330abdfe-ccec-4c81-8ca8-5f48aa10216b",
   "metadata": {},
   "outputs": [
    {
     "name": "stdout",
     "output_type": "stream",
     "text": [
      "tokenizer loaded\n",
      "loading model from: ckpt/training_ckpt_4/model_only_state_dict_v0Last_lr0001.pth\n",
      "MODEL SIZE: \n",
      "1280\n",
      "Found PyTorch checkpoint at  ckpt/training_ckpt_4/model_only_state_dict_v0Last_lr0001.pth\n",
      "Loading instead of converting from TensorFlow\n",
      "previous checkpoint loaded in GPU\n",
      "model ready for inference\n"
     ]
    }
   ],
   "source": [
    "tokenizer = Tokenizer()\n",
    "print('tokenizer loaded')\n",
    "\n",
    "curr_model_path = 'ckpt/training_ckpt_4/model_only_state_dict_v0Last_lr0001.pth' # model checkpoint\n",
    "print('loading model from:', curr_model_path)\n",
    "\n",
    "model = CTRLmodel()\n",
    "reader = model.loadCheckpoint(model_path=curr_model_path)\n",
    "\n",
    "# Saving only state_dict:\n",
    "#torch.save(model.state_dict(), model_state_dict_path)\n",
    "#model_state_dict_path = load_model_path + 'model_only_state_dict_v0Last.pth'\n",
    "#print('Model state dict saved')\n",
    "            \n",
    "if GPU:\n",
    "    model = model.cuda()\n",
    "    print('previous checkpoint loaded in GPU')\n",
    "else: \n",
    "    print('previous checkpoint loaded in CPU')\n",
    "\n",
    "optimizer = torch.optim.Adam(model.parameters()) #lr, betas\n",
    "model.eval()\n",
    "print('model ready for inference')"
   ]
  },
  {
   "cell_type": "code",
   "execution_count": 4,
   "id": "52338a0f-9f55-41ee-a8ea-95dd3eb10719",
   "metadata": {},
   "outputs": [],
   "source": [
    "def save_sequences(predicted, predicted_stopped):\n",
    "    data_dir = \"Generation_PF00959_model_lr_00001_LAST\"\n",
    "    query = 'After_0.50_percent_penalty_0_key_only_lyso'\n",
    "    os.makedirs(data_dir, exist_ok=True)\n",
    "    \n",
    "    predicted_data_file = os.path.join(data_dir, \"predicted_data_\" + query + \".p\")\n",
    "    with open(predicted_data_file, \"wb\") as file:\n",
    "        pickle.dump(predicted, file)\n",
    "\n",
    "    predicted_stopped_data_file = os.path.join(data_dir, \"predicted_stopped_data_\" + query + \".p\")\n",
    "    with open(predicted_stopped_data_file, \"wb\") as file:\n",
    "        pickle.dump(predicted_stopped, file)\n",
    "        "
   ]
  },
  {
   "cell_type": "code",
   "execution_count": 5,
   "id": "0a359416-c643-4c75-8efc-296f411ca5b3",
   "metadata": {},
   "outputs": [],
   "source": [
    "# GENERATION parameters\n",
    "temperature = 0.9\n",
    "penalty = 0\n",
    "top_p = 0.5\n",
    "np.random.seed(1337)\n",
    "torch.manual_seed(1337)\n",
    "\n",
    "def predict_fn(inputs):\n",
    "    with torch.no_grad():\n",
    "        inputs = torch.tensor(inputs)\n",
    "        if GPU:\n",
    "            inputs = inputs.cuda()            \n",
    "        output = model(inputs)\n",
    "        stop_token = output[:, :, 1] # the stop token logits\n",
    "        output = output[:,:,-26:-1] # remove non-AA token logits\n",
    "        return output, stop_token\n",
    "        \n",
    "generator = GeneratorManager(predict_fn, penalty=penalty, top_p=top_p, temperature=temperature)"
   ]
  },
  {
   "cell_type": "code",
   "execution_count": 6,
   "id": "f3597988-128d-4cb7-906b-f25bf5066413",
   "metadata": {},
   "outputs": [
    {
     "name": "stdout",
     "output_type": "stream",
     "text": [
      "generating sequences...\n",
      "Done. Time taken: 45.20010232925415 seconds.\n",
      "hello, this is seq_number 1\n",
      "hello, this is seq_number module:  1\n",
      "GENERATION ENDED\n"
     ]
    }
   ],
   "source": [
    "predicted = []\n",
    "predicted_stopped = []\n",
    "# true_tokens_index_in_probs_all = []\n",
    "# tokens_probs_all = []\n",
    "# true_value = []\n",
    "seq_number = 0\n",
    "#for entry in random_selection:\n",
    "while seq_number <= 1500:\n",
    "    # input_seq = entry['sequence']['metadata']['sequence']\n",
    "    # FOR TESTIG the code:\n",
    "    # input_seq = input_seq[0:24]\n",
    "    input_seq = ''\n",
    "    \n",
    "    # if no tax keys:\n",
    "    tax_lineage = [0]\n",
    "\n",
    "    offset = 0\n",
    "    print('generating sequences...')\n",
    "    start_time = time.time()\n",
    "    # res, tokens_prob = generation_complete_sequence(input_seq, offset, tax_lineage)\n",
    "    res, tokens_generated_stopped = generator.generation_complete_sequence(input_seq, offset, tax_lineage)\n",
    "    end_time = time.time()\n",
    "    elapsed_time = end_time - start_time\n",
    "    print(f\"Done. Time taken: {elapsed_time} seconds.\")\n",
    "\n",
    "    # print(\"Input: \", input_seq)\n",
    "    # print(\"Res: \", res)\n",
    "    # true_value.append(input_seq)\n",
    "    # true_tokens_index_in_prob = []\n",
    "    # true_tokens_index_in_probs_all.append(true_tokens_index_in_prob)\n",
    "    # tokens_probs_all.append(tokens_prob)\n",
    "    # print('input_offset should be nothing: ', input_seq[:offset])\n",
    "    predicted.append(input_seq[:offset] + res)\n",
    "    if tokens_generated_stopped:\n",
    "        for tmp_seq in tokens_generated_stopped:\n",
    "            predicted_stopped.append(input_seq[:offset] + tmp_seq)\n",
    "\n",
    "    seq_number += 1\n",
    "    print('hello, this is seq_number', seq_number)\n",
    "    print('hello, this is seq_number module: ', seq_number%10)\n",
    "    \n",
    "    # FOR TESTIG:\n",
    "    break\n",
    "    \n",
    "    if (seq_number%10) == 0:\n",
    "        print('the model has generated: ', seq_number , ' sequences')\n",
    "        print('saving sequences')\n",
    "        save_sequences(predicted, predicted_stopped)\n",
    "        \n",
    "print('GENERATION ENDED')\n",
    "    "
   ]
  },
  {
   "cell_type": "code",
   "execution_count": null,
   "id": "9d9e8ef6-c934-4a84-91da-3f2ca80c0acc",
   "metadata": {},
   "outputs": [],
   "source": []
  }
 ],
 "metadata": {
  "kernelspec": {
   "display_name": "Python 3 (ipykernel)",
   "language": "python",
   "name": "python3"
  },
  "language_info": {
   "codemirror_mode": {
    "name": "ipython",
    "version": 3
   },
   "file_extension": ".py",
   "mimetype": "text/x-python",
   "name": "python",
   "nbconvert_exporter": "python",
   "pygments_lexer": "ipython3",
   "version": "3.11.4"
  }
 },
 "nbformat": 4,
 "nbformat_minor": 5
}
