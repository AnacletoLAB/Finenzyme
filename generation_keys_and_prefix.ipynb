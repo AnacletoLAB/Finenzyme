{
 "cells": [
  {
   "cell_type": "code",
   "execution_count": 1,
   "id": "6920e7ba-9e25-4ef6-8f52-1b2bd77032c5",
   "metadata": {},
   "outputs": [],
   "source": [
    "# this notebook should stay in root\n",
    "import os\n",
    "import torch\n",
    "import numpy as np\n",
    "import pickle\n",
    "import time\n",
    "import random\n",
    "from generation_manager import GeneratorManager"
   ]
  },
  {
   "cell_type": "code",
   "execution_count": 2,
   "id": "330abdfe-ccec-4c81-8ca8-5f48aa10216b",
   "metadata": {},
   "outputs": [],
   "source": [
    "curr_model_path = 'ckpt/ec_1_1_1_1_warmup_1000_earlystop_epoch5_015_flip_LR01_2batch.pth' # model checkpoint\n",
    "# Saving only state_dict:\n",
    "#torch.save(model.state_dict(), model_state_dict_path)\n",
    "#model_state_dict_path = load_model_path + 'model_only_state_dict_v0Last.pth'\n",
    "#print('Model state dict saved')"
   ]
  },
  {
   "cell_type": "code",
   "execution_count": 3,
   "id": "52338a0f-9f55-41ee-a8ea-95dd3eb10719",
   "metadata": {},
   "outputs": [],
   "source": [
    "def save_sequences(predicted, tokens_probs_all, name):\n",
    "    data_dir = \"data_generation/1.1.1.1_P11766/\"\n",
    "    query = name\n",
    "    os.makedirs(data_dir, exist_ok=True)\n",
    "    \n",
    "    predicted_data_file = os.path.join(data_dir, \"predicted_data_\" + query + \".p\")\n",
    "    with open(predicted_data_file, \"wb\") as file:\n",
    "        pickle.dump(predicted, file)\n",
    "\n",
    "    tokens_probs_all_file = os.path.join(data_dir, \"tokens_prob_data_\" + query + \".p\")\n",
    "    with open(tokens_probs_all_file, \"wb\") as file:\n",
    "        pickle.dump(tokens_probs_all, file)\n",
    "        "
   ]
  },
  {
   "cell_type": "code",
   "execution_count": 4,
   "id": "0a359416-c643-4c75-8efc-296f411ca5b3",
   "metadata": {},
   "outputs": [
    {
     "name": "stdout",
     "output_type": "stream",
     "text": [
      "MODEL SIZE: \n",
      "1280\n",
      "Found PyTorch checkpoint at  ckpt/ec_1_1_1_1_warmup_1000_earlystop_epoch5_015_flip_LR01_2batch.pth\n",
      "GPU aviable. Previous checkpoint loaded in GPU\n"
     ]
    }
   ],
   "source": [
    "# GENERATION parameters\n",
    "temperature = 0.9\n",
    "penalty = 1.2\n",
    "top_p = 0.75\n",
    "np.random.seed(1337)\n",
    "torch.manual_seed(1337)\n",
    "random.seed(1337)\n",
    "torch.cuda.manual_seed_all(1337)\n",
    "\n",
    "generator = GeneratorManager(curr_model_path, penalty=penalty, top_p=top_p, temperature=temperature)"
   ]
  },
  {
   "cell_type": "code",
   "execution_count": 5,
   "id": "f3597988-128d-4cb7-906b-f25bf5066413",
   "metadata": {},
   "outputs": [],
   "source": [
    "\n",
    "def generation(name, keys, input):\n",
    "    predicted = {}\n",
    "    # true_tokens_index_in_probs_all = []\n",
    "    tokens_probs_all = []\n",
    "    # true_value = []\n",
    "    seq_number = 0\n",
    "    #for entry in random_selection:\n",
    "    offset = 0\n",
    "    retry = 0\n",
    "    while seq_number <= 500:\n",
    "        if offset < 250 and retry == 1:\n",
    "            offset += 1\n",
    "            retry = 0\n",
    "        else:\n",
    "            retry = 1\n",
    "        print(offset)\n",
    "        # input_seq = entry['sequence']['metadata']['sequence']\n",
    "        # FOR TESTIG the code:\n",
    "        # input_seq = input_seq[0:24]\n",
    "        input_seq = input\n",
    "        \n",
    "        # if no tax keys:\n",
    "        tax_lineage = keys\n",
    "        \n",
    "        \n",
    "        #print('generating sequences...')\n",
    "        #start_time = time.time()\n",
    "        res, stop_prob_one_sequence, tokens_prob = generator.generation_complete_sequence_new(input_seq, tax_lineage, offset)\n",
    "        #end_time = time.time()\n",
    "        #elapsed_time = end_time - start_time\n",
    "        #print(f\"Done. Time taken: {elapsed_time} seconds.\")\n",
    "        \n",
    "        tokens_probs_all.append(tokens_prob)\n",
    "        \n",
    "        #print(\"Input: \", input_seq)\n",
    "        #print(\"Res: \", res)\n",
    "        #print('stop probs: ', stop_prob_one_sequence)\n",
    "        #print('len stop probs: ', len(stop_prob_one_sequence))\n",
    "        #print('len res: ', len(res))\n",
    "        # true_value.append(input_seq)\n",
    "        # true_tokens_index_in_prob = []\n",
    "        # true_tokens_index_in_probs_all.append(true_tokens_index_in_prob)\n",
    "        # print('input_offset should be nothing: ', input_seq[:offset])\n",
    "        \n",
    "        id = 'sequence_'+str(seq_number)\n",
    "        predicted[id] = {'seq':input_seq[:offset] + res, 'stop_probs':stop_prob_one_sequence, 'offset':offset}\n",
    "        \n",
    "        seq_number += 1\n",
    "\n",
    "        if (seq_number%20) == 0:\n",
    "            print('hello, this is seq_number', seq_number)\n",
    "            print('hello, this is seq_number module: ', seq_number%10)\n",
    "            print('the model has generated: ', seq_number , ' sequences')\n",
    "            print('saving sequences')\n",
    "            save_sequences(predicted, tokens_probs_all, name)\n",
    "    print('GENERATION ENDED')\n"
   ]
  },
  {
   "cell_type": "code",
   "execution_count": 6,
   "id": "2c83a002-3e49-429b-8f0e-c8b845dff8ed",
   "metadata": {},
   "outputs": [],
   "source": [
    "#sequence_to_evolve = 'MIEIKDKQLTGLRFIDLFAGLGGFRLALESCGAECVYSNEWDKYAQEVYEMNFGEKPEGDITQVNEKTIPDHDILCAGFPCQAFSISGKQKGFEDSRGTLFFDIARIVREKKPKVVFMENVKNFASHDNGNTLEVVKNTMNELDYSFHAKVLNALDYGIPQKRERIYMICFRNDLNIQNFQFPKPFELNTFVKDLLLPDSEVEHLVIDRKDLVMTNQEIEQTTPKTVRLGIVGKGGQGERIYSTRGIAITLSAYGGGIFAKTGGYLVNGKTRKLHPRECARVMGYPDSYKVHPSTSQAYKQFGNSVVINVLQYIAYNIGSSLNFKPY'\n",
    "##>sp|P05102|MTH1_HAEPH Type II methyltransferase M.HhaI OS=Haemophilus parahaemolyticus OX=735 GN=hhaIM PE=1 SV=1\n",
    "\n",
    "#>sp|P11766|ADHX_HUMAN Alcohol dehydrogenase class-3 OS=Homo sapiens OX=9606 GN=ADH5 PE=1 SV=4\n",
    "sequence_to_evolve = 'MANEVIKCKAAVAWEAGKPLSIEEIEVAPPKAHEVRIKIIATAVCHTDAYTLSGADPEGCFPVILGHEGAGIVESVGEGVTKLKAGDTVIPLYIPQCGECKFCLNPKTNLCQKIRVTQGKGLMPDGTSRFTCKGKTILHYMGTSTFSEYTVVADISVAKIDPLAPLDKVCLLGCGISTGYGAAVNTAKLEPGSVCAVFGLGGVGLAVIMGCKVAGASRIIGVDINKDKFARAKEFGATECINPQDFSKPIQEVLIEMTDGGVDYSFECIGNVKVMRAALEACHKGWGVSVVVGVAASGEEIATRPFQLVTGRTWKGTAFGGWKSVESVPKLVSEYMSKKIKVDEFVTHNLSFDEINKAFELMHSGKSIRTVVKI'\n",
    "\n",
    "\n"
   ]
  },
  {
   "cell_type": "code",
   "execution_count": 7,
   "id": "72e5cf12-1787-4aaa-a7fb-d96b6f9ac614",
   "metadata": {},
   "outputs": [
    {
     "data": {
      "text/plain": [
       "374"
      ]
     },
     "execution_count": 7,
     "metadata": {},
     "output_type": "execute_result"
    }
   ],
   "source": [
    "len(sequence_to_evolve)"
   ]
  },
  {
   "cell_type": "code",
   "execution_count": null,
   "id": "834ecc3a-c830-4e28-9976-8ee4dc492589",
   "metadata": {
    "scrolled": true
   },
   "outputs": [
    {
     "name": "stdout",
     "output_type": "stream",
     "text": [
      "0\n"
     ]
    }
   ],
   "source": [
    "generation('p_075_direct', [0], sequence_to_evolve)"
   ]
  },
  {
   "cell_type": "code",
   "execution_count": null,
   "id": "60a40217-e5ef-49ca-af74-3b3abf6e0205",
   "metadata": {},
   "outputs": [],
   "source": [
    "torch.cuda.empty_cache()\n"
   ]
  },
  {
   "cell_type": "code",
   "execution_count": null,
   "id": "de17f818-dc4b-41b1-bef9-be07227cf3aa",
   "metadata": {},
   "outputs": [],
   "source": [
    "sequence_to_evolve = sequence_to_evolve[::-1]"
   ]
  },
  {
   "cell_type": "code",
   "execution_count": null,
   "id": "52192eac-b6d4-4614-af37-ee4a64249c7f",
   "metadata": {},
   "outputs": [],
   "source": [
    "print(sequence_to_evolve)"
   ]
  },
  {
   "cell_type": "code",
   "execution_count": null,
   "id": "5f5a2e64-5b4f-40a4-86b9-e80e19dd0ebf",
   "metadata": {},
   "outputs": [],
   "source": [
    "generation('p_075_inverse', [0], sequence_to_evolve)"
   ]
  },
  {
   "cell_type": "code",
   "execution_count": null,
   "id": "c2e5c62b-ace5-4bfc-9999-0ca2aff2b940",
   "metadata": {},
   "outputs": [],
   "source": [
    "torch.cuda.empty_cache()"
   ]
  },
  {
   "cell_type": "code",
   "execution_count": null,
   "id": "218f4cf2-4e7a-4ced-82e7-43280965d458",
   "metadata": {},
   "outputs": [],
   "source": []
  }
 ],
 "metadata": {
  "kernelspec": {
   "display_name": "Python 3 (ipykernel)",
   "language": "python",
   "name": "python3"
  },
  "language_info": {
   "codemirror_mode": {
    "name": "ipython",
    "version": 3
   },
   "file_extension": ".py",
   "mimetype": "text/x-python",
   "name": "python",
   "nbconvert_exporter": "python",
   "pygments_lexer": "ipython3",
   "version": "3.11.4"
  }
 },
 "nbformat": 4,
 "nbformat_minor": 5
}
