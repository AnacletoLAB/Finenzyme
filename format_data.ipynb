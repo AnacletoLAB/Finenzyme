{
 "cells": [
  {
   "cell_type": "code",
   "execution_count": 1,
   "metadata": {},
   "outputs": [],
   "source": [
    "import pandas as pd\n",
    "import random\n",
    "import pickle\n",
    "from data_utils import model_dataframe\n",
    "\n",
    "scop_seqs = pd.read_csv('scop_data/scop_seqs_with_tags.gz')\n",
    "#drop duplicates on sequence\n",
    "scop_seqs = scop_seqs.drop_duplicates(subset='Sequence')"
   ]
  },
  {
   "cell_type": "code",
   "execution_count": 2,
   "metadata": {},
   "outputs": [
    {
     "data": {
      "text/html": [
       "<div>\n",
       "<style scoped>\n",
       "    .dataframe tbody tr th:only-of-type {\n",
       "        vertical-align: middle;\n",
       "    }\n",
       "\n",
       "    .dataframe tbody tr th {\n",
       "        vertical-align: top;\n",
       "    }\n",
       "\n",
       "    .dataframe thead th {\n",
       "        text-align: right;\n",
       "    }\n",
       "</style>\n",
       "<table border=\"1\" class=\"dataframe\">\n",
       "  <thead>\n",
       "    <tr style=\"text-align: right;\">\n",
       "      <th></th>\n",
       "      <th>kw</th>\n",
       "      <th>seq</th>\n",
       "      <th>seq_length</th>\n",
       "      <th>Entry</th>\n",
       "    </tr>\n",
       "  </thead>\n",
       "  <tbody>\n",
       "    <tr>\n",
       "      <th>0</th>\n",
       "      <td>[3002524, 4004627, 1000003, 2001470, 1]</td>\n",
       "      <td>DMKRQQRFFRIPFIRPADQYKDPQNKKKGWWYAHFDGPWIARQMEL...</td>\n",
       "      <td>122</td>\n",
       "      <td>0</td>\n",
       "    </tr>\n",
       "    <tr>\n",
       "      <th>1</th>\n",
       "      <td>[3002524, 4004627, 1000003, 2001470, 1]</td>\n",
       "      <td>RQREIEMNRQQRFFRIPFIRPADQYKDPQSKKKGWWYAHFDGPWIA...</td>\n",
       "      <td>125</td>\n",
       "      <td>1</td>\n",
       "    </tr>\n",
       "    <tr>\n",
       "      <th>2</th>\n",
       "      <td>[3001156, 4003986, 1000002, 2000016, 1]</td>\n",
       "      <td>MKIKVALLDKDKEYLDRLTGVFNTKYADKLEVYSFTDEKNAIESVK...</td>\n",
       "      <td>116</td>\n",
       "      <td>2</td>\n",
       "    </tr>\n",
       "    <tr>\n",
       "      <th>3</th>\n",
       "      <td>[3001156, 4003632, 1000002, 2000016, 1]</td>\n",
       "      <td>QTPHILIVEDELVTRNTLKSIFEAEGYDVFEATDGAEMHQILSEYD...</td>\n",
       "      <td>121</td>\n",
       "      <td>3</td>\n",
       "    </tr>\n",
       "    <tr>\n",
       "      <th>4</th>\n",
       "      <td>[3001156, 4002481, 1000002, 2000016, 1]</td>\n",
       "      <td>SFERVFGKRVIILGGGALVSQVAIGAISEADRHNLRGERISVDTMP...</td>\n",
       "      <td>137</td>\n",
       "      <td>4</td>\n",
       "    </tr>\n",
       "  </tbody>\n",
       "</table>\n",
       "</div>"
      ],
      "text/plain": [
       "                                        kw  \\\n",
       "0  [3002524, 4004627, 1000003, 2001470, 1]   \n",
       "1  [3002524, 4004627, 1000003, 2001470, 1]   \n",
       "2  [3001156, 4003986, 1000002, 2000016, 1]   \n",
       "3  [3001156, 4003632, 1000002, 2000016, 1]   \n",
       "4  [3001156, 4002481, 1000002, 2000016, 1]   \n",
       "\n",
       "                                                 seq  seq_length  Entry  \n",
       "0  DMKRQQRFFRIPFIRPADQYKDPQNKKKGWWYAHFDGPWIARQMEL...         122      0  \n",
       "1  RQREIEMNRQQRFFRIPFIRPADQYKDPQSKKKGWWYAHFDGPWIA...         125      1  \n",
       "2  MKIKVALLDKDKEYLDRLTGVFNTKYADKLEVYSFTDEKNAIESVK...         116      2  \n",
       "3  QTPHILIVEDELVTRNTLKSIFEAEGYDVFEATDGAEMHQILSEYD...         121      3  \n",
       "4  SFERVFGKRVIILGGGALVSQVAIGAISEADRHNLRGERISVDTMP...         137      4  "
      ]
     },
     "execution_count": 2,
     "metadata": {},
     "output_type": "execute_result"
    }
   ],
   "source": [
    "KEYWORDS = ['SF', 'FA', 'CL' , 'CF' , 'TP']\n",
    "\n",
    "temp_dict = {}\n",
    "temp_dict['kw'] = scop_seqs[KEYWORDS].values.tolist()\n",
    "temp_dict['seq'] = scop_seqs['Sequence'].values.tolist()\n",
    "temp_dict['seq_length'] = [len(seq) for seq in scop_seqs['Sequence']]\n",
    "temp_dict['Entry'] = range(0,len(scop_seqs))\n",
    "\n",
    "target_df = pd.DataFrame(temp_dict)\n",
    "target_df.head()"
   ]
  },
  {
   "cell_type": "code",
   "execution_count": 3,
   "metadata": {},
   "outputs": [],
   "source": [
    "target_dict = model_dataframe(target_df)\n",
    "with open('scop_data/training_scop.p', 'wb') as f:\n",
    "    pickle.dump(target_dict, f)"
   ]
  }
 ],
 "metadata": {
  "kernelspec": {
   "display_name": "Python 3",
   "language": "python",
   "name": "python3"
  },
  "language_info": {
   "codemirror_mode": {
    "name": "ipython",
    "version": 3
   },
   "file_extension": ".py",
   "mimetype": "text/x-python",
   "name": "python",
   "nbconvert_exporter": "python",
   "pygments_lexer": "ipython3",
   "version": "3.11.0"
  }
 },
 "nbformat": 4,
 "nbformat_minor": 2
}
