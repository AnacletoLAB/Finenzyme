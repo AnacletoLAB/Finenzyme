{
 "cells": [
  {
   "cell_type": "code",
   "execution_count": 1,
   "metadata": {},
   "outputs": [],
   "source": [
    "import pandas as pd\n",
    "import numpy as np"
   ]
  },
  {
   "cell_type": "code",
   "execution_count": 2,
   "metadata": {},
   "outputs": [
    {
     "data": {
      "text/html": [
       "<div>\n",
       "<style scoped>\n",
       "    .dataframe tbody tr th:only-of-type {\n",
       "        vertical-align: middle;\n",
       "    }\n",
       "\n",
       "    .dataframe tbody tr th {\n",
       "        vertical-align: top;\n",
       "    }\n",
       "\n",
       "    .dataframe thead th {\n",
       "        text-align: right;\n",
       "    }\n",
       "</style>\n",
       "<table border=\"1\" class=\"dataframe\">\n",
       "  <thead>\n",
       "    <tr style=\"text-align: right;\">\n",
       "      <th></th>\n",
       "      <th>FA-DOMID</th>\n",
       "      <th>TP</th>\n",
       "      <th>CL</th>\n",
       "      <th>CF</th>\n",
       "      <th>FA</th>\n",
       "      <th>SF</th>\n",
       "      <th>Sequence</th>\n",
       "      <th>seq_length</th>\n",
       "    </tr>\n",
       "  </thead>\n",
       "  <tbody>\n",
       "    <tr>\n",
       "      <th>0</th>\n",
       "      <td>8045703</td>\n",
       "      <td>1</td>\n",
       "      <td>1000003</td>\n",
       "      <td>2001470</td>\n",
       "      <td>4004627</td>\n",
       "      <td>3002524</td>\n",
       "      <td>DMKRQQRFFRIPFIRPADQYKDPQNKKKGWWYAHFDGPWIARQMEL...</td>\n",
       "      <td>122</td>\n",
       "    </tr>\n",
       "    <tr>\n",
       "      <th>1</th>\n",
       "      <td>8094330</td>\n",
       "      <td>1</td>\n",
       "      <td>1000003</td>\n",
       "      <td>2001470</td>\n",
       "      <td>4004627</td>\n",
       "      <td>3002524</td>\n",
       "      <td>RQREIEMNRQQRFFRIPFIRPADQYKDPQSKKKGWWYAHFDGPWIA...</td>\n",
       "      <td>125</td>\n",
       "    </tr>\n",
       "    <tr>\n",
       "      <th>2</th>\n",
       "      <td>8017835</td>\n",
       "      <td>1</td>\n",
       "      <td>1000002</td>\n",
       "      <td>2000016</td>\n",
       "      <td>4003986</td>\n",
       "      <td>3001156</td>\n",
       "      <td>MKIKVALLDKDKEYLDRLTGVFNTKYADKLEVYSFTDEKNAIESVK...</td>\n",
       "      <td>116</td>\n",
       "    </tr>\n",
       "    <tr>\n",
       "      <th>3</th>\n",
       "      <td>8021315</td>\n",
       "      <td>1</td>\n",
       "      <td>1000002</td>\n",
       "      <td>2000016</td>\n",
       "      <td>4003632</td>\n",
       "      <td>3001156</td>\n",
       "      <td>QTPHILIVEDELVTRNTLKSIFEAEGYDVFEATDGAEMHQILSEYD...</td>\n",
       "      <td>121</td>\n",
       "    </tr>\n",
       "    <tr>\n",
       "      <th>4</th>\n",
       "      <td>8021787</td>\n",
       "      <td>1</td>\n",
       "      <td>1000002</td>\n",
       "      <td>2000016</td>\n",
       "      <td>4002481</td>\n",
       "      <td>3001156</td>\n",
       "      <td>SFERVFGKRVIILGGGALVSQVAIGAISEADRHNLRGERISVDTMP...</td>\n",
       "      <td>137</td>\n",
       "    </tr>\n",
       "  </tbody>\n",
       "</table>\n",
       "</div>"
      ],
      "text/plain": [
       "   FA-DOMID  TP       CL       CF       FA       SF  \\\n",
       "0   8045703   1  1000003  2001470  4004627  3002524   \n",
       "1   8094330   1  1000003  2001470  4004627  3002524   \n",
       "2   8017835   1  1000002  2000016  4003986  3001156   \n",
       "3   8021315   1  1000002  2000016  4003632  3001156   \n",
       "4   8021787   1  1000002  2000016  4002481  3001156   \n",
       "\n",
       "                                            Sequence  seq_length  \n",
       "0  DMKRQQRFFRIPFIRPADQYKDPQNKKKGWWYAHFDGPWIARQMEL...         122  \n",
       "1  RQREIEMNRQQRFFRIPFIRPADQYKDPQSKKKGWWYAHFDGPWIA...         125  \n",
       "2  MKIKVALLDKDKEYLDRLTGVFNTKYADKLEVYSFTDEKNAIESVK...         116  \n",
       "3  QTPHILIVEDELVTRNTLKSIFEAEGYDVFEATDGAEMHQILSEYD...         121  \n",
       "4  SFERVFGKRVIILGGGALVSQVAIGAISEADRHNLRGERISVDTMP...         137  "
      ]
     },
     "execution_count": 2,
     "metadata": {},
     "output_type": "execute_result"
    }
   ],
   "source": [
    "scop_data = pd.read_csv('scop_data/scop_seqs_with_tags.gz')\n",
    "scop_data.head(5)"
   ]
  },
  {
   "cell_type": "code",
   "execution_count": 3,
   "metadata": {},
   "outputs": [],
   "source": [
    "#kw -> TP | CL | CF | FA | SF\n",
    "#get all unique values for each keyword and combine them into a list\n",
    "kw_TP = scop_data['TP'].unique()\n",
    "kw_CL = scop_data['CL'].unique()\n",
    "kw_CF = scop_data['CF'].unique()\n",
    "kw_FA = scop_data['FA'].unique()\n",
    "kw_SF = scop_data['SF'].unique()\n",
    "\n",
    "# kw_TP = [x for x in kw_TP if str(x) != 'nan']\n",
    "# kw_CL = [x for x in kw_CL if str(x) != 'nan']\n",
    "# kw_CF = [x for x in kw_CF if str(x) != 'nan']\n",
    "# kw_FA = [x for x in kw_FA if str(x) != 'nan']\n",
    "# kw_SF = [x for x in kw_SF if str(x) != 'nan']\n",
    "\n",
    "#combine all unique values into a single list\n",
    "all_kws = np.concatenate((kw_TP, kw_CL, kw_CF, kw_FA, kw_SF), axis=None)\n",
    "#to list\n",
    "all_kws = all_kws.tolist()"
   ]
  },
  {
   "cell_type": "code",
   "execution_count": 4,
   "metadata": {},
   "outputs": [],
   "source": [
    "from data_utils import create_mapping_dict , write_mapping_dict , write_aa_dict , create_aa_dict, get_last_index, write_vocab"
   ]
  },
  {
   "cell_type": "code",
   "execution_count": 5,
   "metadata": {},
   "outputs": [],
   "source": [
    "mapping_dict = create_mapping_dict(all_kws)\n",
    "write_mapping_dict(mapping_dict, 'mapping_files/kw_mapping.p')"
   ]
  },
  {
   "cell_type": "code",
   "execution_count": 6,
   "metadata": {},
   "outputs": [],
   "source": [
    "idx = get_last_index(mapping_dict)\n",
    "aa_dict = create_aa_dict(idx)\n",
    "write_aa_dict(aa_dict, 'mapping_files/aa_mapping.p')"
   ]
  },
  {
   "cell_type": "code",
   "execution_count": 8,
   "metadata": {},
   "outputs": [],
   "source": [
    "dicts = [mapping_dict, aa_dict]\n",
    "write_vocab(dicts)"
   ]
  }
 ],
 "metadata": {
  "kernelspec": {
   "display_name": "Python 3",
   "language": "python",
   "name": "python3"
  },
  "language_info": {
   "codemirror_mode": {
    "name": "ipython",
    "version": 3
   },
   "file_extension": ".py",
   "mimetype": "text/x-python",
   "name": "python",
   "nbconvert_exporter": "python",
   "pygments_lexer": "ipython3",
   "version": "3.11.0"
  }
 },
 "nbformat": 4,
 "nbformat_minor": 2
}
