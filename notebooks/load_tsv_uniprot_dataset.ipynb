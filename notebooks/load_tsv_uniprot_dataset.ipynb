{
 "cells": [
  {
   "cell_type": "code",
   "execution_count": 1,
   "metadata": {},
   "outputs": [],
   "source": [
    "'''\n",
    "This notebook should stay in root directory\n",
    "'''\n",
    "# The directory of the data is \"data_specific_enzymes/databases/tsvs\"\n",
    "# The data are in tsv format\n",
    "\n",
    "import os\n",
    "import pandas as pd\n",
    "import numpy as np\n",
    "import pickle\n",
    "import matplotlib.pyplot as plt\n",
    "import random\n",
    "\n",
    "#seed for reproducibility\n",
    "SEED = 42\n",
    "np.random.seed(SEED)\n",
    "random.seed(SEED)"
   ]
  },
  {
   "cell_type": "code",
   "execution_count": 2,
   "metadata": {},
   "outputs": [],
   "source": [
    "def load_data(directory, name):\n",
    "    \"\"\"\n",
    "    Load the data from the directory\n",
    "    \"\"\"\n",
    "    dataframe = pd.read_csv(directory, sep = \"\\t\")\n",
    "    \n",
    "    #dataframe = dataframe.dropna(subset = [\"EC number\"]) #drop rows with missing EC number\n",
    "    print(\"check sequences: \", len(dataframe))\n",
    "    dataframe = dataframe.dropna(subset = [\"Sequence\"]) \n",
    "    dataframe = dataframe.dropna(subset = [\"Protein existence\"])\n",
    "    print(\"check sequences after: \", len(dataframe))\n",
    "    \n",
    "    print(\"The following data regard the family with EC number: \", name[-1])\n",
    "\n",
    "    dictionary_existence = {\"Evidence at protein level\": 5, \"Evidence at transcript level\": 4, \"Inferred from homology\": 3, \"Predicted\": 2, \"Uncertain\": 1}\n",
    "    dataframe[\"Protein existence\"] = dataframe[\"Protein existence\"].str.strip().map(dictionary_existence)\n",
    "    dataframe[\"Sequence\"] = dataframe[\"Sequence\"].apply(str)\n",
    "\n",
    "    #keep only such columns\n",
    "    dataframe = dataframe[[\"Entry\",\"EC number\", \"Protein existence\", \"Sequence\", \"Length\", 'Gene Ontology (molecular function)']]\n",
    "\n",
    "    print(\"The number of sequences before removing duplicates is: \", len(dataframe))\n",
    "    before = len(dataframe)\n",
    "    # Sort the DataFrame by 'Sequence' for grouping and 'Protein existence' descending to have the highest on top\n",
    "    dataframe = dataframe.sort_values(by=['Sequence', 'Protein existence'], ascending=[True, False])\n",
    "    # Drop duplicates based on the 'Sequence' column, keeping the first entry (the one with the highest 'Existence level') for each sequence\n",
    "    dataframe = dataframe.drop_duplicates(subset=['Sequence'], keep='first')\n",
    "    print(\"The number of sequences after removing duplicates is: \", len(dataframe), 'duplicates: ', before - len(dataframe))\n",
    "\n",
    "    # per non modificare sampling stratificato con EC numbers: voglio definire un EC number per ogni Gene Ontology (molecular function),\n",
    "    # poi le filtrerà dopo se sono poche e farà sampling relativamente e queste keywords!\n",
    "    \n",
    "    # TODO CODE\n",
    "    \n",
    "    '''\n",
    "    dataframe[\"EC number\"] = dataframe[\"EC number\"].apply(lambda x: [0] + x) #put 0 at the beginning of the list\n",
    "    dataframe[\"EC number\"] = dataframe[\"EC number\"].apply(lambda x: list(set(x))) #for each y take only the unique values\n",
    "    '''\n",
    "    dataframe[\"EC number\"] = dataframe[\"EC number\"].apply(lambda x: [0])\n",
    "    \n",
    "    #count EC numbers\n",
    "    ec_numbers = []\n",
    "    for i in dataframe[\"EC number\"]:\n",
    "        ec_numbers += i\n",
    "    values, counts = np.unique(np.array(ec_numbers), return_counts = True)\n",
    "    counts_dict = dict(zip(values, counts))\n",
    "    dataframe[\"EC number\"] = dataframe[\"EC number\"].apply(lambda x: [y for y in x if counts_dict[y] > 100]) #take only EC numbers with more than 100 proteins\n",
    "    sorted_list = sorted([int(x) for x in counts_dict.keys() if counts_dict[x] > 100])\n",
    "    mapping_dict = dict(zip(sorted_list, range(len(sorted_list))))\n",
    "    dataframe[\"EC number\"] = dataframe[\"EC number\"].apply(lambda x: [mapping_dict[y] for y in x]) #map the EC numbers to a range of their length\n",
    "    print(\"The number of sequences per subfamily is: \", counts_dict)\n",
    "    print(\"The dictionary to map subfamily to keyword:\", mapping_dict)\n",
    "    mean_length = dataframe[\"Length\"].mean()\n",
    "    std_length = dataframe[\"Length\"].std()\n",
    "    print(\"The mean length of the sequences is: \", round(mean_length, 3))\n",
    "    print(\"The standard deviation of the length of the sequences is: \", round(std_length, 3))\n",
    "    return dataframe, mapping_dict\n",
    "\n"
   ]
  },
  {
   "cell_type": "code",
   "execution_count": 3,
   "metadata": {},
   "outputs": [],
   "source": [
    "def plot_histogram(path, data, bin_step, name):\n",
    "    \"\"\"\n",
    "    Plot and save the histogram of the lengths of the sequences\n",
    "    \"\"\"\n",
    "    # Create the histogram\n",
    "    max_val = max(data)\n",
    "    bin_edges = list(range(0, 500, bin_step))\n",
    "    #print(bin_edges)\n",
    "    plt.figure(figsize=(11, 6))\n",
    "    n, bins, _ = plt.hist(data, bins=bin_edges, color=(180/255, 211/255, 178/255), edgecolor='black', alpha=0.99, rwidth=0.87)    \n",
    "    print(\"n:\", n)\n",
    "    print(\"bins:\", bins)\n",
    "    # Title, labels, and legend\n",
    "    plt.title('Histogram of Sequence Length Ranges for EC ' + name[-1])\n",
    "    plt.xlabel('Sequence Length')\n",
    "    plt.ylabel('Number of Instances')\n",
    "    #plt.legend()\n",
    "    _ = plt.show()\n",
    "    plt.savefig(path+\"histogram_\"+name+'.svg')"
   ]
  },
  {
   "cell_type": "code",
   "execution_count": 4,
   "metadata": {},
   "outputs": [],
   "source": [
    "\n",
    "def split_train_test_validation(dataframe, train_fraction, validation_fraction, mapping_dict, seed=None):\n",
    "    # Split the dataframe into training, validation, and test sets\n",
    "    dataframe[\"subfamily\"] = dataframe[\"EC number\"].apply(lambda x: x[-1])\n",
    "    train_dataframes = []\n",
    "    validation_dataframes = []\n",
    "    test_dataframes = []\n",
    "    for i in mapping_dict.values():\n",
    "        sub_dataframe = dataframe[dataframe[\"subfamily\"] == i]\n",
    "        train_dataframe = sub_dataframe.sample(frac=train_fraction, random_state=seed)\n",
    "        remaining_dataframe = sub_dataframe.drop(train_dataframe.index)\n",
    "        validation_fraction_adjusted = validation_fraction / (1 - train_fraction)  # Adjusting fraction based on remaining data\n",
    "        validation_dataframe = remaining_dataframe.sample(frac=validation_fraction_adjusted, random_state=seed)\n",
    "        test_dataframe = remaining_dataframe.drop(validation_dataframe.index)\n",
    "        train_dataframes.append(train_dataframe)\n",
    "        validation_dataframes.append(validation_dataframe)\n",
    "        test_dataframes.append(test_dataframe)\n",
    "    \n",
    "    train = pd.concat(train_dataframes).drop(columns=[\"subfamily\"])\n",
    "    validation = pd.concat(validation_dataframes).drop(columns=[\"subfamily\"])\n",
    "    test = pd.concat(test_dataframes).drop(columns=[\"subfamily\"])\n",
    "    return train, validation, test\n",
    "\n",
    "\n",
    "def convert_to_dict(dataframe):\n",
    "    #convert the dataframes to dictionaries\n",
    "    dictionary = {}\n",
    "    for _, row in dataframe.iterrows():\n",
    "        sub_dict = {}\n",
    "        sub_dict[\"kw\"] = row[\"EC number\"]\n",
    "        sub_dict[\"ex\"] = row[\"Protein existence\"]\n",
    "        sub_dict[\"seq\"] = row[\"Sequence\"]\n",
    "        sub_dict[\"len\"] = row[\"Length\"]\n",
    "        sub_dict['GO_molecular_function'] = row['Gene Ontology (molecular function)']\n",
    "        dictionary[row[\"Entry\"]] = sub_dict\n",
    "    # convert the dictionary items to a list, shuffle the list, and convert it back to a dictionary\n",
    "    items = list(dictionary.items())\n",
    "    random.shuffle(items)\n",
    "    return dict(items)\n",
    "\n",
    "def save_to_pickle(dictionary, path):\n",
    "    #save the dictionary to a pickle file\n",
    "    with open(path, \"wb\") as file:\n",
    "        pickle.dump(dictionary, file)"
   ]
  },
  {
   "cell_type": "code",
   "execution_count": 5,
   "metadata": {},
   "outputs": [
    {
     "data": {
      "text/plain": [
       "['uniprotkb_ec_5_4_99_5_AND_length_10_TO_2024_03_26.tsv',\n",
       " 'uniprotkb_ec_4_1_1_39_AND_length_10_TO_2024_04_02.tsv',\n",
       " 'uniprotkb_ec_1_1_1_1_AND_length_0_TO_50_2024_04_02-2.tsv',\n",
       " 'uniprotkb_ec_6_3_4_15_AND_length_10_TO_2024_04_02.tsv',\n",
       " 'uniprotkb_ec_3_2_1_4_AND_length_10_TO_5_2024_04_29.tsv',\n",
       " '.ipynb_checkpoints',\n",
       " 'uniprotkb_ec_7_2_1_1_AND_length_10_TO_5_2024_04_02.tsv',\n",
       " 'uniprotkb_ec_2_1_1_37_AND_length_10_TO_2024_03_28.tsv']"
      ]
     },
     "execution_count": 5,
     "metadata": {},
     "output_type": "execute_result"
    }
   ],
   "source": [
    "os.listdir('data_specific_enzymes/databases/tsvs/')"
   ]
  },
  {
   "cell_type": "code",
   "execution_count": 9,
   "metadata": {},
   "outputs": [
    {
     "name": "stdout",
     "output_type": "stream",
     "text": [
      "check sequences:  30548\n",
      "check sequences after:  30548\n",
      "The following data regard the family with EC number:  4\n",
      "The number of sequences before removing duplicates is:  30548\n",
      "The number of sequences after removing duplicates is:  28768 duplicates:  1780\n",
      "The number of sequences per subfamily is:  {0: 28768}\n",
      "The dictionary to map subfamily to keyword: {0: 0}\n",
      "The mean length of the sequences is:  334.245\n",
      "The standard deviation of the length of the sequences is:  106.053\n",
      "n: [  44.  576. 1219. 1146. 4223. 2661. 4986. 5513. 3652.]\n",
      "bins: [  0.  50. 100. 150. 200. 250. 300. 350. 400. 450.]\n"
     ]
    },
    {
     "data": {
      "image/png": "[encoded data removed]",
      "text/plain": [
       "<Figure size 1100x600 with 1 Axes>"
      ]
     },
     "metadata": {},
     "output_type": "display_data"
    },
    {
     "data": {
      "text/plain": [
       "<Figure size 640x480 with 0 Axes>"
      ]
     },
     "metadata": {},
     "output_type": "display_data"
    }
   ],
   "source": [
    "# data_specific_enzymes/databases/tsvs/name.tsv\n",
    "directory = \"data_specific_enzymes/databases/tsvs/uniprotkb_ec_3_2_1_4_AND_length_10_TO_5_2024_04_29.tsv\"\n",
    "name = \"ec_3_2_1_4\"\n",
    "dataframe, mapping_dict = load_data(directory, name=name)\n",
    "\n",
    "path_hist = \"data_specific_enzymes/databases/tmp/\"\n",
    "_ = plot_histogram(path_hist, dataframe[\"Length\"].to_numpy(), 50, name)\n",
    "\n",
    "#split the dataframes into training, validation, and test sets for each EC number 90% training, 5% test, 5% validation\n",
    "train_fraction = 0.9\n",
    "validation_fraction = 0.05\n",
    "training, validation, test = split_train_test_validation(dataframe, train_fraction, validation_fraction, mapping_dict, SEED)\n",
    "\n",
    "#convert the dataframes to dictionaries\n",
    "training = convert_to_dict(training)\n",
    "test = convert_to_dict(test)\n",
    "validation = convert_to_dict(validation)\n",
    "\n",
    "#save the dictionaries to pickle files\n",
    "save_to_pickle(training, \"data_specific_enzymes/databases/pickles/training_\"+name+ \".p\")\n",
    "save_to_pickle(test, \"data_specific_enzymes/databases/pickles/test_\"+name+ \".p\")\n",
    "save_to_pickle(validation, \"data_specific_enzymes/databases/pickles/validation_\"+name+ \".p\")\n"
   ]
  },
  {
   "cell_type": "code",
   "execution_count": 10,
   "metadata": {},
   "outputs": [
    {
     "name": "stdout",
     "output_type": "stream",
     "text": [
      "A0A2X3KIJ3 {'kw': [0], 'ex': 3, 'seq': 'MNLEQKLQKLSDAFGVAGFEDEAREVLHGMVSPYVESCETDTLGNLTCSRGSGDAVMLDAHMDEVGFMVKWIEKDGFLRLTALGGWDDRILMAHRLTILTRSGEKVHGVIGSTPPHIQSDGDRDKVVPLDDLFVDIGARSRDEAEAFGVHIGDPATIHYPFLRLQEGYVTGKAFDDRAGCLVAAEALRILAKEKLPYKLVVNFAVHEEGGLRGAKAAAYRVAPKLALALEGTIGADMPGVPEAKQPVRLGHGPAITLADRSITVKPKLARFLEKIADENGISYQYKLPAYGSTDAGAIHLERGGILTGVVSVPCRYIHSPVSTLYLADLEATLDLVVAFLRRAGELL', 'len': 347, 'GO_molecular_function': 'aminopeptidase activity [GO:0004177]; cellulase activity [GO:0008810]; metal ion binding [GO:0046872]'}\n",
      "A0A495X1I6 {'kw': [0], 'ex': 3, 'seq': 'MKRSTVVLAACLLAAGSAAALLPHAMAAAQGCRVDYTVSSQWQGGFQAGVKVTNLGDPVSGWTLAFSFPNTGQKLTQGWNATWSQSGSTVTAASLEWNRSLGTGASVDLGFTGSWSGANPVPTAFTLNGVACTGTPVTTTTTTTTTTGNPPVGRTPVEINGQLRVCGVNLCNQYNRPIQLRGMSTHGIQWFDKCYNSASLDALANDWKADLLRIAMYVQEQGYETNPSGFTSRVNSLVDMAEARGLYAIIDFHTLTPGDPNYNLDRAKTFFSQVASRNAAKKNVIYEIANEPNGVSWAGIKSYAEQVIPVIRAADPDAVVLVGTRGWSSLGVSDGSNESEIVNNPVNATNIMYTFHFYAASHKDNYRSTVSRAATRLPLFVSEFGTVSATGGGAYDQSSSTAWLDLLDQLKISYANWTYSDADESSAALRPGTCNGSTYTGSGVLTESGAFVKNRISTADNFPTS', 'len': 465, 'GO_molecular_function': 'cellulase activity [GO:0008810]; polysaccharide binding [GO:0030247]'}\n",
      "A0A409YZ35 {'kw': [0], 'ex': 3, 'seq': 'MKLSSILAVAALAHGASAHYIWTTLIAGGTQSTAAVRQPANNSPVEQVSSGNMRCNGASPNSASQTLSISAGQTLGFRLDNTLYHQGPAAIYIAKAPSSVQGWDGSGSWVKIAEWGATFNPFKFVTENQSVLTTTLPNVPAGEYLVRIEQIGLHVAGAPQFYISCGQIRVTSGGGSLPGGVSIPGYVSASDPGLTVNIYYPTPTSYRVPGPNVWRG', 'len': 216, 'GO_molecular_function': 'cellulase activity [GO:0008810]; cellulose binding [GO:0030248]'}\n",
      "Q83VL5 {'kw': [0], 'ex': 3, 'seq': 'MHQRTTPPTGTAPTTGRRRMARKALLAASALGVVTALMAPVRAGAAPAPAAPTAATPLAANGQLSVCGRQLCNASGQAVALNGMSTHGTQWYAQCVTDGSLNALAQDWRADVLRVSTYVQEGGYETDPAGFTARAQKFIDAAHARGMYAVIDWHMLSPGDPNANLARAKTFFTAMAKKYKNHPGVLYEIANEPSGVSWSAIKSYAEQIIPVIRAQDPDAVVLVGTRAWSSFGVSEGSNESEVVNNPVRASNIMYTFHFYAASHREEYLSALDRASDKLPVFVTEFGTQNYAGEGANDFTMSQRYLDLMKRKKISWTNWNYSDDHRSGAVFKTGTCNGTNWTGTGVLKEAGIWIRDRIRQ', 'len': 359, 'GO_molecular_function': 'cellulase activity [GO:0008810]; chitosanase activity [GO:0016977]'}\n",
      "A0A2I1C1L1 {'kw': [0], 'ex': 3, 'seq': 'MRHVQSTQLLAAFLFAAQAAAHGHVSNIVINGVSYRGWNIDSDPYNSNPPVVVAWQTPNTANGFISPDAYGTNDIICHLNATNARGHAVVAAGDKISIQWTTWPDSHHGPVIDYLARCGSSCETVDKTTLEFFKIDGVGLVDESNPPGVWGDDQMIADNNSWLVEIPPTIAPGYYVLRHELIALHGAGSQNGAQNYPQCFNLQITGSGTAQPSGVKGTKLYSPTDPGILINIYTSLSTYIVPGPTLIPGAVSIVQSSSTITASGTPVTGSASAPTTSAPTTTKATTTLSTTTTATTTKATTTAGGSTSVQSAYGQCGGSGWSGPTACATGATCSAYNSYYSQCIPTAS', 'len': 348, 'GO_molecular_function': 'cellulase activity [GO:0008810]; cellulose binding [GO:0030248]'}\n",
      "A0A074RTA5 {'kw': [0], 'ex': 3, 'seq': 'MTRLLSVLAFQALASWSCYAAGEPDPPNHANSTVAYTTPSSPKYNYAEVIHKSLLFYHSQRSGRLGPNRRLAWRGDSCLNCIGNYGEDLSGGYYEAANTMKWGLPLAWTITQLAWNVYAFPDGLKAVNEFDEALEGVKWGTDYLVNCIANKDQFVGQLGVSAVGKTDVDFGYFGPPEEYDMWVPLGLKHSDGIAYINSSNPSSEILGEAAAAMAATSLIFAEKNKTYSDELLQHSIDLYTRATTYQGSYQKSTHPNLKTVKEWYPSSIFTDELAWAAAWIYTATKDEQYRTAADGFITKSADHNNEYSWDEKLPGVYTLLFSVTKNATYKAGAEGFFKDYWPGGTVKQTAKGLAFLGSWGSLGYASATGFLMMNYAKTVGFQEPNATHSVSFSMQQLNYMLGDCGRSWVVGFGEGAPIRPYHKSSYNSFIDYPMRGKDNGAQGEDFLNSQTVNRFILYGALEGGPAWDDTFKDDRSSYEYTDKYFFKHIRPHIYLYG', 'len': 497, 'GO_molecular_function': 'cellulase activity [GO:0008810]'}\n",
      "A0A5V6NDI5 {'kw': [0], 'ex': 3, 'seq': 'MMTMLRGWITMLVMLTAINAQAACSWPAWEQFKKDYISQQGRVIDPGDARRITTSEGQSYAMFFALAANDRPAFAQLFNWTQNNLAQGSLREHLPAWLWGQKDPDTWSVLDSNSASDGDIWMAWSLLEAGRLWKETRYTEVGTALLKRIAREEVVNVPGLGSMLLPGKIGFAEANSWRFNPSYLPPQLAQYFSRFGAPWSTLRETNLRLLLETAPKGFSPDWVRYESKQGWQLKAEKTLISSYDAIRVYLWAGMMHDGDPQKARLLARFKPMATLTMKNGVPPEKVDVVSGNAQGTGPVGFSAALLPFLQNRDAQAVQRQRIADHFPGSDAYYNYVLTLFGQGWDQHRFRFTVKGELLPDWGQECVSSR', 'len': 369, 'GO_molecular_function': 'cellulase activity [GO:0008810]'}\n",
      "A0A1V8SK14 {'kw': [0], 'ex': 3, 'seq': 'MSILKTTALLGSFAASAYAHGYVSGYVVDGQYIQGYSKNFQWQRNPPIVAGWSTPEVIDTGFIGPQNYTTPQIICHLDATPGGTSVKIAAGSEITLQWTPWPVSHHGPVIDYLARCTGKDCTTADKTTLEFFKFAEAGLVEDLPEKTYGVTGKWASDDLIANNNSWVVKIPSDIAPGPYVLRHEIIALHSAHEVNGAQNYPQCVNLEITGSGTASPVGITGDKLYPNTTAPGIFVSIYQHLGGYEIPGPALYSAADSGSAPSSAASSTAAAATSAPATSAASSAAVPETKSPSSAFPTTFQTIGASSSATSFVAAAPSSAYTPPSSAAGPSTAASTAAPAATSSPDAPSAPDTTCTSIVTIPATVTTDVYTTITSAPDAISAIADTVPSSALTATISQALPSPAAFGNSSESGSAAPGYPSKPLPEGFTLKDVLEWAAYLLGKAFSQDGEKLKRHARDMTLTS', 'len': 463, 'GO_molecular_function': 'cellulase activity [GO:0008810]; cellulose binding [GO:0030248]'}\n",
      "A0A3M7M1T2 {'kw': [0], 'ex': 3, 'seq': 'MTEKAKRPWTDKDGAWYLEEGERWSDSPHTGWYAEDLDNGFVTPSGYGTPDIICHKNASPSLSSDTLAKVAAGGVVNFAWIAAVKKEDLKWTKIDAHGFEDGKWAAIKMVGQNNSWPVTVPTNLAAGKYVFRHEIITLYSAGQANDAQNYPQCLSIEVTGSKPEKPESVLGNKLYSATDPGIFVNVYAHNTNY', 'len': 193, 'GO_molecular_function': 'cellulase activity [GO:0008810]; cellulose binding [GO:0030248]'}\n",
      "A0A8S3YSH8 {'kw': [0], 'ex': 3, 'seq': 'MLYPWVLGLLLPLLLAISDGAKNYHDALGKSILFYDAQRSGKLPANNPIPWRGDSAVNDCVPGGWYDAGDHIKFGLPLSYTVTILGWSLVRYKDGYEEAGELDNMYDMIKWAYDYLLKAMGPQQTASDCSVQLTVQVGDGDLDHDFWGRAEDMTMARPCKVVSTSTKGSDIAGGTGDTSYANQLLSAAKSLYTFAKSHRGLFHGSDEFYASSGDKDDMCEGAIWLYKATNDAQYLTDAKSFVETDTAWAYEWDDKMVGCQGDQEQPVQRGCGIVLFTDGWLPSGDIDYTPCGLAWRDKWGSLGYSGSAAYIALVAADLGIQPAKLRQFAVEQINYILGDNKHDGGCYSYEIGYGSKYPLRPHHSGASCPNRPASCDFDQLDAPGPNPHVLTGAVVGGPDSNDNYKDDRNDYVQNEVALDYNAGFHAALAGIAHLQSTNQMPTTHNKCPCSQ', 'len': 451, 'GO_molecular_function': 'hydrolase activity, hydrolyzing O-glycosyl compounds [GO:0004553]'}\n"
     ]
    }
   ],
   "source": [
    "import pickle\n",
    "with open(\"data_specific_enzymes/databases/pickles/training_\"+name+ \".p\", \"rb\") as file:\n",
    "    training = pickle.load(file)\n",
    "keys = list(training.keys())\n",
    "for key in keys[:10]:\n",
    "    print(key, training[key])"
   ]
  },
  {
   "cell_type": "code",
   "execution_count": 11,
   "metadata": {},
   "outputs": [
    {
     "name": "stdout",
     "output_type": "stream",
     "text": [
      "ec_3_2_1_4\n"
     ]
    }
   ],
   "source": [
    "import pickle\n",
    "import os\n",
    "import subprocess\n",
    "def save_to_fasta(path_to_load, path_to_save):\n",
    "    name = path_to_load.split(\"/\")[-1].split(\".\")[0]\n",
    "    with open(path_to_load, \"rb\") as file:\n",
    "        data = pickle.load(file)\n",
    "    with open(path_to_save + name + \".fasta\", \"w\") as f:\n",
    "        for seq_id, seq_info in data.items():\n",
    "            f.write(f\">{seq_id}\\n{seq_info['seq']}\\n\")\n",
    "print(name)\n",
    "\n",
    "pickle_path = \"data_specific_enzymes/databases/pickles/training_\"+name+ \".p\"\n",
    "output_path = \"data_specific_enzymes/databases/fasta/training_\"+name+ \".fasta\"\n",
    "save_to_fasta(pickle_path, output_path)\n",
    "\n",
    "pickle_path = \"data_specific_enzymes/databases/pickles/test_\"+name+ \".p\"\n",
    "output_path = \"data_specific_enzymes/databases/fasta/test_\"+name+ \".fasta\"\n",
    "save_to_fasta(pickle_path, output_path)\n",
    "\n",
    "pickle_path = \"data_specific_enzymes/databases/pickles/validation_\"+name+ \".p\"\n",
    "output_path = \"data_specific_enzymes/databases/fasta/validation_\"+name+ \".fasta\"\n",
    "save_to_fasta(pickle_path, output_path)\n"
   ]
  },
  {
   "cell_type": "code",
   "execution_count": null,
   "metadata": {},
   "outputs": [],
   "source": []
  }
 ],
 "metadata": {
  "kernelspec": {
   "display_name": "Python 3 (ipykernel)",
   "language": "python",
   "name": "python3"
  },
  "language_info": {
   "codemirror_mode": {
    "name": "ipython",
    "version": 3
   },
   "file_extension": ".py",
   "mimetype": "text/x-python",
   "name": "python",
   "nbconvert_exporter": "python",
   "pygments_lexer": "ipython3",
   "version": "3.11.4"
  }
 },
 "nbformat": 4,
 "nbformat_minor": 4
}
