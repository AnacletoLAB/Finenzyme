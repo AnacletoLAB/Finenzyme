{
 "cells": [
  {
   "cell_type": "code",
   "execution_count": 1,
   "metadata": {},
   "outputs": [],
   "source": [
    "import os\n",
    "import torch\n",
    "import numpy as np\n",
    "import pickle\n",
    "#os.environ[\"CUDA_DEVICE_ORDER\"]=\"PCI_BUS_ID\"\n",
    "#os.environ[\"CUDA_VISIBLE_DEVICES\"]=\"0\"\n",
    "from tokenizer import Tokenizer\n",
    "from generation_manager import GeneratorManager"
   ]
  },
  {
   "cell_type": "code",
   "execution_count": 2,
   "metadata": {
    "scrolled": true
   },
   "outputs": [
    {
     "name": "stdout",
     "output_type": "stream",
     "text": [
      "tokenizer loaded\n",
      "loading model from: /home/saitto/progen/ckpt/_epoch3_chunk10.pth\n"
     ]
    }
   ],
   "source": [
    "tokenizer = Tokenizer()\n",
    "print('tokenizer loaded')\n",
    "\n",
    "curr_model_path = '/home/saitto/progen/ckpt/_epoch3_chunk10.pth' # model checkpoint\n",
    "print('loading model from:', curr_model_path)\n",
    "# Saving only state_dict:\n",
    "#torch.save(model.state_dict(), model_state_dict_path)\n",
    "#model_state_dict_path = load_model_path + 'model_only_state_dict_v0Last.pth'\n",
    "#print('Model state dict saved')"
   ]
  },
  {
   "cell_type": "code",
   "execution_count": 13,
   "metadata": {},
   "outputs": [
    {
     "name": "stdout",
     "output_type": "stream",
     "text": [
      "Random Selection:\n",
      "{'metadata': {'accession': 'A0A376DZW2', 'id': 'A0A376DZW2_9ENTR', 'source_organism': {'taxId': '1074000', 'scientificName': 'Cronobacter universalis NCTC 9529', 'fullName': 'Cronobacter universalis NCTC 9529'}, 'name': 'Lysozyme', 'description': None, 'length': 150, 'sequence': 'MANIPTNTGMPGVELIKSFEGLRLDKYQDAVGKWTIGYGHLILPNENFTRALTLQEAEDLLRADLGMTERGIRQMVKVDLNQNQFDALVSFAFNVGLGNLQSSTLLRLLNQGSYREAADQLLRWNKAGGNVLAGLTRRREAERLLFLTAL', 'proteome': None, 'gene': 'NCTC9529_00542', 'go_terms': [{'identifier': 'GO:0003796', 'name': 'lysozyme activity', 'category': {'code': 'F', 'name': 'molecular_function'}}, {'identifier': 'GO:0009253', 'name': 'peptidoglycan catabolic process', 'category': {'code': 'P', 'name': 'biological_process'}}, {'identifier': 'GO:0016998', 'name': 'cell wall macromolecule catabolic process', 'category': {'code': 'P', 'name': 'biological_process'}}], 'protein_evidence': 3, 'source_database': 'unreviewed', 'is_fragment': False, 'ida_accession': 'b8801d01d6e63f79260281461d758ae8019f3053', 'counters': {'domain_architectures': 18190, 'entries': 11, 'isoforms': 0, 'proteomes': 0, 'sets': 2, 'structures': 0, 'taxa': 1, 'dbEntries': {'ssf': 1, 'pfam': 1, 'cathgene3d': 1, 'panther': 1, 'cdd': 1, 'hamap': 1, 'interpro': 5}, 'proteome': 0, 'taxonomy': 1, 'similar_proteins': 18190}}}\n",
      "2000\n"
     ]
    }
   ],
   "source": [
    "# paths to the saved .p files\n",
    "#query = \"PF00959\"\n",
    "# /home/saitto/progen/ProGen/my_data/test.p\n",
    "#random_selection_file = os.path.join(\"data\", \"random_selection_2000_\" + query + \".p\")\n",
    "#data_file = os.path.join(\"data\", \"filtered_data_\" + query + \".p\")\n",
    "\n",
    "data_file = '/home/saitto/progen/ProGen/my_data/test.p'\n",
    "\n",
    "# Reload random_selection from the .p file\n",
    "with open(random_selection_file, \"rb\") as file:\n",
    "    random_selection = pickle.load(file)\n",
    "\n",
    "# Reload filtered_data from the .p file\n",
    "#filtered_data = False\n",
    "#with open(data_file, \"rb\") as file:\n",
    "#    filtered_data = pickle.load(file)\n",
    "\n",
    "# Print or use the reloaded datasets as needed\n",
    "print(\"Random Selection:\")\n",
    "for entry in random_selection:\n",
    "    print(entry[\"sequence\"])\n",
    "    print(len(random_selection))\n",
    "    break\n",
    "\n",
    "#print(\"---\")\n",
    "\n",
    "#print(\"Filtered Data:\")\n",
    "#for entry in filtered_data:\n",
    "#    print(entry[\"sequence\"])"
   ]
  },
  {
   "cell_type": "code",
   "execution_count": 4,
   "metadata": {},
   "outputs": [
    {
     "data": {
      "text/plain": [
       "'query = \"PF00959\"\\nrandom_selection_file = os.path.join(\"data\", \"sampled_data_validation_2000_\" + query + \".p\")\\ndata_file = os.path.join(\"data\", \"filtered_data_\" + query + \".p\")\\n\\n# Reload random_selection from the .p file\\nrandom_selection = False\\nwith open(random_selection_file, \"rb\") as file:\\n    random_selection = pickle.load(file)\\n\\n# Reload filtered_data from the .p file\\n#filtered_data = False\\n#with open(data_file, \"rb\") as file:\\n#    filtered_data = pickle.load(file)\\n\\n# Print or use the reloaded datasets as needed\\nprint(\"Random Selection:\")\\n#random_selection = random_selection[0:100]\\nfor entry in random_selection:\\n    print(entry[\"sequence\"])\\n    print(len(random_selection))\\n    break'"
      ]
     },
     "execution_count": 4,
     "metadata": {},
     "output_type": "execute_result"
    }
   ],
   "source": [
    "'''query = \"PF00959\"\n",
    "random_selection_file = os.path.join(\"data\", \"sampled_data_validation_2000_\" + query + \".p\")\n",
    "data_file = os.path.join(\"data\", \"filtered_data_\" + query + \".p\")\n",
    "\n",
    "# Reload random_selection from the .p file\n",
    "random_selection = False\n",
    "with open(random_selection_file, \"rb\") as file:\n",
    "    random_selection = pickle.load(file)\n",
    "\n",
    "# Reload filtered_data from the .p file\n",
    "#filtered_data = False\n",
    "#with open(data_file, \"rb\") as file:\n",
    "#    filtered_data = pickle.load(file)\n",
    "\n",
    "# Print or use the reloaded datasets as needed\n",
    "print(\"Random Selection:\")\n",
    "#random_selection = random_selection[0:100]\n",
    "for entry in random_selection:\n",
    "    print(entry[\"sequence\"])\n",
    "    print(len(random_selection))\n",
    "    break'''\n"
   ]
  },
  {
   "cell_type": "code",
   "execution_count": 5,
   "metadata": {},
   "outputs": [
    {
     "data": {
      "text/plain": [
       "'taxon_id = 505\\nlineage = ncbi.get_lineage(taxon_id)\\nprint(lineage)\\nprint(type(lineage))'"
      ]
     },
     "execution_count": 5,
     "metadata": {},
     "output_type": "execute_result"
    }
   ],
   "source": [
    "import ete3\n",
    "ncbi = ete3.NCBITaxa()\n",
    "# to update the taxonomic local database use:\n",
    "# ncbi.update_taxonomy_database()\n",
    "'''taxon_id = 505\n",
    "lineage = ncbi.get_lineage(taxon_id)\n",
    "print(lineage)\n",
    "print(type(lineage))'''"
   ]
  },
  {
   "cell_type": "code",
   "execution_count": 6,
   "metadata": {
    "scrolled": true
   },
   "outputs": [
    {
     "name": "stdout",
     "output_type": "stream",
     "text": [
      "Tax lineage problems: 84\n"
     ]
    }
   ],
   "source": [
    "count = 0\n",
    "inner_count = 0\n",
    "for entry in random_selection:\n",
    "    taxid = int(entry['metadata']['source_organism']['taxId']) # taxonomy id from NCBI\n",
    "    inner_count = 0\n",
    "    #print(taxid)\n",
    "    try:\n",
    "        tax_lineage1 = ncbi.get_lineage(taxid)\n",
    "        # remove root taxonomy id\n",
    "        tax_lineage1 = [element for element in tax_lineage1 if element not in [1, 2, 131567, 10239]]\n",
    "        #tax_lineage2 = tokenizer.taxa_to_lineage[taxid] # make lineage in ncbi ids\n",
    "        #print(tax_lineage1)\n",
    "        res = []\n",
    "        for ite in tax_lineage1:\n",
    "            try:\n",
    "                tmp = tokenizer.taxa_to_ctrl_idx[ite]\n",
    "                res.append(tmp)\n",
    "            except:\n",
    "                inner_count += 1\n",
    "        if res == [] and inner_count >= 1:\n",
    "            count += 1\n",
    "    except:\n",
    "        count += 1\n",
    "        print(\"FATAL taxa conversion\")\n",
    "        #tax_lineage = [tokenizer.taxa_to_ctrl_idx[ite] for ite in tax_lineage1] # now translated as ctrl code indices\n",
    "print(\"Tax lineage problems:\", count)\n",
    "    # break"
   ]
  },
  {
   "cell_type": "markdown",
   "metadata": {},
   "source": [
    "<p>To evaluate the generated sequence using teacher forcing:\n",
    "\n",
    "Generate the Sequence: The transformer model with teacher forcing generates the complete sequence. \n",
    "At each time step, we provide the true input sequence (+ 1 versus previous step), as input to the model.\n",
    "\n",
    "</p>"
   ]
  },
  {
   "cell_type": "code",
   "execution_count": 7,
   "metadata": {
    "scrolled": true
   },
   "outputs": [
    {
     "name": "stdout",
     "output_type": "stream",
     "text": [
      "MODEL SIZE: \n",
      "1280\n",
      "Found PyTorch checkpoint at  /home/saitto/progen/ckpt/_epoch3_chunk10.pth\n",
      "GPU aviable. Previous checkpoint loaded in GPU\n"
     ]
    }
   ],
   "source": [
    "penalty = 0\n",
    "topk = 1\n",
    "generator = GeneratorManager(curr_model_path, penalty=penalty, topk=topk)\n",
    "\n",
    "predicted = []\n",
    "true_tokens_index_in_probs_all = []\n",
    "tokens_probs_all = []\n",
    "true_value = []\n",
    "for entry in random_selection:\n",
    "    input_seq = entry['sequence']['metadata']['sequence']\n",
    "    #print(input_seq)\n",
    "    '''\n",
    "    taxid = int(entry['metadata']['source_organism']['taxId']) # taxonomy id from NCBI\n",
    "    try:\n",
    "        tax_lineage = ncbi.get_lineage(taxid)\n",
    "        # remove root taxonomy id\n",
    "        tax_lineage = [element for element in tax_lineage1 if element not in [1, 2, 131567, 10239]]\n",
    "        res = []\n",
    "        inner_count = 0\n",
    "        for ite in tax_lineage:\n",
    "            try:\n",
    "                tmp = tokenizer.taxa_to_ctrl_idx[ite]\n",
    "                res.append(tmp)\n",
    "            except:\n",
    "                inner_count += 1\n",
    "        if res == [] and inner_count >= 1:\n",
    "            print(\"ALERT: error in taxonmy conversions for entry: \", taxid)\n",
    "        tax_lineage = res\n",
    "    except:\n",
    "        print(\"FATAL taxa conversion for entry: \", taxid)\n",
    "        # tax_lineage = tokenizer.taxa_to_lineage[taxid] # make lineage in ncbi ids\n",
    "        # tax_lineage = [tokenizer.taxa_to_ctrl_idx[ite] for ite in tax_lineage] # now translated as ctrl code indices\n",
    "    '''\n",
    "    # FOR TESTIG the code:\n",
    "    # input_seq = input_seq[0:24]\n",
    "    \n",
    "    # if no tax keys:\n",
    "    tax_lineage = [0]\n",
    "    #print(input_seq)\n",
    "    \n",
    "    #try:\n",
    "    # res, tokens_prob = teacher_forcing_generation(input_seq, tax_lineage)\n",
    "    res, tokens_prob, offset = generator.after_n_generation(input_seq, tax_lineage, 20)\n",
    "    #except:\n",
    "    #    print(\"ALERT: skipped for error the entry: \", entry['metadata']['accession'])\n",
    "    #    continue\n",
    "    # print(\"Input: \", input_seq)\n",
    "    # print(\"Res: \", res)\n",
    "    true_value.append(input_seq)\n",
    "    true_tokens_index_in_prob = []\n",
    "    true_tokens_index_in_probs_all.append(true_tokens_index_in_prob)\n",
    "    tokens_probs_all.append(tokens_prob)\n",
    "    predicted.append(input_seq[:offset] + res)\n",
    "\n",
    "    # FOR TESTIG:\n",
    "    break\n",
    "    \n",
    "    "
   ]
  },
  {
   "cell_type": "code",
   "execution_count": 11,
   "metadata": {},
   "outputs": [
    {
     "name": "stdout",
     "output_type": "stream",
     "text": [
      "1\n"
     ]
    }
   ],
   "source": [
    "print(len(predicted))"
   ]
  },
  {
   "cell_type": "code",
   "execution_count": 12,
   "metadata": {},
   "outputs": [
    {
     "name": "stdout",
     "output_type": "stream",
     "text": [
      "['MANIPTNTGMPGVELIKSFEELTFTLSHAGSGSPIVFLHGNPTSSYLWRNIIPHVSDLGRCLAPDLIGMGESGKPDIDYTFADHARYLDAFIEALGLERVTLVLHDWGSALGFHWAHRHPERVKAIAYMEAIVRPVTWDEWPEAARGIFQ']\n"
     ]
    }
   ],
   "source": [
    "print(predicted)"
   ]
  },
  {
   "cell_type": "code",
   "execution_count": 10,
   "metadata": {},
   "outputs": [],
   "source": [
    "# Create a directory named \"ID_test_data\" in the current working directory if it doesn't exist\n",
    "data_dir = \"PF00959_generalModel_after_50_proteins_2000_p_0_k_1_key_only_0\"\n",
    "query = \"PF00959\"\n",
    "os.makedirs(data_dir, exist_ok=True)\n",
    "\n",
    "# TODO, salvare tokens_prob e true_tokens_index_in_prob\n",
    "tokens_probs_data_file = os.path.join(data_dir, \"tokens_probs_data_\" + query + \".p\")\n",
    "with open(tokens_probs_data_file, \"wb\") as file:\n",
    "    pickle.dump(tokens_probs_all, file)\n",
    "    \n",
    "true_tokens_index_data_file = os.path.join(data_dir, \"true_tokens_index_data_\" + query + \".p\")\n",
    "with open(true_tokens_index_data_file, \"wb\") as file:\n",
    "    pickle.dump(true_tokens_index_in_probs_all, file)\n",
    "\n",
    "# Save ID_test_data as a .p file\n",
    "predicted_data_file = os.path.join(data_dir, \"predicted_data_\" + query + \".p\")\n",
    "with open(predicted_data_file, \"wb\") as file:\n",
    "    pickle.dump(predicted, file)\n",
    "    \n",
    "# Save ID_test_data as a .p file\n",
    "true_data_file = os.path.join(data_dir, \"true_data_\" + query + \".p\")\n",
    "with open(true_data_file, \"wb\") as file:\n",
    "    pickle.dump(true_value, file)\n",
    "torch.cuda.empty_cache()"
   ]
  },
  {
   "cell_type": "code",
   "execution_count": null,
   "metadata": {},
   "outputs": [],
   "source": []
  }
 ],
 "metadata": {
  "kernelspec": {
   "display_name": "Python 3 (ipykernel)",
   "language": "python",
   "name": "python3"
  },
  "language_info": {
   "codemirror_mode": {
    "name": "ipython",
    "version": 3
   },
   "file_extension": ".py",
   "mimetype": "text/x-python",
   "name": "python",
   "nbconvert_exporter": "python",
   "pygments_lexer": "ipython3",
   "version": "3.11.4"
  }
 },
 "nbformat": 4,
 "nbformat_minor": 4
}
