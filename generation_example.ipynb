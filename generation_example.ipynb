{
 "cells": [
  {
   "cell_type": "code",
   "execution_count": 4,
   "metadata": {
    "scrolled": true
   },
   "outputs": [
    {
     "name": "stdout",
     "output_type": "stream",
     "text": [
      "-----vocab size 129407 ------\n",
      "MODEL SIZE: \n",
      "1280\n",
      "model initialized\n",
      "Found PyTorch checkpoint at  ckpt/pretrain_progen_full.pth\n",
      "Loading instead of converting from TensorFlow\n",
      "previous checkpoint loaded\n"
     ]
    }
   ],
   "source": [
    "from __future__ import print_function\n",
    "from __future__ import division\n",
    "import os\n",
    "import sys\n",
    "import torch\n",
    "import tqdm\n",
    "import pdb\n",
    "import numpy as np\n",
    "import platform\n",
    "import hashlib\n",
    "import pytorch_transformer\n",
    "import re\n",
    "import argparse\n",
    "import tensorflow as tf\n",
    "from tensorflow.python import pywrap_tensorflow\n",
    "import torch.nn.functional as F\n",
    "#from torch.utils.tensorboard import SummaryWriter\n",
    "from transformProtein import transformProtein\n",
    "from ProteinDataset_uid import ProteinDataset\n",
    "from torch.utils.data import Dataset, DataLoader\n",
    "import pickle\n",
    "import time\n",
    "import matplotlib.pyplot as plt\n",
    "\n",
    "load_model_path = 'ckpt/' # just the folder itself\n",
    "\n",
    "seq_length = 511\n",
    "embedding_dim = 1280\n",
    "num_layers = 36\n",
    "vocab_loc = 'mapping_files/vocab.txt'\n",
    "\n",
    "use_py3 = platform.python_version()[0] == '3'\n",
    "vocab = open(vocab_loc).readlines() if not use_py3 else open(vocab_loc, encoding='utf-8').read().split('\\n')[:-1]\n",
    "vocab = list(map(lambda x: x.split(' ')[0], vocab))\n",
    "vocab_size = len(vocab)\n",
    "print('-----vocab size',vocab_size,'------')\n",
    "\n",
    "class TiedEmbeddingSoftmax(torch.nn.Module):\n",
    "\n",
    "  def __init__(self, vocab_size=vocab_size, embedding_size=embedding_dim, **kwargs):\n",
    "    super(TiedEmbeddingSoftmax, self).__init__()\n",
    "    self.w = torch.nn.Parameter(torch.normal(0., 1e-2, size=(vocab_size, embedding_size)))\n",
    "    self.b = torch.nn.Parameter(torch.zeros(vocab_size))\n",
    "\n",
    "  def forward(self, inputs, embed=True):\n",
    "    if embed:\n",
    "      return torch.nn.functional.embedding(inputs, self.w)\n",
    "    else:\n",
    "      return torch.tensordot(inputs, self.w.t(), 1) + self.b\n",
    "\n",
    "class CTRLmodel(torch.nn.Module):\n",
    "  def __init__(self):\n",
    "    super(CTRLmodel,self).__init__()\n",
    "    self.tied_embedding_softmax = TiedEmbeddingSoftmax()\n",
    "    self.encoder = pytorch_transformer.Encoder()\n",
    "\n",
    "  def forward(self, inputs):\n",
    "    x = self.tied_embedding_softmax(inputs, embed = True)\n",
    "    print(x.shape)\n",
    "    x = self.encoder(x)\n",
    "    x = self.tied_embedding_softmax(x, embed = False)\n",
    "    return x\n",
    "\n",
    "  def loadCheckpoint(self, model_path, num_layers):\n",
    "    if os.path.exists(model_path):\n",
    "      print('Found PyTorch checkpoint at ', model_path)\n",
    "      print('Loading instead of converting from TensorFlow')\n",
    "      checkpoint = torch.load(model_path, map_location=torch.device('cpu'))\n",
    "      self.tied_embedding_softmax.load_state_dict({\n",
    "        'w': checkpoint.pop('tied_embedding_softmax.w', None),\n",
    "        'b': checkpoint.pop('tied_embedding_softmax.b', None)\n",
    "      })\n",
    "      self.encoder.load_state_dict({key.replace(\"encoder.\", \"\"): value for key, value in checkpoint.items()})\n",
    "    else:\n",
    "      print('Could not find PyTorch checkpoint')\n",
    "      sys.exit()\n",
    "\n",
    "model = CTRLmodel()\n",
    "print('model initialized')\n",
    "\n",
    "curr_model_path = load_model_path+'pretrain_progen_full.pth'\n",
    "reader = model.loadCheckpoint(model_path=curr_model_path, num_layers = num_layers)\n",
    "print('previous checkpoint loaded')\n",
    "\n",
    "optimizer = torch.optim.Adam(model.parameters()) #lr, betas\n",
    "\n",
    "model.eval()\n",
    "\n",
    "with open(os.path.join('mapping_files/','taxa_to_lineage.p'),'rb') as handle:\n",
    "    taxa_to_lineage = pickle.load(handle)\n",
    "with open('mapping_files/taxa_to_ctrl_idx.p','rb') as handle:\n",
    "    taxa_to_ctrl_idx = pickle.load(handle)\n",
    "with open('mapping_files/kw_to_ctrl_idx.p','rb') as handle:\n",
    "    kw_to_ctrl_idx = pickle.load(handle)\n",
    "with open('mapping_files/aa_to_ctrl_idx.p','rb') as handle:\n",
    "    aa_to_ctrl_idx = pickle.load(handle)\n",
    "    \n",
    "with open('mapping_files/kw_to_name.p2','rb') as handle:\n",
    "    kw_to_name = pickle.load(handle)\n",
    "#with open('mapping_files/taxid_to_name.p2','rb') as handle:\n",
    "#    taxid_to_name = pickle.load(handle)\n",
    "    \n",
    "def flipdict(my_map):\n",
    "    return {v: k for k, v in my_map.items()}\n",
    "ctrl_idx_to_aa = flipdict(aa_to_ctrl_idx)\n",
    "ctrl_idx_to_kw = flipdict(kw_to_ctrl_idx)\n",
    "ctrl_idx_to_taxa = flipdict(taxa_to_ctrl_idx)"
   ]
  },
  {
   "cell_type": "code",
   "execution_count": 5,
   "metadata": {},
   "outputs": [
    {
     "name": "stdout",
     "output_type": "stream",
     "text": [
      "Actin-binding\n"
     ]
    }
   ],
   "source": [
    "print(kw_to_name[9])"
   ]
  },
  {
   "cell_type": "code",
   "execution_count": 6,
   "metadata": {},
   "outputs": [],
   "source": [
    "def predict_fn(inputs):\n",
    "    with torch.no_grad():\n",
    "        inputs = torch.tensor(inputs)\n",
    "        output = model(inputs)\n",
    "        output = output[:,:,-26:-1] # remove non-AA token logits\n",
    "        return output"
   ]
  },
  {
   "cell_type": "code",
   "execution_count": 7,
   "metadata": {},
   "outputs": [
    {
     "name": "stdout",
     "output_type": "stream",
     "text": [
      "[33208, 7711, 40674, 9443, 9604, 9605, 9606]\n",
      "[11177, 5756, 14034, 6957, 7068, 7069, 7070]\n",
      "[677, 9]\n",
      "[46, 258]\n"
     ]
    }
   ],
   "source": [
    "taxid = 9606 # homo sapiens taxonomy id from NCBI: https://www.ncbi.nlm.nih.gov/taxonomy\n",
    "tax_lineage = taxa_to_lineage[taxid] # make lineage in ncbi ids\n",
    "print(tax_lineage)\n",
    "tax_lineage = [taxa_to_ctrl_idx[ite] for ite in tax_lineage] # now translated as ctrl code indices\n",
    "print(tax_lineage)\n",
    "\n",
    "kw_lineage = [677,9] # UniprotKB keywords from https://www.uniprot.org/docs/keywlist\n",
    "print(kw_lineage)\n",
    "kw_lineage = [kw_to_ctrl_idx[ite] for ite in kw_lineage] # now translated to ctrl code indices\n",
    "print(kw_lineage)"
   ]
  },
  {
   "cell_type": "code",
   "execution_count": 8,
   "metadata": {
    "scrolled": false
   },
   "outputs": [
    {
     "name": "stdout",
     "output_type": "stream",
     "text": [
      "Prefix:  YMI\n",
      "Ref:  RNVNI\n",
      "seed sequence:  [129404, 129392, 129389]\n",
      "[11177, 5756, 14034, 6957, 7068, 7069, 7070, 46, 258, 129404, 129392, 129389, 0, 0, 0, 0, 0]\n",
      "counter:  1\n",
      "torch.Size([1, 17, 1280])\n",
      "9\n",
      "11\n",
      "0\n",
      "counter:  2\n",
      "torch.Size([1, 17, 1280])\n",
      "9\n",
      "12\n",
      "3\n",
      "counter:  3\n",
      "torch.Size([1, 17, 1280])\n",
      "9\n",
      "13\n",
      "3\n",
      "counter:  4\n",
      "torch.Size([1, 17, 1280])\n",
      "9\n",
      "14\n",
      "3\n",
      "counter:  5\n",
      "torch.Size([1, 17, 1280])\n",
      "9\n",
      "15\n",
      "3\n"
     ]
    }
   ],
   "source": [
    "example_seq = 'YMIQEEEWDRDLLLDPAWEKQQRKTFTAWCNSHLRKAGTQIENIEEDFRNGLKLMLLLEVISGERLPKPDRGKMRFHKIANVNKALDYIASKGVKLVSIGAEEIVDGNVKMTLGMIWTIILRFAIQDISVEETSAKEGLLLWCQRKTAPYRNVNIQNFHTSWKDGLGLCALIHRHRPDLIDYSKLNKDDPIGNINLAMEIAEKHLDIPKMLDAEDIVNTPKPDERAIMTYVSCFYHAFAGAEQAETAANRICKVLAVNQENERLMEEYERLASELLEWIRRTIPWLENRTPAATMQAMQKKLEDFRDYRRKHKPPKVQEKCQLEINFNTLQTKLRISNRPAFMPSEGKMVSDIAGAWQRLEQAEKGYEEWLLNEIRRLERLEHLAEKFRQKASTHETWAYGKEQILLQKDYESASLTEVRALLRKHEAFESDLAAHQDRVEQIAAIAQELNELDYHDAVNVNDRCQKICDQWDRLGTLTQKRREALERMEKLLETIDQLHLEFAKRAAPFNNWMEGAMEDLQDMFIVHSIEEIQSLITAHEQFKATLPEADGERQSIMAIQNEVEKVIQSYNIRISSSNPYSTVTMDELRTKWDKVKQLVPIRDQSLQEELARQHANERLRRQFAAQANAIGPWIQNKMEEIARSSIQITGALEDQMNQLKQYEHNIINYKNNIDKLEGDHQLIQEALVFDNKHTNYTMEHIRVGWELLLTTIARTINEVETQILTRDAKGITQEQMNEFRASFNHFDRRKNGLMDHEDFRACLISMGYDLGEAEFARIMTLVDPNGQGTVTFQSFIDFMTRETADTDTAEQVIASFRILASDKPYILAEELRRELPPDQAQYCIKRMPAYSGPGSVPGALDYAAFSSALYGESDL'\n",
    "prefix = example_seq[:3]\n",
    "# prefix = \"\"\n",
    "print(\"Prefix: \", prefix)\n",
    "ref = example_seq[150:155]\n",
    "\n",
    "print(\"Ref: \", ref)\n",
    "penalty = 1.2\n",
    "topk = 3\n",
    "\n",
    "seed_seq = [aa_to_ctrl_idx[ii] for ii in prefix]\n",
    "print(\"seed sequence: \", seed_seq)\n",
    "# generate_num = len(kw_lineage+tax_lineage)+len(prefix+ref)\n",
    "key_len = len(kw_lineage+tax_lineage)\n",
    "generate_num = key_len +len(prefix+ref)\n",
    "seq_length = min(generate_num, 511)\n",
    "\n",
    "text = tax_lineage + kw_lineage + seed_seq\n",
    "padded_text = text + [0] * (generate_num - len(text))\n",
    "print(padded_text)\n",
    "tokens_generated = np.tile(padded_text, (1,1))\n",
    "\n",
    "i = 1\n",
    "for token in range(len(text)-1, generate_num-1):\n",
    "    print(\"counter: \", i)\n",
    "    i += 1\n",
    "    prompt_logits = predict_fn(tokens_generated[:, :seq_length]).squeeze()\n",
    "    _token = token if token < seq_length else -1\n",
    "    prompt_logits = prompt_logits.cpu().detach().numpy()\n",
    "\n",
    "    if penalty>0:\n",
    "        penalized_so_far = set()\n",
    "        # variable token_flag for first amminoacids (to count them if they are less that 4)\n",
    "        if token >= key_len + 3:\n",
    "            token_flag = 3  \n",
    "        elif token - key_len - 3 <= 0:\n",
    "            token_flag = 0\n",
    "        else:\n",
    "            token_flag = token\n",
    "        print(key_len)\n",
    "        print(token)\n",
    "        print(token_flag)\n",
    "        for _ in range(token-token_flag,token+1):\n",
    "            generated_token = tokens_generated[0][_] - (vocab_size-26) # added\n",
    "            if generated_token in penalized_so_far:\n",
    "                continue\n",
    "            penalized_so_far.add(generated_token)\n",
    "            prompt_logits[_token][generated_token] /= penalty\n",
    "\n",
    "    # compute probabilities from logits\n",
    "    prompt_probs = np.exp(prompt_logits[_token])\n",
    "    prompt_probs = prompt_probs / sum(prompt_probs)\n",
    "    pruned_list = np.argsort(prompt_probs)[::-1]\n",
    "\n",
    "    if topk==1:\n",
    "        idx = pruned_list[0]\n",
    "    else:\n",
    "        pruned_list = pruned_list[:topk]\n",
    "        chosen_idx = torch.distributions.categorical.Categorical(logits=torch.tensor(np.expand_dims(prompt_logits[_token][pruned_list],0))).sample().numpy()[0]\n",
    "        idx = pruned_list[chosen_idx]\n",
    "\n",
    "    # assign the token for generation\n",
    "    idx += (vocab_size-26) # added to convert 0 AA to original ctrl idx\n",
    "    tokens_generated[0][token+1] = idx\n",
    "\n",
    "\n",
    "tokens_generated_so_far = tokens_generated[0].squeeze()[:token+2]\n",
    "tokens_generated_so_far = tokens_generated_so_far[(tokens_generated_so_far>=(vocab_size-26)) & (tokens_generated_so_far<(vocab_size-1))]\n",
    "tokens_generated_so_far = ''.join([ctrl_idx_to_aa[c] for c in tokens_generated_so_far])\n",
    "\n",
    "query = tokens_generated_so_far[len(seed_seq):]"
   ]
  },
  {
   "cell_type": "code",
   "execution_count": 9,
   "metadata": {},
   "outputs": [
    {
     "name": "stdout",
     "output_type": "stream",
     "text": [
      "YMI\n"
     ]
    }
   ],
   "source": [
    "print(prefix)"
   ]
  },
  {
   "cell_type": "code",
   "execution_count": 10,
   "metadata": {
    "scrolled": true
   },
   "outputs": [
    {
     "name": "stdout",
     "output_type": "stream",
     "text": [
      "TPKIY\n"
     ]
    }
   ],
   "source": [
    "print(query)"
   ]
  },
  {
   "cell_type": "code",
   "execution_count": null,
   "metadata": {},
   "outputs": [],
   "source": []
  },
  {
   "cell_type": "code",
   "execution_count": null,
   "metadata": {},
   "outputs": [],
   "source": []
  }
 ],
 "metadata": {
  "kernelspec": {
   "display_name": "Python 3",
   "language": "python",
   "name": "python3"
  },
  "language_info": {
   "codemirror_mode": {
    "name": "ipython",
    "version": 3
   },
   "file_extension": ".py",
   "mimetype": "text/x-python",
   "name": "python",
   "nbconvert_exporter": "python",
   "pygments_lexer": "ipython3",
   "version": "3.7.16"
  }
 },
 "nbformat": 4,
 "nbformat_minor": 2
}
