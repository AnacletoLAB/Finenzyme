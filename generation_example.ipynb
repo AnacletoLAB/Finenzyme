{
 "cells": [
  {
   "cell_type": "code",
   "execution_count": 1,
   "id": "d934c1d8-b018-4aa9-a529-80ad6ab026a2",
   "metadata": {},
   "outputs": [],
   "source": [
    "from generation_manager import GeneratorManager"
   ]
  },
  {
   "cell_type": "code",
   "execution_count": 2,
   "id": "cbc03b52-72e8-41a7-b869-dd5978b2d885",
   "metadata": {},
   "outputs": [
    {
     "name": "stdout",
     "output_type": "stream",
     "text": [
      "MODEL SIZE: \n",
      "1280\n",
      "Found PyTorch checkpoint at  ckpt/training_ckpt_4/model_only_state_dict_v0Last_lr0001.pth\n",
      "GPU aviable. Previous checkpoint loaded in GPU\n"
     ]
    }
   ],
   "source": [
    "# Here we set the model checkpoint path\n",
    "model_path = 'ckpt/training_ckpt_4/model_only_state_dict_v0Last_lr0001.pth' \n",
    "\n",
    "# Almost done. Let's set the generator manager with default parameters: penalty = 0, and topk = 1\n",
    "generator = GeneratorManager(model_path)"
   ]
  },
  {
   "cell_type": "code",
   "execution_count": 3,
   "id": "25b45e5c-9a82-46f4-845e-72e34a53d8f2",
   "metadata": {},
   "outputs": [
    {
     "name": "stdout",
     "output_type": "stream",
     "text": [
      "ProGen generated a protein with a prefix of  10 amino acids.\n",
      "Generated protein:\n",
      "AICAIAVMITIVMGNGNVRTNQAGLELIGNAEGCRRDPYMCPAGVWTDGIGNTHGVTPGVRKTDQQIAADWEKNILIAERCINQHFRGKDMPDNAFSAMTSAAFNMGCNSLRTYYSKARGMRVETSIHKWAQKGEWVNMCNHLPDFVNSNGVPLRGLKIRREKERQLCLTGLVNE\n",
      "Actual protein:\n",
      "AICAIAVMITIVMGNGNVRTNQAGLELIGNAEGCRRDPYMCPAGVWTDGIGNTHGVTPGVRKTDQQIAADWEKNILIAERCINQHFRGKDMPDNAFSAMTSAAFNMGCNSLRTYYSKARGMRVETSIHKWAQKGEWVNMCNHLPDFVNSNGVPLRGLKIRREKERQLCLTGLVNE\n",
      "Is the predicted protein equel to the real one? True\n"
     ]
    }
   ],
   "source": [
    "# Let's set the keywords input as the phage lysozyme keyword defined during fine-tuning\n",
    "keywords = [0]\n",
    "\n",
    "# An example sequence: the lysozyme Q37875 (source: https://www.uniprot.org/uniprotkb/Q37875/entry)\n",
    "sequence = \"MKGKTAAGGGAICAIAVMITIVMGNGNVRTNQAGLELIGNAEGCRRDPYMCPAGVWTDGIGNTHGVTPGVRKTDQQIAADWEKNILIAERCINQHFRGKDMPDNAFSAMTSAAFNMGCNSLRTYYSKARGMRVETSIHKWAQKGEWVNMCNHLPDFVNSNGVPLRGLKIRREKERQLCLTGLVNE\"\n",
    "\n",
    "# Next, we set the amino acid prefix to give in input to the model\n",
    "prefix = 10\n",
    "\n",
    "# Yey! Last step: generation. With after_n_generation we generate up to the real protein length.\n",
    "res, tokens_prob, offset = generator.after_n_generation(sequence, keywords, prefix)\n",
    "\n",
    "# Let's see what we generated\n",
    "print('ProGen generated a protein with a prefix of ', offset, 'amino acids.')\n",
    "print('Generated protein:')\n",
    "print(res)\n",
    "print('Actual protein:')\n",
    "print(sequence[prefix:])\n",
    "print('Is the predicted protein equel to the real one?', res == sequence[prefix:])\n"
   ]
  },
  {
   "cell_type": "code",
   "execution_count": null,
   "id": "2f007c84-db45-4c8e-85e0-845e16463a17",
   "metadata": {},
   "outputs": [],
   "source": []
  }
 ],
 "metadata": {
  "kernelspec": {
   "display_name": "Python 3 (ipykernel)",
   "language": "python",
   "name": "python3"
  },
  "language_info": {
   "codemirror_mode": {
    "name": "ipython",
    "version": 3
   },
   "file_extension": ".py",
   "mimetype": "text/x-python",
   "name": "python",
   "nbconvert_exporter": "python",
   "pygments_lexer": "ipython3",
   "version": "3.11.4"
  }
 },
 "nbformat": 4,
 "nbformat_minor": 5
}
