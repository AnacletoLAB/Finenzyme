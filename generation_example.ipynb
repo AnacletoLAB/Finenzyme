{
 "cells": [
  {
   "cell_type": "code",
   "execution_count": 7,
   "id": "d934c1d8-b018-4aa9-a529-80ad6ab026a2",
   "metadata": {},
   "outputs": [],
   "source": [
    "from generation_manager import GeneratorManager"
   ]
  },
  {
   "cell_type": "code",
   "execution_count": 8,
   "id": "cbc03b52-72e8-41a7-b869-dd5978b2d885",
   "metadata": {},
   "outputs": [
    {
     "name": "stdout",
     "output_type": "stream",
     "text": [
      "MODEL SIZE: \n",
      "1280\n",
      "Found PyTorch checkpoint at  ckpt/training_ckpt_4/model_only_state_dict_v0Last_lr0001.pth\n",
      "GPU aviable. Previous checkpoint loaded in GPU\n"
     ]
    }
   ],
   "source": [
    "# Here we set the model checkpoint path, \n",
    "# for this example, let's use ProGen fine-tuned on phage lysozymes.\n",
    "model_path = 'ckpt/training_ckpt_4/model_only_state_dict_v0Last_lr0001.pth' \n",
    "\n",
    "# Now, time to set the generator manager with default parameters: penalty = 0, and let's set top-k = 2\n",
    "# This class loads the model and the tokenizer in memory.\n",
    "generator = GeneratorManager(model_path, topk = 2)"
   ]
  },
  {
   "cell_type": "code",
   "execution_count": 9,
   "id": "25b45e5c-9a82-46f4-845e-72e34a53d8f2",
   "metadata": {},
   "outputs": [],
   "source": [
    "# keywords in input: phage lysozyme keyword (0) defined during fine-tuning\n",
    "keywords = [0]\n",
    "\n",
    "# An example sequence: the lysozyme Q37875 (source: https://www.uniprot.org/uniprotkb/Q37875/entry)\n",
    "sequence = \"MKGKTAAGGGAICAIAVMITIVMGNGNVRTNQAGLELIGNAEGCRRDPYMCPAGVWTDGIGNTHGVTPGVRKTDQQIAADWEKNILIAERCINQHFRGKDMPDNAFSAMTSAAFNMGCNSLRTYYSKARGMRVETSIHKWAQKGEWVNMCNHLPDFVNSNGVPLRGLKIRREKERQLCLTGLVNE\"\n",
    "\n",
    "# Next, we set the amino acid prefix to give in input to the model\n",
    "prefix = 10\n",
    "\n",
    "# Last step: generation. With after_n_generation we generate up to the real protein length.\n",
    "res, tokens_prob, offset = generator.after_n_generation(sequence, keywords, prefix)\n"
   ]
  },
  {
   "cell_type": "code",
   "execution_count": 10,
   "id": "2f007c84-db45-4c8e-85e0-845e16463a17",
   "metadata": {},
   "outputs": [
    {
     "name": "stdout",
     "output_type": "stream",
     "text": [
      "ProGen generated a protein with a prefix of  10 amino acids.\n",
      "Generated protein:\n",
      "AICAIAVMITIVMGNGNVRTNQAGLELIGNAEGCRRDPYMCPAGVWTDGIGNTHGVTPGVRKTDQQIAADWEKNILIAERCINQHFRGKDMPDNAFSAMTSAAFNMGCNSLRTYYSKARGMRVETSIHKWAQKGEWVNMCNHLPDFVNSNGVPLPGLKIRREKERQLCLTGLVNE\n",
      "Actual protein:\n",
      "AICAIAVMITIVMGNGNVRTNQAGLELIGNAEGCRRDPYMCPAGVWTDGIGNTHGVTPGVRKTDQQIAADWEKNILIAERCINQHFRGKDMPDNAFSAMTSAAFNMGCNSLRTYYSKARGMRVETSIHKWAQKGEWVNMCNHLPDFVNSNGVPLRGLKIRREKERQLCLTGLVNE\n",
      "Is the predicted protein equal to the real one? False\n"
     ]
    }
   ],
   "source": [
    "# What happened during generation?\n",
    "print('ProGen generated a protein with a prefix of ', offset, 'amino acids.')\n",
    "print('Generated protein:')\n",
    "print(res)\n",
    "print('Actual protein:')\n",
    "print(sequence[prefix:])\n",
    "print('Is the predicted protein equal to the real one?', res == sequence[prefix:])\n"
   ]
  },
  {
   "cell_type": "code",
   "execution_count": 11,
   "id": "57794df1-2d32-4113-af53-9f1cb9f7b670",
   "metadata": {},
   "outputs": [
    {
     "name": "stdout",
     "output_type": "stream",
     "text": [
      "[(154, ['R', 'P'])]\n"
     ]
    }
   ],
   "source": [
    "# here we search for indices of amino acids that differ from the natural sequence\n",
    "differing_idx = [(i, [actual, predicted]) for i, (actual, predicted) in enumerate(zip(sequence[prefix:], res)) if actual != predicted]\n",
    "print(differing_idx)"
   ]
  },
  {
   "cell_type": "code",
   "execution_count": 12,
   "id": "b25b64b6-0904-49b0-899a-ff0eb3df271b",
   "metadata": {},
   "outputs": [
    {
     "name": "stdout",
     "output_type": "stream",
     "text": [
      "The predicted sequence in index 154, has probabilities for true aa R of 0.580, and for predicted aa P of 0.390\n"
     ]
    }
   ],
   "source": [
    "# we can analyze the probabilities of these indices that we have in output from ProGen\n",
    "from tokenizer import Tokenizer\n",
    "tokenizer = Tokenizer()\n",
    "for difference in differing_idx:\n",
    "    print(f'The predicted sequence in index {difference[0]},'\n",
    "    f' has probabilities for true aa {difference[1][0]} of {tokens_prob[difference[0]][0][tokenizer.aa_to_probs_index[difference[1][0]]]:.3f},'\n",
    "    f' and for predicted aa {difference[1][1]} of {tokens_prob[difference[0]][0][tokenizer.aa_to_probs_index[difference[1][1]]]:.3f}')\n"
   ]
  },
  {
   "cell_type": "code",
   "execution_count": null,
   "id": "5dea4b37-7f1c-490b-bd5d-716296fa9d60",
   "metadata": {},
   "outputs": [],
   "source": []
  }
 ],
 "metadata": {
  "kernelspec": {
   "display_name": "Python 3 (ipykernel)",
   "language": "python",
   "name": "python3"
  },
  "language_info": {
   "codemirror_mode": {
    "name": "ipython",
    "version": 3
   },
   "file_extension": ".py",
   "mimetype": "text/x-python",
   "name": "python",
   "nbconvert_exporter": "python",
   "pygments_lexer": "ipython3",
   "version": "3.11.4"
  }
 },
 "nbformat": 4,
 "nbformat_minor": 5
}
